{
 "cells": [
  {
   "cell_type": "code",
   "execution_count": 1,
   "metadata": {},
   "outputs": [],
   "source": [
    "import pandas as pd\n",
    "import numpy as np\n",
    "import matplotlib.pyplot as plt\n",
    "import seaborn as sns\n",
    "from tqdm import tqdm\n",
    "\n",
    "# Imputing missing values and scaling values\n",
    "from sklearn.preprocessing import Imputer , MinMaxScaler\n",
    "\n",
    "# Machine Learning Models\n",
    "from sklearn.linear_model import LinearRegression\n",
    "from sklearn.ensemble import RandomForestRegressor , GradientBoostingRegressor\n",
    "from sklearn.svm import SVR\n",
    "from sklearn.neighbors import KNeighborsRegressor\n",
    "\n",
    "# Hyperparameter tuning\n",
    "from sklearn.model_selection import GridSearchCV , cross_val_score\n",
    "\n",
    "# 貝葉斯調整參數\n",
    "from hyperopt import hp\n",
    "from hyperopt.pyll.stochastic import sample\n",
    "from hyperopt import tpe\n",
    "from hyperopt import Trials\n",
    "from hyperopt import fmin\n",
    "from hyperopt import STATUS_OK"
   ]
  },
  {
   "cell_type": "markdown",
   "metadata": {},
   "source": [
    "### 讀取存檔數據"
   ]
  },
  {
   "cell_type": "code",
   "execution_count": 2,
   "metadata": {},
   "outputs": [
    {
     "name": "stdout",
     "output_type": "stream",
     "text": [
      "Training Feature Size:  (6622, 64)\n",
      "Testing Feature Size:   (2839, 64)\n",
      "Training Labels Size:   (6622, 1)\n",
      "Testing Labels Size:    (2839, 1)\n"
     ]
    }
   ],
   "source": [
    "train_features = pd.read_csv('data/training_features.csv')\n",
    "test_features = pd.read_csv('data/testing_features.csv')\n",
    "train_labels = pd.read_csv('data/training_labels.csv')\n",
    "test_labels = pd.read_csv('data/testing_labels.csv')\n",
    "\n",
    "print('Training Feature Size: ', train_features.shape)\n",
    "print('Testing Feature Size:  ', test_features.shape)\n",
    "print('Training Labels Size:  ', train_labels.shape)\n",
    "print('Testing Labels Size:   ', test_labels.shape)"
   ]
  },
  {
   "cell_type": "code",
   "execution_count": 3,
   "metadata": {},
   "outputs": [
    {
     "data": {
      "text/html": [
       "<div>\n",
       "<style scoped>\n",
       "    .dataframe tbody tr th:only-of-type {\n",
       "        vertical-align: middle;\n",
       "    }\n",
       "\n",
       "    .dataframe tbody tr th {\n",
       "        vertical-align: top;\n",
       "    }\n",
       "\n",
       "    .dataframe thead th {\n",
       "        text-align: right;\n",
       "    }\n",
       "</style>\n",
       "<table border=\"1\" class=\"dataframe\">\n",
       "  <thead>\n",
       "    <tr style=\"text-align: right;\">\n",
       "      <th></th>\n",
       "      <th>Order</th>\n",
       "      <th>Property Id</th>\n",
       "      <th>DOF Gross Floor Area</th>\n",
       "      <th>Year Built</th>\n",
       "      <th>Number of Buildings - Self-reported</th>\n",
       "      <th>Occupancy</th>\n",
       "      <th>Site EUI (kBtu/ft²)</th>\n",
       "      <th>Weather Normalized Site Electricity Intensity (kWh/ft²)</th>\n",
       "      <th>Weather Normalized Site Natural Gas Intensity (therms/ft²)</th>\n",
       "      <th>Water Intensity (All Water Sources) (gal/ft²)</th>\n",
       "      <th>...</th>\n",
       "      <th>Largest Property Use Type_Restaurant</th>\n",
       "      <th>Largest Property Use Type_Retail Store</th>\n",
       "      <th>Largest Property Use Type_Self-Storage Facility</th>\n",
       "      <th>Largest Property Use Type_Senior Care Community</th>\n",
       "      <th>Largest Property Use Type_Social/Meeting Hall</th>\n",
       "      <th>Largest Property Use Type_Strip Mall</th>\n",
       "      <th>Largest Property Use Type_Supermarket/Grocery Store</th>\n",
       "      <th>Largest Property Use Type_Urgent Care/Clinic/Other Outpatient</th>\n",
       "      <th>Largest Property Use Type_Wholesale Club/Supercenter</th>\n",
       "      <th>Largest Property Use Type_Worship Facility</th>\n",
       "    </tr>\n",
       "  </thead>\n",
       "  <tbody>\n",
       "    <tr>\n",
       "      <th>0</th>\n",
       "      <td>13276</td>\n",
       "      <td>5849784</td>\n",
       "      <td>90300.0</td>\n",
       "      <td>1950</td>\n",
       "      <td>1</td>\n",
       "      <td>100</td>\n",
       "      <td>126.0</td>\n",
       "      <td>5.2</td>\n",
       "      <td>1.2</td>\n",
       "      <td>99.41</td>\n",
       "      <td>...</td>\n",
       "      <td>0</td>\n",
       "      <td>0</td>\n",
       "      <td>0</td>\n",
       "      <td>0</td>\n",
       "      <td>0</td>\n",
       "      <td>0</td>\n",
       "      <td>0</td>\n",
       "      <td>0</td>\n",
       "      <td>0</td>\n",
       "      <td>0</td>\n",
       "    </tr>\n",
       "    <tr>\n",
       "      <th>1</th>\n",
       "      <td>7377</td>\n",
       "      <td>4398442</td>\n",
       "      <td>52000.0</td>\n",
       "      <td>1926</td>\n",
       "      <td>1</td>\n",
       "      <td>100</td>\n",
       "      <td>95.4</td>\n",
       "      <td>4.7</td>\n",
       "      <td>0.9</td>\n",
       "      <td>NaN</td>\n",
       "      <td>...</td>\n",
       "      <td>0</td>\n",
       "      <td>0</td>\n",
       "      <td>0</td>\n",
       "      <td>0</td>\n",
       "      <td>0</td>\n",
       "      <td>0</td>\n",
       "      <td>0</td>\n",
       "      <td>0</td>\n",
       "      <td>0</td>\n",
       "      <td>0</td>\n",
       "    </tr>\n",
       "    <tr>\n",
       "      <th>2</th>\n",
       "      <td>9479</td>\n",
       "      <td>4665374</td>\n",
       "      <td>104700.0</td>\n",
       "      <td>1954</td>\n",
       "      <td>1</td>\n",
       "      <td>100</td>\n",
       "      <td>40.4</td>\n",
       "      <td>3.8</td>\n",
       "      <td>0.3</td>\n",
       "      <td>NaN</td>\n",
       "      <td>...</td>\n",
       "      <td>0</td>\n",
       "      <td>0</td>\n",
       "      <td>0</td>\n",
       "      <td>0</td>\n",
       "      <td>0</td>\n",
       "      <td>0</td>\n",
       "      <td>0</td>\n",
       "      <td>0</td>\n",
       "      <td>0</td>\n",
       "      <td>0</td>\n",
       "    </tr>\n",
       "    <tr>\n",
       "      <th>3</th>\n",
       "      <td>14774</td>\n",
       "      <td>3393340</td>\n",
       "      <td>129333.0</td>\n",
       "      <td>1992</td>\n",
       "      <td>1</td>\n",
       "      <td>100</td>\n",
       "      <td>157.1</td>\n",
       "      <td>16.9</td>\n",
       "      <td>1.1</td>\n",
       "      <td>NaN</td>\n",
       "      <td>...</td>\n",
       "      <td>0</td>\n",
       "      <td>0</td>\n",
       "      <td>0</td>\n",
       "      <td>1</td>\n",
       "      <td>0</td>\n",
       "      <td>0</td>\n",
       "      <td>0</td>\n",
       "      <td>0</td>\n",
       "      <td>0</td>\n",
       "      <td>0</td>\n",
       "    </tr>\n",
       "    <tr>\n",
       "      <th>4</th>\n",
       "      <td>3286</td>\n",
       "      <td>2704325</td>\n",
       "      <td>109896.0</td>\n",
       "      <td>1927</td>\n",
       "      <td>1</td>\n",
       "      <td>100</td>\n",
       "      <td>62.3</td>\n",
       "      <td>3.5</td>\n",
       "      <td>0.0</td>\n",
       "      <td>28.65</td>\n",
       "      <td>...</td>\n",
       "      <td>0</td>\n",
       "      <td>0</td>\n",
       "      <td>0</td>\n",
       "      <td>0</td>\n",
       "      <td>0</td>\n",
       "      <td>0</td>\n",
       "      <td>0</td>\n",
       "      <td>0</td>\n",
       "      <td>0</td>\n",
       "      <td>0</td>\n",
       "    </tr>\n",
       "    <tr>\n",
       "      <th>5</th>\n",
       "      <td>1060</td>\n",
       "      <td>2430725</td>\n",
       "      <td>182655.0</td>\n",
       "      <td>1929</td>\n",
       "      <td>1</td>\n",
       "      <td>90</td>\n",
       "      <td>52.9</td>\n",
       "      <td>9.7</td>\n",
       "      <td>0.2</td>\n",
       "      <td>4.80</td>\n",
       "      <td>...</td>\n",
       "      <td>0</td>\n",
       "      <td>0</td>\n",
       "      <td>0</td>\n",
       "      <td>0</td>\n",
       "      <td>0</td>\n",
       "      <td>0</td>\n",
       "      <td>0</td>\n",
       "      <td>0</td>\n",
       "      <td>0</td>\n",
       "      <td>0</td>\n",
       "    </tr>\n",
       "    <tr>\n",
       "      <th>6</th>\n",
       "      <td>10846</td>\n",
       "      <td>5737475</td>\n",
       "      <td>65400.0</td>\n",
       "      <td>1942</td>\n",
       "      <td>1</td>\n",
       "      <td>100</td>\n",
       "      <td>66.8</td>\n",
       "      <td>3.0</td>\n",
       "      <td>0.6</td>\n",
       "      <td>67.14</td>\n",
       "      <td>...</td>\n",
       "      <td>0</td>\n",
       "      <td>0</td>\n",
       "      <td>0</td>\n",
       "      <td>0</td>\n",
       "      <td>0</td>\n",
       "      <td>0</td>\n",
       "      <td>0</td>\n",
       "      <td>0</td>\n",
       "      <td>0</td>\n",
       "      <td>0</td>\n",
       "    </tr>\n",
       "    <tr>\n",
       "      <th>7</th>\n",
       "      <td>4280</td>\n",
       "      <td>2670505</td>\n",
       "      <td>113150.0</td>\n",
       "      <td>1938</td>\n",
       "      <td>1</td>\n",
       "      <td>100</td>\n",
       "      <td>78.4</td>\n",
       "      <td>5.7</td>\n",
       "      <td>NaN</td>\n",
       "      <td>30.73</td>\n",
       "      <td>...</td>\n",
       "      <td>0</td>\n",
       "      <td>0</td>\n",
       "      <td>0</td>\n",
       "      <td>0</td>\n",
       "      <td>0</td>\n",
       "      <td>0</td>\n",
       "      <td>0</td>\n",
       "      <td>0</td>\n",
       "      <td>0</td>\n",
       "      <td>0</td>\n",
       "    </tr>\n",
       "    <tr>\n",
       "      <th>8</th>\n",
       "      <td>12974</td>\n",
       "      <td>2964670</td>\n",
       "      <td>137700.0</td>\n",
       "      <td>1959</td>\n",
       "      <td>1</td>\n",
       "      <td>100</td>\n",
       "      <td>63.0</td>\n",
       "      <td>3.4</td>\n",
       "      <td>0.5</td>\n",
       "      <td>41.96</td>\n",
       "      <td>...</td>\n",
       "      <td>0</td>\n",
       "      <td>0</td>\n",
       "      <td>0</td>\n",
       "      <td>0</td>\n",
       "      <td>0</td>\n",
       "      <td>0</td>\n",
       "      <td>0</td>\n",
       "      <td>0</td>\n",
       "      <td>0</td>\n",
       "      <td>0</td>\n",
       "    </tr>\n",
       "    <tr>\n",
       "      <th>9</th>\n",
       "      <td>13244</td>\n",
       "      <td>4414693</td>\n",
       "      <td>63693.0</td>\n",
       "      <td>1941</td>\n",
       "      <td>1</td>\n",
       "      <td>100</td>\n",
       "      <td>97.8</td>\n",
       "      <td>4.3</td>\n",
       "      <td>0.8</td>\n",
       "      <td>86.88</td>\n",
       "      <td>...</td>\n",
       "      <td>0</td>\n",
       "      <td>0</td>\n",
       "      <td>0</td>\n",
       "      <td>0</td>\n",
       "      <td>0</td>\n",
       "      <td>0</td>\n",
       "      <td>0</td>\n",
       "      <td>0</td>\n",
       "      <td>0</td>\n",
       "      <td>0</td>\n",
       "    </tr>\n",
       "  </tbody>\n",
       "</table>\n",
       "<p>10 rows × 64 columns</p>\n",
       "</div>"
      ],
      "text/plain": [
       "   Order  Property Id  DOF Gross Floor Area  Year Built  \\\n",
       "0  13276      5849784               90300.0        1950   \n",
       "1   7377      4398442               52000.0        1926   \n",
       "2   9479      4665374              104700.0        1954   \n",
       "3  14774      3393340              129333.0        1992   \n",
       "4   3286      2704325              109896.0        1927   \n",
       "5   1060      2430725              182655.0        1929   \n",
       "6  10846      5737475               65400.0        1942   \n",
       "7   4280      2670505              113150.0        1938   \n",
       "8  12974      2964670              137700.0        1959   \n",
       "9  13244      4414693               63693.0        1941   \n",
       "\n",
       "   Number of Buildings - Self-reported  Occupancy  Site EUI (kBtu/ft²)  \\\n",
       "0                                    1        100                126.0   \n",
       "1                                    1        100                 95.4   \n",
       "2                                    1        100                 40.4   \n",
       "3                                    1        100                157.1   \n",
       "4                                    1        100                 62.3   \n",
       "5                                    1         90                 52.9   \n",
       "6                                    1        100                 66.8   \n",
       "7                                    1        100                 78.4   \n",
       "8                                    1        100                 63.0   \n",
       "9                                    1        100                 97.8   \n",
       "\n",
       "   Weather Normalized Site Electricity Intensity (kWh/ft²)  \\\n",
       "0                                                5.2         \n",
       "1                                                4.7         \n",
       "2                                                3.8         \n",
       "3                                               16.9         \n",
       "4                                                3.5         \n",
       "5                                                9.7         \n",
       "6                                                3.0         \n",
       "7                                                5.7         \n",
       "8                                                3.4         \n",
       "9                                                4.3         \n",
       "\n",
       "   Weather Normalized Site Natural Gas Intensity (therms/ft²)  \\\n",
       "0                                                1.2            \n",
       "1                                                0.9            \n",
       "2                                                0.3            \n",
       "3                                                1.1            \n",
       "4                                                0.0            \n",
       "5                                                0.2            \n",
       "6                                                0.6            \n",
       "7                                                NaN            \n",
       "8                                                0.5            \n",
       "9                                                0.8            \n",
       "\n",
       "   Water Intensity (All Water Sources) (gal/ft²)  ...  \\\n",
       "0                                          99.41  ...   \n",
       "1                                            NaN  ...   \n",
       "2                                            NaN  ...   \n",
       "3                                            NaN  ...   \n",
       "4                                          28.65  ...   \n",
       "5                                           4.80  ...   \n",
       "6                                          67.14  ...   \n",
       "7                                          30.73  ...   \n",
       "8                                          41.96  ...   \n",
       "9                                          86.88  ...   \n",
       "\n",
       "   Largest Property Use Type_Restaurant  \\\n",
       "0                                     0   \n",
       "1                                     0   \n",
       "2                                     0   \n",
       "3                                     0   \n",
       "4                                     0   \n",
       "5                                     0   \n",
       "6                                     0   \n",
       "7                                     0   \n",
       "8                                     0   \n",
       "9                                     0   \n",
       "\n",
       "   Largest Property Use Type_Retail Store  \\\n",
       "0                                       0   \n",
       "1                                       0   \n",
       "2                                       0   \n",
       "3                                       0   \n",
       "4                                       0   \n",
       "5                                       0   \n",
       "6                                       0   \n",
       "7                                       0   \n",
       "8                                       0   \n",
       "9                                       0   \n",
       "\n",
       "   Largest Property Use Type_Self-Storage Facility  \\\n",
       "0                                                0   \n",
       "1                                                0   \n",
       "2                                                0   \n",
       "3                                                0   \n",
       "4                                                0   \n",
       "5                                                0   \n",
       "6                                                0   \n",
       "7                                                0   \n",
       "8                                                0   \n",
       "9                                                0   \n",
       "\n",
       "   Largest Property Use Type_Senior Care Community  \\\n",
       "0                                                0   \n",
       "1                                                0   \n",
       "2                                                0   \n",
       "3                                                1   \n",
       "4                                                0   \n",
       "5                                                0   \n",
       "6                                                0   \n",
       "7                                                0   \n",
       "8                                                0   \n",
       "9                                                0   \n",
       "\n",
       "   Largest Property Use Type_Social/Meeting Hall  \\\n",
       "0                                              0   \n",
       "1                                              0   \n",
       "2                                              0   \n",
       "3                                              0   \n",
       "4                                              0   \n",
       "5                                              0   \n",
       "6                                              0   \n",
       "7                                              0   \n",
       "8                                              0   \n",
       "9                                              0   \n",
       "\n",
       "   Largest Property Use Type_Strip Mall  \\\n",
       "0                                     0   \n",
       "1                                     0   \n",
       "2                                     0   \n",
       "3                                     0   \n",
       "4                                     0   \n",
       "5                                     0   \n",
       "6                                     0   \n",
       "7                                     0   \n",
       "8                                     0   \n",
       "9                                     0   \n",
       "\n",
       "   Largest Property Use Type_Supermarket/Grocery Store  \\\n",
       "0                                                  0     \n",
       "1                                                  0     \n",
       "2                                                  0     \n",
       "3                                                  0     \n",
       "4                                                  0     \n",
       "5                                                  0     \n",
       "6                                                  0     \n",
       "7                                                  0     \n",
       "8                                                  0     \n",
       "9                                                  0     \n",
       "\n",
       "   Largest Property Use Type_Urgent Care/Clinic/Other Outpatient  \\\n",
       "0                                                  0               \n",
       "1                                                  0               \n",
       "2                                                  0               \n",
       "3                                                  0               \n",
       "4                                                  0               \n",
       "5                                                  0               \n",
       "6                                                  0               \n",
       "7                                                  0               \n",
       "8                                                  0               \n",
       "9                                                  0               \n",
       "\n",
       "   Largest Property Use Type_Wholesale Club/Supercenter  \\\n",
       "0                                                  0      \n",
       "1                                                  0      \n",
       "2                                                  0      \n",
       "3                                                  0      \n",
       "4                                                  0      \n",
       "5                                                  0      \n",
       "6                                                  0      \n",
       "7                                                  0      \n",
       "8                                                  0      \n",
       "9                                                  0      \n",
       "\n",
       "   Largest Property Use Type_Worship Facility  \n",
       "0                                           0  \n",
       "1                                           0  \n",
       "2                                           0  \n",
       "3                                           0  \n",
       "4                                           0  \n",
       "5                                           0  \n",
       "6                                           0  \n",
       "7                                           0  \n",
       "8                                           0  \n",
       "9                                           0  \n",
       "\n",
       "[10 rows x 64 columns]"
      ]
     },
     "execution_count": 3,
     "metadata": {},
     "output_type": "execute_result"
    }
   ],
   "source": [
    "train_features.head(10)"
   ]
  },
  {
   "cell_type": "markdown",
   "metadata": {},
   "source": [
    "### 缺失值填充"
   ]
  },
  {
   "cell_type": "markdown",
   "metadata": {},
   "source": [
    "在sklearn中，可以使用Scikit-learn的Imputer來進行缺失值填充<br>\n",
    "對於測試集中使用訓練集中的結果來進行填充，目的在於防止[data leakage](https://www.kaggle.com/dansbecker/data-leakage)<br>\n",
    "在做機器學習的題目時，應避免測試集的資訊出現再訓練集中"
   ]
  },
  {
   "cell_type": "code",
   "execution_count": 4,
   "metadata": {},
   "outputs": [
    {
     "name": "stderr",
     "output_type": "stream",
     "text": [
      "C:\\Users\\peng\\Anaconda3\\lib\\site-packages\\sklearn\\utils\\deprecation.py:66: DeprecationWarning: Class Imputer is deprecated; Imputer was deprecated in version 0.20 and will be removed in 0.22. Import impute.SimpleImputer from sklearn instead.\n",
      "  warnings.warn(msg, category=DeprecationWarning)\n"
     ]
    }
   ],
   "source": [
    "imputer = Imputer(strategy = 'median') # 以中位數來填充缺失值\n",
    "imputer.fit(train_features)\n",
    "\n",
    "X = imputer.transform(train_features)\n",
    "X_test = imputer.transform(test_features)"
   ]
  },
  {
   "cell_type": "code",
   "execution_count": 5,
   "metadata": {},
   "outputs": [
    {
     "name": "stdout",
     "output_type": "stream",
     "text": [
      "Missing values in training features : 0\n",
      "Missing values in testing features : 0\n",
      "(array([], dtype=int64), array([], dtype=int64))\n",
      "(array([], dtype=int64), array([], dtype=int64))\n"
     ]
    }
   ],
   "source": [
    "print('Missing values in training features : {}'.format(np.sum(np.isnan(X))))\n",
    "print('Missing values in testing features : {}'.format(np.sum(np.isnan(X_test))))\n",
    "print(np.where(~np.isfinite(X)))\n",
    "print(np.where(~np.isfinite(X_test)))"
   ]
  },
  {
   "cell_type": "markdown",
   "metadata": {},
   "source": [
    "對缺失值填充有各種各樣的方法 [this article](https://www.tandfonline.com/doi/full/10.1080/1743727X.2014.979146)"
   ]
  },
  {
   "cell_type": "markdown",
   "metadata": {},
   "source": [
    "### 特徵標準化與歸一化"
   ]
  },
  {
   "cell_type": "code",
   "execution_count": 6,
   "metadata": {},
   "outputs": [],
   "source": [
    "# 將數值型數據減掉最小值，在除上最大值與最小值的差\n",
    "scaler = MinMaxScaler(feature_range = [0 , 1])\n",
    "scaler.fit(X)\n",
    "X = scaler.transform(X)\n",
    "X_test = scaler.transform(X_test)"
   ]
  },
  {
   "cell_type": "code",
   "execution_count": 7,
   "metadata": {},
   "outputs": [],
   "source": [
    "y = np.array(train_labels).reshape([-1 , ])\n",
    "y_test = np.array(test_labels).reshape([-1 , ])"
   ]
  },
  {
   "cell_type": "markdown",
   "metadata": {},
   "source": [
    "### 選擇的機器學習算法（回歸問題）\n",
    "\n",
    "1. Linear Regression\n",
    "2. Support Vector Machine Regression\n",
    "3. Random Forest Regression\n",
    "4. Gradient Boosting Regression\n",
    "5. K-Nearest Neighbors Regression\n",
    "\n",
    "只選擇其默認的參數，這裡先不進行調參工作，後續再來調參"
   ]
  },
  {
   "cell_type": "code",
   "execution_count": 8,
   "metadata": {},
   "outputs": [],
   "source": [
    "def fit_and_evaluate(model):\n",
    "    \n",
    "    # Train the model\n",
    "    model.fit(X, y)\n",
    "    \n",
    "    # Make predictions and evalute\n",
    "    y_pred = model.predict(X_test)\n",
    "    \n",
    "    model_mae = np.mean(abs(y_test - y_pred))\n",
    "    \n",
    "    return model_mae"
   ]
  },
  {
   "cell_type": "code",
   "execution_count": 9,
   "metadata": {},
   "outputs": [
    {
     "name": "stdout",
     "output_type": "stream",
     "text": [
      "Linear Regression Performance on the test set : 13.47\n"
     ]
    }
   ],
   "source": [
    "lr = LinearRegression()\n",
    "lr_mae = fit_and_evaluate(lr)\n",
    "print('Linear Regression Performance on the test set : {:.2f}'.format(lr_mae))"
   ]
  },
  {
   "cell_type": "code",
   "execution_count": 10,
   "metadata": {},
   "outputs": [
    {
     "name": "stdout",
     "output_type": "stream",
     "text": [
      "Support Vector Machine Regression Performance on the test set : 10.93\n"
     ]
    }
   ],
   "source": [
    "svm = SVR(C = 1000 , gamma = 0.1)\n",
    "svm_mae = fit_and_evaluate(svm)\n",
    "print('Support Vector Machine Regression Performance on the test set : {:.2f}'.format(svm_mae))"
   ]
  },
  {
   "cell_type": "code",
   "execution_count": 11,
   "metadata": {},
   "outputs": [
    {
     "name": "stderr",
     "output_type": "stream",
     "text": [
      "C:\\Users\\peng\\Anaconda3\\lib\\site-packages\\sklearn\\ensemble\\forest.py:245: FutureWarning: The default value of n_estimators will change from 10 in version 0.20 to 100 in 0.22.\n",
      "  \"10 in version 0.20 to 100 in 0.22.\", FutureWarning)\n"
     ]
    },
    {
     "name": "stdout",
     "output_type": "stream",
     "text": [
      "Random Forest Regression Performance on the test set : 10.01\n"
     ]
    }
   ],
   "source": [
    "random_forest = RandomForestRegressor(random_state = 60)\n",
    "random_forest_mae = fit_and_evaluate(random_forest)\n",
    "print('Random Forest Regression Performance on the test set : {:.2f}'.format(random_forest_mae))"
   ]
  },
  {
   "cell_type": "code",
   "execution_count": 12,
   "metadata": {},
   "outputs": [
    {
     "name": "stdout",
     "output_type": "stream",
     "text": [
      "Gradient Boosted Regression Performance on the test set : 10.01\n"
     ]
    }
   ],
   "source": [
    "gradient_boosted = GradientBoostingRegressor(random_state = 60)\n",
    "gradient_boosted_mae = fit_and_evaluate(gradient_boosted)\n",
    "print('Gradient Boosted Regression Performance on the test set : {:.2f}'.format(gradient_boosted_mae))"
   ]
  },
  {
   "cell_type": "code",
   "execution_count": 13,
   "metadata": {},
   "outputs": [
    {
     "name": "stdout",
     "output_type": "stream",
     "text": [
      "K-Nearest Neighbors Regression Performance on the test set : 13.01\n"
     ]
    }
   ],
   "source": [
    "knn = KNeighborsRegressor(n_neighbors = 10)\n",
    "knn_mae = fit_and_evaluate(knn)\n",
    "print('K-Nearest Neighbors Regression Performance on the test set : {:.2f}'.format(knn_mae))"
   ]
  },
  {
   "cell_type": "code",
   "execution_count": 14,
   "metadata": {},
   "outputs": [],
   "source": [
    "model_comparison = pd.DataFrame({'model': ['Linear Regression' ,  'Support Vector Machine' , 'Random Forest', 'Gradient Boosted' , 'K-Nearest Neighbors'],\n",
    "                                 'mae': [lr_mae , svm_mae , random_forest_mae , gradient_boosted_mae , knn_mae]})\n",
    " \n",
    "model_comparison.sort_values('mae' , ascending = False , inplace = True)"
   ]
  },
  {
   "cell_type": "code",
   "execution_count": 15,
   "metadata": {},
   "outputs": [
    {
     "data": {
      "text/plain": [
       "Text(0, 0.5, 'Mean Absolute')"
      ]
     },
     "execution_count": 15,
     "metadata": {},
     "output_type": "execute_result"
    },
    {
     "data": {
      "image/png": "[encoded data removed]",
      "text/plain": [
       "<Figure size 1440x720 with 1 Axes>"
      ]
     },
     "metadata": {
      "needs_background": "light"
     },
     "output_type": "display_data"
    }
   ],
   "source": [
    "fig, ax = plt.subplots(1 , 1 , figsize = (20 , 10))\n",
    "ax.bar(model_comparison['model'] , model_comparison['mae'] , alpha = 0.5 , width = 0.5 , facecolor = 'pink' , edgecolor = 'black')\n",
    "ax.set_xlabel('Model' , fontsize = 20)\n",
    "ax.set_ylabel('Mean Absolute' , fontsize = 20)"
   ]
  },
  {
   "cell_type": "markdown",
   "metadata": {},
   "source": [
    "看起來集成算法更占優勢一些，但不太公平，因為參數都只用了默認<br>\n",
    "而對於SVM來說參數可能影響會更大一些"
   ]
  },
  {
   "cell_type": "markdown",
   "metadata": {},
   "source": [
    "### 調參"
   ]
  },
  {
   "cell_type": "markdown",
   "metadata": {},
   "source": [
    "在gradient boosting算法中，先選擇6組可調參數，目的就是找到最好的組合\n",
    "* `estimator`: the model\n",
    "* `param_distributions`: the distribution of parameters we defined\n",
    "* `cv` the number of folds to use for k-fold cross validation\n",
    "* `n_iter`: the number of different combinations to try\n",
    "* `scoring`: which metric to use when evaluating candidates\n",
    "* `n_jobs`: number of cores to run in parallel (-1 will use all available)\n",
    "* `verbose`: how much information to display (1 displays a limited amount) \n",
    "* `return_train_score`: return the training score for each cross-validation fold\n",
    "* `random_state`: fixes the random number generator used so we get the same results every run"
   ]
  },
  {
   "cell_type": "code",
   "execution_count": 16,
   "metadata": {},
   "outputs": [
    {
     "data": {
      "text/plain": [
       "{'loss': 'huber',\n",
       " 'max_depth': 6.0,\n",
       " 'max_features': 'sqrt',\n",
       " 'min_samples_leaf': 5.0,\n",
       " 'min_samples_split': 6.0,\n",
       " 'n_estimators': 1000.0}"
      ]
     },
     "execution_count": 16,
     "metadata": {},
     "output_type": "execute_result"
    }
   ],
   "source": [
    "space = {'loss' : hp.choice('loss' , ['ls' , 'lad' , 'huber']) ,\n",
    "         'n_estimators' : hp.quniform('n_estimators' , 100 , 1500 , 100) ,\n",
    "         'max_depth' : hp.quniform('max_depth' , 2 , 15 , 1) ,\n",
    "         'min_samples_leaf' : hp.quniform('min_samples_leaf' , 1 , 8 , 1),\n",
    "         'min_samples_split' : hp.quniform('min_samples_split' , 2 , 10 , 1) ,\n",
    "         'max_features' : hp.choice('max_features' , ['auto' , 'sqrt' , 'log2' , None])}\n",
    "\n",
    "x = sample(space) # 在參數空間進行採樣\n",
    "x"
   ]
  },
  {
   "cell_type": "code",
   "execution_count": 21,
   "metadata": {},
   "outputs": [],
   "source": [
    "global iteration\n",
    "iteration = 0\n",
    "def objective(params , n_folds = 10):   \n",
    "    \n",
    "    global iteration\n",
    "    iteration += 1\n",
    "    \n",
    "    # 保證'num_leaves', 'subsample_for_bin', 'min_child_samples'都是整數值\n",
    "    for parameter_name in ['n_estimators' , 'max_depth' , 'min_samples_leaf' , 'min_samples_split']:\n",
    "        params[parameter_name] = int(params[parameter_name])\n",
    "        \n",
    "    model = GradientBoostingRegressor(n_iter_no_change = 100 , random_state = 42 , **params)\n",
    "    \n",
    "    cv_result = cross_val_score(estimator = model , X = X , y = y , scoring = 'neg_mean_absolute_error' , cv = n_folds)\n",
    "    \n",
    "    # Loss must be minimized\n",
    "    loss = -1 * cv_result.mean()\n",
    "\n",
    "    # Dictionary with information for evaluation\n",
    "    return {'loss': loss , 'params': params , 'iteration': iteration , 'status': STATUS_OK}"
   ]
  },
  {
   "cell_type": "code",
   "execution_count": 22,
   "metadata": {},
   "outputs": [
    {
     "name": "stdout",
     "output_type": "stream",
     "text": [
      "100%|█████████████████████████████████████████████████| 25/25 [1:40:02<00:00, 108.38s/it, best loss: 8.949369152353814]\n"
     ]
    }
   ],
   "source": [
    "# optimization algorithm\n",
    "tpe_algorithm = tpe.suggest\n",
    "\n",
    "# Keep track of results\n",
    "trials = Trials()\n",
    "\n",
    "best = fmin(fn = objective ,\n",
    "            space = space ,\n",
    "            algo = tpe.suggest, \n",
    "            max_evals = 25 , \n",
    "            trials = trials , \n",
    "            rstate = np.random.RandomState(42))"
   ]
  },
  {
   "cell_type": "code",
   "execution_count": 31,
   "metadata": {},
   "outputs": [
    {
     "data": {
      "text/html": [
       "<div>\n",
       "<style scoped>\n",
       "    .dataframe tbody tr th:only-of-type {\n",
       "        vertical-align: middle;\n",
       "    }\n",
       "\n",
       "    .dataframe tbody tr th {\n",
       "        vertical-align: top;\n",
       "    }\n",
       "\n",
       "    .dataframe thead th {\n",
       "        text-align: right;\n",
       "    }\n",
       "</style>\n",
       "<table border=\"1\" class=\"dataframe\">\n",
       "  <thead>\n",
       "    <tr style=\"text-align: right;\">\n",
       "      <th></th>\n",
       "      <th>loss</th>\n",
       "      <th>params</th>\n",
       "      <th>iteration</th>\n",
       "    </tr>\n",
       "  </thead>\n",
       "  <tbody>\n",
       "    <tr>\n",
       "      <th>0</th>\n",
       "      <td>8.94937</td>\n",
       "      <td>{'loss': 'huber', 'max_depth': 6, 'max_feature...</td>\n",
       "      <td>22</td>\n",
       "    </tr>\n",
       "    <tr>\n",
       "      <th>1</th>\n",
       "      <td>8.99532</td>\n",
       "      <td>{'loss': 'huber', 'max_depth': 6, 'max_feature...</td>\n",
       "      <td>23</td>\n",
       "    </tr>\n",
       "    <tr>\n",
       "      <th>2</th>\n",
       "      <td>8.99532</td>\n",
       "      <td>{'loss': 'huber', 'max_depth': 6, 'max_feature...</td>\n",
       "      <td>24</td>\n",
       "    </tr>\n",
       "    <tr>\n",
       "      <th>3</th>\n",
       "      <td>9.008</td>\n",
       "      <td>{'loss': 'huber', 'max_depth': 4, 'max_feature...</td>\n",
       "      <td>4</td>\n",
       "    </tr>\n",
       "    <tr>\n",
       "      <th>4</th>\n",
       "      <td>9.03645</td>\n",
       "      <td>{'loss': 'huber', 'max_depth': 7, 'max_feature...</td>\n",
       "      <td>21</td>\n",
       "    </tr>\n",
       "  </tbody>\n",
       "</table>\n",
       "</div>"
      ],
      "text/plain": [
       "      loss                                             params iteration\n",
       "0  8.94937  {'loss': 'huber', 'max_depth': 6, 'max_feature...        22\n",
       "1  8.99532  {'loss': 'huber', 'max_depth': 6, 'max_feature...        23\n",
       "2  8.99532  {'loss': 'huber', 'max_depth': 6, 'max_feature...        24\n",
       "3    9.008  {'loss': 'huber', 'max_depth': 4, 'max_feature...         4\n",
       "4  9.03645  {'loss': 'huber', 'max_depth': 7, 'max_feature...        21"
      ]
     },
     "execution_count": 31,
     "metadata": {},
     "output_type": "execute_result"
    }
   ],
   "source": [
    "# 將迭代過程以'loss'由小到大排列\n",
    "trials_results_temp = sorted(trials.results , key = lambda x : x['loss'])\n",
    "\n",
    "# 將迭代過程存到DataFrame\n",
    "trials_results_ = pd.DataFrame(columns = ['loss' , 'params' , 'iteration'],\n",
    "                               index = list(range(0 , 1000)))\n",
    "for i in range(0 , 25):\n",
    "    trials_results_.iloc[i , :] = trials_results_temp[i]\n",
    "    \n",
    "# 將所有結果存檔    \n",
    "trials_results_.to_csv('trials_results.csv') \n",
    "trials_results_.head()"
   ]
  },
  {
   "cell_type": "code",
   "execution_count": 33,
   "metadata": {},
   "outputs": [
    {
     "data": {
      "text/plain": [
       "{'loss': 'huber',\n",
       " 'max_depth': 6,\n",
       " 'max_features': None,\n",
       " 'min_samples_leaf': 1,\n",
       " 'min_samples_split': 10,\n",
       " 'n_estimators': 200}"
      ]
     },
     "execution_count": 33,
     "metadata": {},
     "output_type": "execute_result"
    }
   ],
   "source": [
    "trials_results_['params'][0] # 取得bayes search找出最好的參數"
   ]
  },
  {
   "cell_type": "markdown",
   "metadata": {},
   "source": [
    "random search可以幫找大概找到合理的參數位置，但是可能沒那麽精確<br>\n",
    "grid search可以更清晰的看到隨著參數的變化，對模型產生的影響，這裡先用grid search找到最優化`n_estimators`"
   ]
  },
  {
   "cell_type": "code",
   "execution_count": 65,
   "metadata": {},
   "outputs": [
    {
     "name": "stdout",
     "output_type": "stream",
     "text": [
      "Fitting 4 folds for each of 15 candidates, totalling 60 fits\n"
     ]
    },
    {
     "name": "stderr",
     "output_type": "stream",
     "text": [
      "[Parallel(n_jobs=-1)]: Using backend LokyBackend with 4 concurrent workers.\n",
      "[Parallel(n_jobs=-1)]: Done  42 tasks      | elapsed:  4.2min\n",
      "[Parallel(n_jobs=-1)]: Done  60 out of  60 | elapsed:  7.7min finished\n"
     ]
    },
    {
     "data": {
      "text/plain": [
       "GridSearchCV(cv=4, error_score='raise-deprecating',\n",
       "             estimator=GradientBoostingRegressor(alpha=0.9,\n",
       "                                                 criterion='friedman_mse',\n",
       "                                                 init=None, learning_rate=0.1,\n",
       "                                                 loss='huber', max_depth=6,\n",
       "                                                 max_features=None,\n",
       "                                                 max_leaf_nodes=None,\n",
       "                                                 min_impurity_decrease=0.0,\n",
       "                                                 min_impurity_split=None,\n",
       "                                                 min_samples_leaf=1,\n",
       "                                                 min_samples_split=10,\n",
       "                                                 min_weight_fraction_leaf=0.0,\n",
       "                                                 n_estimators=200,\n",
       "                                                 n_iter_no_change=None,\n",
       "                                                 presort='auto',\n",
       "                                                 random_state=42, subsample=1.0,\n",
       "                                                 tol=0.0001,\n",
       "                                                 validation_fraction=0.1,\n",
       "                                                 verbose=0, warm_start=False),\n",
       "             iid='warn', n_jobs=-1,\n",
       "             param_grid={'n_estimators': [100, 150, 200, 250, 300, 350, 400,\n",
       "                                          450, 500, 550, 600, 650, 700, 750,\n",
       "                                          800]},\n",
       "             pre_dispatch='2*n_jobs', refit=True, return_train_score=True,\n",
       "             scoring='neg_mean_absolute_error', verbose=1)"
      ]
     },
     "execution_count": 65,
     "metadata": {},
     "output_type": "execute_result"
    }
   ],
   "source": [
    "# 用grid search找出最佳的'n_estimators'\n",
    "trees_grid = {'n_estimators' : [100 , 150 , 200 , 250 , 300 , 350 , 400 , 450 , 500 , 550 , 600 , 650 , 700 , 750 , 800]}\n",
    "\n",
    "model = GradientBoostingRegressor(random_state = 42 , **trials_results_['params'][0])\n",
    "\n",
    "grid_search = GridSearchCV(estimator = model ,\n",
    "                           param_grid = trees_grid ,\n",
    "                           cv = 4 , \n",
    "                           scoring = 'neg_mean_absolute_error' ,\n",
    "                           verbose = 1 , \n",
    "                           n_jobs = -1 ,\n",
    "                           return_train_score = True)\n",
    "\n",
    "grid_search.fit(X , y)"
   ]
  },
  {
   "cell_type": "code",
   "execution_count": 66,
   "metadata": {},
   "outputs": [
    {
     "data": {
      "text/plain": [
       "{'alpha': 0.9,\n",
       " 'criterion': 'friedman_mse',\n",
       " 'init': None,\n",
       " 'learning_rate': 0.1,\n",
       " 'loss': 'huber',\n",
       " 'max_depth': 6,\n",
       " 'max_features': None,\n",
       " 'max_leaf_nodes': None,\n",
       " 'min_impurity_decrease': 0.0,\n",
       " 'min_impurity_split': None,\n",
       " 'min_samples_leaf': 1,\n",
       " 'min_samples_split': 10,\n",
       " 'min_weight_fraction_leaf': 0.0,\n",
       " 'n_estimators': 150,\n",
       " 'n_iter_no_change': None,\n",
       " 'presort': 'auto',\n",
       " 'random_state': 42,\n",
       " 'subsample': 1.0,\n",
       " 'tol': 0.0001,\n",
       " 'validation_fraction': 0.1,\n",
       " 'verbose': 0,\n",
       " 'warm_start': False}"
      ]
     },
     "execution_count": 66,
     "metadata": {},
     "output_type": "execute_result"
    }
   ],
   "source": [
    "grid_search.best_estimator_.get_params() # 取得grid search找出最好的參數"
   ]
  },
  {
   "cell_type": "code",
   "execution_count": 67,
   "metadata": {},
   "outputs": [
    {
     "data": {
      "text/html": [
       "<div>\n",
       "<style scoped>\n",
       "    .dataframe tbody tr th:only-of-type {\n",
       "        vertical-align: middle;\n",
       "    }\n",
       "\n",
       "    .dataframe tbody tr th {\n",
       "        vertical-align: top;\n",
       "    }\n",
       "\n",
       "    .dataframe thead th {\n",
       "        text-align: right;\n",
       "    }\n",
       "</style>\n",
       "<table border=\"1\" class=\"dataframe\">\n",
       "  <thead>\n",
       "    <tr style=\"text-align: right;\">\n",
       "      <th></th>\n",
       "      <th>mean_fit_time</th>\n",
       "      <th>std_fit_time</th>\n",
       "      <th>mean_score_time</th>\n",
       "      <th>std_score_time</th>\n",
       "      <th>param_n_estimators</th>\n",
       "      <th>params</th>\n",
       "      <th>split0_test_score</th>\n",
       "      <th>split1_test_score</th>\n",
       "      <th>split2_test_score</th>\n",
       "      <th>split3_test_score</th>\n",
       "      <th>mean_test_score</th>\n",
       "      <th>std_test_score</th>\n",
       "      <th>rank_test_score</th>\n",
       "      <th>split0_train_score</th>\n",
       "      <th>split1_train_score</th>\n",
       "      <th>split2_train_score</th>\n",
       "      <th>split3_train_score</th>\n",
       "      <th>mean_train_score</th>\n",
       "      <th>std_train_score</th>\n",
       "    </tr>\n",
       "  </thead>\n",
       "  <tbody>\n",
       "    <tr>\n",
       "      <th>0</th>\n",
       "      <td>6.706590</td>\n",
       "      <td>0.032590</td>\n",
       "      <td>0.008985</td>\n",
       "      <td>0.006841</td>\n",
       "      <td>100</td>\n",
       "      <td>{'n_estimators': 100}</td>\n",
       "      <td>-8.840061</td>\n",
       "      <td>-8.913212</td>\n",
       "      <td>-9.288905</td>\n",
       "      <td>-9.072325</td>\n",
       "      <td>-9.028580</td>\n",
       "      <td>0.172138</td>\n",
       "      <td>8</td>\n",
       "      <td>-6.119756</td>\n",
       "      <td>-6.147452</td>\n",
       "      <td>-6.003097</td>\n",
       "      <td>-6.081047</td>\n",
       "      <td>-6.087838</td>\n",
       "      <td>0.054314</td>\n",
       "    </tr>\n",
       "    <tr>\n",
       "      <th>1</th>\n",
       "      <td>9.154055</td>\n",
       "      <td>0.128487</td>\n",
       "      <td>0.019527</td>\n",
       "      <td>0.006765</td>\n",
       "      <td>150</td>\n",
       "      <td>{'n_estimators': 150}</td>\n",
       "      <td>-8.833716</td>\n",
       "      <td>-8.872911</td>\n",
       "      <td>-9.243285</td>\n",
       "      <td>-8.997316</td>\n",
       "      <td>-8.986767</td>\n",
       "      <td>0.159915</td>\n",
       "      <td>1</td>\n",
       "      <td>-5.417988</td>\n",
       "      <td>-5.461185</td>\n",
       "      <td>-5.353362</td>\n",
       "      <td>-5.327546</td>\n",
       "      <td>-5.390020</td>\n",
       "      <td>0.052663</td>\n",
       "    </tr>\n",
       "    <tr>\n",
       "      <th>2</th>\n",
       "      <td>11.715182</td>\n",
       "      <td>0.079884</td>\n",
       "      <td>0.015621</td>\n",
       "      <td>0.000002</td>\n",
       "      <td>200</td>\n",
       "      <td>{'n_estimators': 200}</td>\n",
       "      <td>-8.812018</td>\n",
       "      <td>-8.899448</td>\n",
       "      <td>-9.246934</td>\n",
       "      <td>-8.997371</td>\n",
       "      <td>-8.988903</td>\n",
       "      <td>0.162738</td>\n",
       "      <td>2</td>\n",
       "      <td>-4.901738</td>\n",
       "      <td>-4.863930</td>\n",
       "      <td>-4.855831</td>\n",
       "      <td>-4.787092</td>\n",
       "      <td>-4.852148</td>\n",
       "      <td>0.041364</td>\n",
       "    </tr>\n",
       "    <tr>\n",
       "      <th>3</th>\n",
       "      <td>16.930806</td>\n",
       "      <td>0.199499</td>\n",
       "      <td>0.022354</td>\n",
       "      <td>0.000844</td>\n",
       "      <td>250</td>\n",
       "      <td>{'n_estimators': 250}</td>\n",
       "      <td>-8.798271</td>\n",
       "      <td>-8.927945</td>\n",
       "      <td>-9.252292</td>\n",
       "      <td>-9.007841</td>\n",
       "      <td>-8.996547</td>\n",
       "      <td>0.165489</td>\n",
       "      <td>3</td>\n",
       "      <td>-4.425887</td>\n",
       "      <td>-4.441342</td>\n",
       "      <td>-4.411257</td>\n",
       "      <td>-4.316599</td>\n",
       "      <td>-4.398771</td>\n",
       "      <td>0.048620</td>\n",
       "    </tr>\n",
       "    <tr>\n",
       "      <th>4</th>\n",
       "      <td>20.011862</td>\n",
       "      <td>0.113585</td>\n",
       "      <td>0.026940</td>\n",
       "      <td>0.002246</td>\n",
       "      <td>300</td>\n",
       "      <td>{'n_estimators': 300}</td>\n",
       "      <td>-8.819669</td>\n",
       "      <td>-8.932916</td>\n",
       "      <td>-9.229838</td>\n",
       "      <td>-9.023044</td>\n",
       "      <td>-9.001329</td>\n",
       "      <td>0.150303</td>\n",
       "      <td>5</td>\n",
       "      <td>-4.011828</td>\n",
       "      <td>-4.024887</td>\n",
       "      <td>-3.975979</td>\n",
       "      <td>-3.880787</td>\n",
       "      <td>-3.973370</td>\n",
       "      <td>0.056372</td>\n",
       "    </tr>\n",
       "    <tr>\n",
       "      <th>5</th>\n",
       "      <td>23.855528</td>\n",
       "      <td>0.027210</td>\n",
       "      <td>0.032412</td>\n",
       "      <td>0.007877</td>\n",
       "      <td>350</td>\n",
       "      <td>{'n_estimators': 350}</td>\n",
       "      <td>-8.809260</td>\n",
       "      <td>-8.937116</td>\n",
       "      <td>-9.223967</td>\n",
       "      <td>-9.027242</td>\n",
       "      <td>-8.999358</td>\n",
       "      <td>0.151026</td>\n",
       "      <td>4</td>\n",
       "      <td>-3.624403</td>\n",
       "      <td>-3.667690</td>\n",
       "      <td>-3.614982</td>\n",
       "      <td>-3.503100</td>\n",
       "      <td>-3.602544</td>\n",
       "      <td>0.060757</td>\n",
       "    </tr>\n",
       "    <tr>\n",
       "      <th>6</th>\n",
       "      <td>27.156824</td>\n",
       "      <td>0.540227</td>\n",
       "      <td>0.049258</td>\n",
       "      <td>0.017590</td>\n",
       "      <td>400</td>\n",
       "      <td>{'n_estimators': 400}</td>\n",
       "      <td>-8.817610</td>\n",
       "      <td>-8.942570</td>\n",
       "      <td>-9.242006</td>\n",
       "      <td>-9.069503</td>\n",
       "      <td>-9.017880</td>\n",
       "      <td>0.157063</td>\n",
       "      <td>6</td>\n",
       "      <td>-3.322902</td>\n",
       "      <td>-3.349726</td>\n",
       "      <td>-3.323837</td>\n",
       "      <td>-3.241654</td>\n",
       "      <td>-3.309530</td>\n",
       "      <td>0.040640</td>\n",
       "    </tr>\n",
       "    <tr>\n",
       "      <th>7</th>\n",
       "      <td>28.655193</td>\n",
       "      <td>0.352740</td>\n",
       "      <td>0.033411</td>\n",
       "      <td>0.002174</td>\n",
       "      <td>450</td>\n",
       "      <td>{'n_estimators': 450}</td>\n",
       "      <td>-8.835200</td>\n",
       "      <td>-8.951433</td>\n",
       "      <td>-9.243256</td>\n",
       "      <td>-9.071770</td>\n",
       "      <td>-9.025375</td>\n",
       "      <td>0.151043</td>\n",
       "      <td>7</td>\n",
       "      <td>-3.003683</td>\n",
       "      <td>-3.049368</td>\n",
       "      <td>-3.049979</td>\n",
       "      <td>-2.951873</td>\n",
       "      <td>-3.013726</td>\n",
       "      <td>0.040346</td>\n",
       "    </tr>\n",
       "    <tr>\n",
       "      <th>8</th>\n",
       "      <td>30.070753</td>\n",
       "      <td>0.235305</td>\n",
       "      <td>0.036534</td>\n",
       "      <td>0.002376</td>\n",
       "      <td>500</td>\n",
       "      <td>{'n_estimators': 500}</td>\n",
       "      <td>-8.849350</td>\n",
       "      <td>-8.952651</td>\n",
       "      <td>-9.247787</td>\n",
       "      <td>-9.095338</td>\n",
       "      <td>-9.036241</td>\n",
       "      <td>0.150131</td>\n",
       "      <td>10</td>\n",
       "      <td>-2.739503</td>\n",
       "      <td>-2.824883</td>\n",
       "      <td>-2.811480</td>\n",
       "      <td>-2.718249</td>\n",
       "      <td>-2.773529</td>\n",
       "      <td>0.045528</td>\n",
       "    </tr>\n",
       "    <tr>\n",
       "      <th>9</th>\n",
       "      <td>35.215019</td>\n",
       "      <td>0.425933</td>\n",
       "      <td>0.042213</td>\n",
       "      <td>0.012792</td>\n",
       "      <td>550</td>\n",
       "      <td>{'n_estimators': 550}</td>\n",
       "      <td>-8.849384</td>\n",
       "      <td>-8.940832</td>\n",
       "      <td>-9.239943</td>\n",
       "      <td>-9.104706</td>\n",
       "      <td>-9.033674</td>\n",
       "      <td>0.150144</td>\n",
       "      <td>9</td>\n",
       "      <td>-2.518448</td>\n",
       "      <td>-2.622578</td>\n",
       "      <td>-2.644102</td>\n",
       "      <td>-2.494813</td>\n",
       "      <td>-2.569985</td>\n",
       "      <td>0.064355</td>\n",
       "    </tr>\n",
       "  </tbody>\n",
       "</table>\n",
       "</div>"
      ],
      "text/plain": [
       "   mean_fit_time  std_fit_time  mean_score_time  std_score_time  \\\n",
       "0       6.706590      0.032590         0.008985        0.006841   \n",
       "1       9.154055      0.128487         0.019527        0.006765   \n",
       "2      11.715182      0.079884         0.015621        0.000002   \n",
       "3      16.930806      0.199499         0.022354        0.000844   \n",
       "4      20.011862      0.113585         0.026940        0.002246   \n",
       "5      23.855528      0.027210         0.032412        0.007877   \n",
       "6      27.156824      0.540227         0.049258        0.017590   \n",
       "7      28.655193      0.352740         0.033411        0.002174   \n",
       "8      30.070753      0.235305         0.036534        0.002376   \n",
       "9      35.215019      0.425933         0.042213        0.012792   \n",
       "\n",
       "  param_n_estimators                 params  split0_test_score  \\\n",
       "0                100  {'n_estimators': 100}          -8.840061   \n",
       "1                150  {'n_estimators': 150}          -8.833716   \n",
       "2                200  {'n_estimators': 200}          -8.812018   \n",
       "3                250  {'n_estimators': 250}          -8.798271   \n",
       "4                300  {'n_estimators': 300}          -8.819669   \n",
       "5                350  {'n_estimators': 350}          -8.809260   \n",
       "6                400  {'n_estimators': 400}          -8.817610   \n",
       "7                450  {'n_estimators': 450}          -8.835200   \n",
       "8                500  {'n_estimators': 500}          -8.849350   \n",
       "9                550  {'n_estimators': 550}          -8.849384   \n",
       "\n",
       "   split1_test_score  split2_test_score  split3_test_score  mean_test_score  \\\n",
       "0          -8.913212          -9.288905          -9.072325        -9.028580   \n",
       "1          -8.872911          -9.243285          -8.997316        -8.986767   \n",
       "2          -8.899448          -9.246934          -8.997371        -8.988903   \n",
       "3          -8.927945          -9.252292          -9.007841        -8.996547   \n",
       "4          -8.932916          -9.229838          -9.023044        -9.001329   \n",
       "5          -8.937116          -9.223967          -9.027242        -8.999358   \n",
       "6          -8.942570          -9.242006          -9.069503        -9.017880   \n",
       "7          -8.951433          -9.243256          -9.071770        -9.025375   \n",
       "8          -8.952651          -9.247787          -9.095338        -9.036241   \n",
       "9          -8.940832          -9.239943          -9.104706        -9.033674   \n",
       "\n",
       "   std_test_score  rank_test_score  split0_train_score  split1_train_score  \\\n",
       "0        0.172138                8           -6.119756           -6.147452   \n",
       "1        0.159915                1           -5.417988           -5.461185   \n",
       "2        0.162738                2           -4.901738           -4.863930   \n",
       "3        0.165489                3           -4.425887           -4.441342   \n",
       "4        0.150303                5           -4.011828           -4.024887   \n",
       "5        0.151026                4           -3.624403           -3.667690   \n",
       "6        0.157063                6           -3.322902           -3.349726   \n",
       "7        0.151043                7           -3.003683           -3.049368   \n",
       "8        0.150131               10           -2.739503           -2.824883   \n",
       "9        0.150144                9           -2.518448           -2.622578   \n",
       "\n",
       "   split2_train_score  split3_train_score  mean_train_score  std_train_score  \n",
       "0           -6.003097           -6.081047         -6.087838         0.054314  \n",
       "1           -5.353362           -5.327546         -5.390020         0.052663  \n",
       "2           -4.855831           -4.787092         -4.852148         0.041364  \n",
       "3           -4.411257           -4.316599         -4.398771         0.048620  \n",
       "4           -3.975979           -3.880787         -3.973370         0.056372  \n",
       "5           -3.614982           -3.503100         -3.602544         0.060757  \n",
       "6           -3.323837           -3.241654         -3.309530         0.040640  \n",
       "7           -3.049979           -2.951873         -3.013726         0.040346  \n",
       "8           -2.811480           -2.718249         -2.773529         0.045528  \n",
       "9           -2.644102           -2.494813         -2.569985         0.064355  "
      ]
     },
     "execution_count": 67,
     "metadata": {},
     "output_type": "execute_result"
    }
   ],
   "source": [
    "# 按照'mean_test_score'由大排到小，也就是按照測試集的mean absolute error由小排到大\n",
    "grid_results = pd.DataFrame(grid_search.cv_results_).sort_values('param_n_estimators' , ascending = True)\n",
    "grid_results.head(10)"
   ]
  },
  {
   "cell_type": "code",
   "execution_count": 68,
   "metadata": {},
   "outputs": [
    {
     "data": {
      "text/plain": [
       "<matplotlib.legend.Legend at 0x286677b37f0>"
      ]
     },
     "execution_count": 68,
     "metadata": {},
     "output_type": "execute_result"
    },
    {
     "data": {
      "image/png": "[encoded data removed]",
      "text/plain": [
       "<Figure size 1440x720 with 1 Axes>"
      ]
     },
     "metadata": {
      "needs_background": "light"
     },
     "output_type": "display_data"
    }
   ],
   "source": [
    "fig, ax = plt.subplots(1 , 1 , figsize = (20 , 10))\n",
    "ax.plot(grid_results['param_n_estimators'] , -1 * grid_results['mean_test_score'] , color = 'red' , label = 'Testing Error')\n",
    "ax.plot(grid_results['param_n_estimators'] , -1 * grid_results['mean_train_score'] , color = 'green' , label = 'Training Error')\n",
    "ax.set_xlabel('Number of Trees' , fontsize = 20)\n",
    "ax.set_ylabel('Mean Abosolute Error' , fontsize = 20)\n",
    "ax.legend(fontsize = 20)"
   ]
  },
  {
   "cell_type": "markdown",
   "metadata": {},
   "source": [
    "從上圖中可以明顯看出模型出現了過擬合現象，隨著樹的個數增多，過擬合現象越來越明顯"
   ]
  },
  {
   "cell_type": "markdown",
   "metadata": {},
   "source": [
    "### 測試模型"
   ]
  },
  {
   "cell_type": "code",
   "execution_count": 69,
   "metadata": {},
   "outputs": [
    {
     "data": {
      "text/plain": [
       "GradientBoostingRegressor(alpha=0.9, criterion='friedman_mse', init=None,\n",
       "                          learning_rate=0.1, loss='huber', max_depth=6,\n",
       "                          max_features=None, max_leaf_nodes=None,\n",
       "                          min_impurity_decrease=0.0, min_impurity_split=None,\n",
       "                          min_samples_leaf=1, min_samples_split=10,\n",
       "                          min_weight_fraction_leaf=0.0, n_estimators=150,\n",
       "                          n_iter_no_change=None, presort='auto',\n",
       "                          random_state=42, subsample=1.0, tol=0.0001,\n",
       "                          validation_fraction=0.1, verbose=0, warm_start=False)"
      ]
     },
     "execution_count": 69,
     "metadata": {},
     "output_type": "execute_result"
    }
   ],
   "source": [
    "# 預設model\n",
    "default_model = GradientBoostingRegressor(random_state = 42)\n",
    "default_model.fit(X , y)\n",
    "\n",
    "# 利用random search與grid search調參的model\n",
    "best_model = GradientBoostingRegressor(**grid_search.best_estimator_.get_params())\n",
    "best_model.fit(X , y)"
   ]
  },
  {
   "cell_type": "markdown",
   "metadata": {},
   "source": [
    "比較預設model & random search與grid search調參的model"
   ]
  },
  {
   "cell_type": "code",
   "execution_count": 70,
   "metadata": {},
   "outputs": [
    {
     "name": "stdout",
     "output_type": "stream",
     "text": [
      "Default model performance on the test set : 10.013\n",
      "Best model performance on the test set : 9.164\n"
     ]
    }
   ],
   "source": [
    "default_pred = default_model.predict(X_test)\n",
    "best_pred = best_model.predict(X_test)\n",
    "\n",
    "print('Default model performance on the test set : {:.3f}'.format(np.mean(abs(y_test - default_pred))))\n",
    "print('Best model performance on the test set : {:.3f}'.format(np.mean(abs(y_test - best_pred))))"
   ]
  },
  {
   "cell_type": "markdown",
   "metadata": {},
   "source": [
    "對比試驗結果，訓練時間差異較大但是模型差不多得到了10%的提升<br>\n",
    "通常來說訓練時間只要可以容忍都是可以的，模型的提升還是很寶貴的"
   ]
  },
  {
   "cell_type": "markdown",
   "metadata": {},
   "source": [
    "觀察真實值與預測值的分布情況"
   ]
  },
  {
   "cell_type": "code",
   "execution_count": 71,
   "metadata": {},
   "outputs": [
    {
     "data": {
      "text/plain": [
       "<matplotlib.legend.Legend at 0x2866780d358>"
      ]
     },
     "execution_count": 71,
     "metadata": {},
     "output_type": "execute_result"
    },
    {
     "data": {
      "image/png": "[encoded data removed]",
      "text/plain": [
       "<Figure size 1440x720 with 1 Axes>"
      ]
     },
     "metadata": {
      "needs_background": "light"
     },
     "output_type": "display_data"
    }
   ],
   "source": [
    "fig, ax = plt.subplots(1 , 1 , figsize = (20 , 10))\n",
    "\n",
    "sns.kdeplot(best_pred , label = 'Prediction' , color = 'red' , linewidth = 2 , ax = ax)\n",
    "sns.kdeplot(y_test , label = 'True Value' , color = 'green' , linewidth = 2 , ax = ax)\n",
    "\n",
    "ax.set_xlabel('Energy Star Score' , fontsize = 20)\n",
    "ax.set_ylabel('Density' , fontsize = 20)\n",
    "ax.legend(fontsize = 20)"
   ]
  },
  {
   "cell_type": "code",
   "execution_count": 72,
   "metadata": {},
   "outputs": [
    {
     "data": {
      "text/plain": [
       "Text(0, 0.5, 'count')"
      ]
     },
     "execution_count": 72,
     "metadata": {},
     "output_type": "execute_result"
    },
    {
     "data": {
      "image/png": "[encoded data removed]",
      "text/plain": [
       "<Figure size 1440x720 with 1 Axes>"
      ]
     },
     "metadata": {
      "needs_background": "light"
     },
     "output_type": "display_data"
    }
   ],
   "source": [
    "# 計算殘差\n",
    "residuals = best_pred - y_test\n",
    "\n",
    "fig , ax = plt.subplots(1 , 1 , figsize = (20 , 10))\n",
    "sns.distplot(residuals , color = 'red' , bins = 50 ,  ax = ax , hist_kws = {'edgecolor' : 'k'})\n",
    "ax.set_xlabel('error' , fontsize = 20)  \n",
    "ax.set_ylabel('count' , fontsize = 20)  "
   ]
  },
  {
   "cell_type": "markdown",
   "metadata": {},
   "source": [
    "殘差分布情況<br>\n",
    "可以發現error在0附近是最高的"
   ]
  }
 ],
 "metadata": {
  "kernelspec": {
   "display_name": "Python 3",
   "language": "python",
   "name": "python3"
  },
  "language_info": {
   "codemirror_mode": {
    "name": "ipython",
    "version": 3
   },
   "file_extension": ".py",
   "mimetype": "text/x-python",
   "name": "python",
   "nbconvert_exporter": "python",
   "pygments_lexer": "ipython3",
   "version": "3.6.5"
  }
 },
 "nbformat": 4,
 "nbformat_minor": 2
}
