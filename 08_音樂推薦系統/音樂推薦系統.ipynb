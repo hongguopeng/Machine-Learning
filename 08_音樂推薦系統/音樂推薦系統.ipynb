{
 "cells": [
  {
   "cell_type": "markdown",
   "metadata": {},
   "source": [
    "# 推薦系統\n",
    "\n",
    "1. 音樂數據處理 : 讀取音樂數據集，對音樂數據集進行數據清洗和特徵提取，並統計其各項指標，選擇有價值的信息當做特徵\n",
    "\n",
    "2. 基於SVD矩陣分解的推薦 : 使用矩陣分解方法，快速高效得到推薦結果\n",
    "\n",
    "3. 基於商品相似性的推薦 : 選擇相似度計算方法，通過相似度來計算推薦結果"
   ]
  },
  {
   "cell_type": "markdown",
   "metadata": {},
   "source": [
    "### 請解壓縮data.rar，取得本程式之數據"
   ]
  },
  {
   "cell_type": "code",
   "execution_count": 1,
   "metadata": {
    "ExecuteTime": {
     "end_time": "2017-09-26T05:34:54.624167Z",
     "start_time": "2017-09-26T05:34:46.420964Z"
    }
   },
   "outputs": [],
   "source": [
    "import pandas as pd\n",
    "import numpy as np\n",
    "import time\n",
    "import sqlite3\n",
    "import matplotlib.pyplot as plt\n",
    "from scipy.sparse import coo_matrix\n",
    "import math as mt\n",
    "from scipy.sparse.linalg import *  # 用在矩陣的乘法\n",
    "from scipy.sparse.linalg import svds\n",
    "from scipy.sparse import csc_matrix"
   ]
  },
  {
   "cell_type": "markdown",
   "metadata": {},
   "source": [
    "## 數據讀取"
   ]
  },
  {
   "cell_type": "markdown",
   "metadata": {},
   "source": [
    "在數據中只需要用戶，歌曲，播放量"
   ]
  },
  {
   "cell_type": "code",
   "execution_count": 2,
   "metadata": {
    "ExecuteTime": {
     "end_time": "2017-09-24T09:48:06.127761Z",
     "start_time": "2017-09-24T09:48:05.969929Z"
    }
   },
   "outputs": [],
   "source": [
    "triplet_dataset = pd.read_csv(filepath_or_buffer = './train_triplets.txt', \n",
    "                              sep = '\\t', \n",
    "                              header = None , \n",
    "                              nrows = 300000 ,\n",
    "                              names = ['user' , 'song' , 'play_count'])"
   ]
  },
  {
   "cell_type": "code",
   "execution_count": 8,
   "metadata": {},
   "outputs": [
    {
     "name": "stdout",
     "output_type": "stream",
     "text": [
      "原來的記憶體空間 :\n",
      "<class 'pandas.core.frame.DataFrame'>\n",
      "RangeIndex: 300000 entries, 0 to 299999\n",
      "Data columns (total 3 columns):\n",
      "user          300000 non-null object\n",
      "song          300000 non-null object\n",
      "play_count    300000 non-null int32\n",
      "dtypes: int32(1), object(2)\n",
      "memory usage: 5.7+ MB\n",
      "\n",
      "\n",
      "後來的記憶體空間 :\n",
      "<class 'pandas.core.frame.DataFrame'>\n",
      "RangeIndex: 300000 entries, 0 to 299999\n",
      "Data columns (total 3 columns):\n",
      "user          300000 non-null object\n",
      "song          300000 non-null object\n",
      "play_count    300000 non-null int32\n",
      "dtypes: int32(1), object(2)\n",
      "memory usage: 5.7+ MB\n"
     ]
    }
   ],
   "source": [
    "# 原來的記憶體空間\n",
    "print('原來的記憶體空間 :')\n",
    "triplet_dataset.info()\n",
    "print('\\n')\n",
    "\n",
    "# 後來的記憶體空間\n",
    "temp = pd.DataFrame(data = triplet_dataset['play_count'] , dtype = np.int32) # float64->float32減少記憶體空間\n",
    "triplet_dataset = pd.concat([triplet_dataset.iloc[: , 0 : 2] , temp] , axis = 1)\n",
    "print('後來的記憶體空間 :')\n",
    "triplet_dataset.info()"
   ]
  },
  {
   "cell_type": "markdown",
   "metadata": {},
   "source": [
    "如果想更詳細的了解數據的情況，可以打印其info訊息，來觀察不同列的類型以及整體占用記憶體<br>\n",
    "有一個比較實用的技巧，如果拿到的數據非常大，對數據進行處理的時候可能會出現記憶體溢出的錯誤訊息，這裡最簡單的方法就是設置下數據的格式，比如將float64用float32來替代，這樣可以大大節省記憶體開銷"
   ]
  },
  {
   "cell_type": "markdown",
   "metadata": {},
   "source": [
    "原始數據<br>\n",
    "數據中有用戶的編號，歌曲編號，用戶對該歌曲播放的次數<br>\n",
    "有了基礎數據之後，還可以統計出關於用戶與歌曲的各項指標"
   ]
  },
  {
   "cell_type": "code",
   "execution_count": 10,
   "metadata": {
    "ExecuteTime": {
     "end_time": "2017-09-24T09:48:29.300568Z",
     "start_time": "2017-09-24T09:48:29.275986Z"
    }
   },
   "outputs": [
    {
     "data": {
      "text/html": [
       "<div>\n",
       "<style scoped>\n",
       "    .dataframe tbody tr th:only-of-type {\n",
       "        vertical-align: middle;\n",
       "    }\n",
       "\n",
       "    .dataframe tbody tr th {\n",
       "        vertical-align: top;\n",
       "    }\n",
       "\n",
       "    .dataframe thead th {\n",
       "        text-align: right;\n",
       "    }\n",
       "</style>\n",
       "<table border=\"1\" class=\"dataframe\">\n",
       "  <thead>\n",
       "    <tr style=\"text-align: right;\">\n",
       "      <th></th>\n",
       "      <th>user</th>\n",
       "      <th>song</th>\n",
       "      <th>play_count</th>\n",
       "    </tr>\n",
       "  </thead>\n",
       "  <tbody>\n",
       "    <tr>\n",
       "      <th>0</th>\n",
       "      <td>b80344d063b5ccb3212f76538f3d9e43d87dca9e</td>\n",
       "      <td>SOAKIMP12A8C130995</td>\n",
       "      <td>1</td>\n",
       "    </tr>\n",
       "    <tr>\n",
       "      <th>1</th>\n",
       "      <td>b80344d063b5ccb3212f76538f3d9e43d87dca9e</td>\n",
       "      <td>SOAPDEY12A81C210A9</td>\n",
       "      <td>1</td>\n",
       "    </tr>\n",
       "    <tr>\n",
       "      <th>2</th>\n",
       "      <td>b80344d063b5ccb3212f76538f3d9e43d87dca9e</td>\n",
       "      <td>SOBBMDR12A8C13253B</td>\n",
       "      <td>2</td>\n",
       "    </tr>\n",
       "    <tr>\n",
       "      <th>3</th>\n",
       "      <td>b80344d063b5ccb3212f76538f3d9e43d87dca9e</td>\n",
       "      <td>SOBFNSP12AF72A0E22</td>\n",
       "      <td>1</td>\n",
       "    </tr>\n",
       "    <tr>\n",
       "      <th>4</th>\n",
       "      <td>b80344d063b5ccb3212f76538f3d9e43d87dca9e</td>\n",
       "      <td>SOBFOVM12A58A7D494</td>\n",
       "      <td>1</td>\n",
       "    </tr>\n",
       "    <tr>\n",
       "      <th>5</th>\n",
       "      <td>b80344d063b5ccb3212f76538f3d9e43d87dca9e</td>\n",
       "      <td>SOBNZDC12A6D4FC103</td>\n",
       "      <td>1</td>\n",
       "    </tr>\n",
       "    <tr>\n",
       "      <th>6</th>\n",
       "      <td>b80344d063b5ccb3212f76538f3d9e43d87dca9e</td>\n",
       "      <td>SOBSUJE12A6D4F8CF5</td>\n",
       "      <td>2</td>\n",
       "    </tr>\n",
       "    <tr>\n",
       "      <th>7</th>\n",
       "      <td>b80344d063b5ccb3212f76538f3d9e43d87dca9e</td>\n",
       "      <td>SOBVFZR12A6D4F8AE3</td>\n",
       "      <td>1</td>\n",
       "    </tr>\n",
       "    <tr>\n",
       "      <th>8</th>\n",
       "      <td>b80344d063b5ccb3212f76538f3d9e43d87dca9e</td>\n",
       "      <td>SOBXALG12A8C13C108</td>\n",
       "      <td>1</td>\n",
       "    </tr>\n",
       "    <tr>\n",
       "      <th>9</th>\n",
       "      <td>b80344d063b5ccb3212f76538f3d9e43d87dca9e</td>\n",
       "      <td>SOBXHDL12A81C204C0</td>\n",
       "      <td>1</td>\n",
       "    </tr>\n",
       "  </tbody>\n",
       "</table>\n",
       "</div>"
      ],
      "text/plain": [
       "                                       user                song  play_count\n",
       "0  b80344d063b5ccb3212f76538f3d9e43d87dca9e  SOAKIMP12A8C130995           1\n",
       "1  b80344d063b5ccb3212f76538f3d9e43d87dca9e  SOAPDEY12A81C210A9           1\n",
       "2  b80344d063b5ccb3212f76538f3d9e43d87dca9e  SOBBMDR12A8C13253B           2\n",
       "3  b80344d063b5ccb3212f76538f3d9e43d87dca9e  SOBFNSP12AF72A0E22           1\n",
       "4  b80344d063b5ccb3212f76538f3d9e43d87dca9e  SOBFOVM12A58A7D494           1\n",
       "5  b80344d063b5ccb3212f76538f3d9e43d87dca9e  SOBNZDC12A6D4FC103           1\n",
       "6  b80344d063b5ccb3212f76538f3d9e43d87dca9e  SOBSUJE12A6D4F8CF5           2\n",
       "7  b80344d063b5ccb3212f76538f3d9e43d87dca9e  SOBVFZR12A6D4F8AE3           1\n",
       "8  b80344d063b5ccb3212f76538f3d9e43d87dca9e  SOBXALG12A8C13C108           1\n",
       "9  b80344d063b5ccb3212f76538f3d9e43d87dca9e  SOBXHDL12A81C204C0           1"
      ]
     },
     "execution_count": 10,
     "metadata": {},
     "output_type": "execute_result"
    }
   ],
   "source": [
    "triplet_dataset.head(10)"
   ]
  },
  {
   "cell_type": "markdown",
   "metadata": {},
   "source": [
    "## 分別統計每一個用戶的播放總量"
   ]
  },
  {
   "cell_type": "code",
   "execution_count": 12,
   "metadata": {
    "ExecuteTime": {
     "end_time": "2017-09-24T10:00:40.238849Z",
     "start_time": "2017-09-24T09:57:54.875213Z"
    }
   },
   "outputs": [],
   "source": [
    "# 計算個別用戶的總播放量\n",
    "song_play_count = {}\n",
    "f = open('./train_triplets.txt')\n",
    "while True:\n",
    "    line = f.readline()\n",
    "    if len(line) == 0 : break\n",
    "    # 找到目前的用戶\n",
    "    user = line.split('\\t')[0]\n",
    "    # 得到其播放量\n",
    "    play_count = int(line.split('\\t')[2])\n",
    "    if user in user_play_count.keys():\n",
    "        user_play_count[user] += play_count\n",
    "    else:\n",
    "        user_play_count[user] = play_count\n",
    "\n",
    "# 轉換成dataframe格式\n",
    "user_play_count = pd.DataFrame(user_play_count , index = [0]).T\n",
    "user_play_count[0] = user_play_count.index\n",
    "user_play_count.reset_index(drop = True , inplace = True)\n",
    "user_play_count.columns = ['play_count' , 'user']\n",
    "user_play_count.sort_values(by = 'play_count' , ascending = False , inplace = True) # 將播放量由大排到小\n",
    "user_play_count.to_csv(path_or_buf = 'user_playcount_df.csv' ,  index = False) # 存檔\n",
    "\n",
    "\n",
    "# # Another Way 但可能會讓記憶體爆掉\n",
    "# # 計算每一個用戶的總播放量\n",
    "# user_play_count_ = triplet_dataset[['user' , 'play_count']]\n",
    "# user_play_count = {}\n",
    "# for user , dataframe in user_play_count_.groupby('user'):\n",
    "#     user_play_count[user] = dataframe['play_count'].sum()\n",
    "\n",
    "# # 轉換成dataframe格式\n",
    "# user_play_count = pd.DataFrame(user_play_count , index = [0]).T\n",
    "# user_play_count[0] = user_play_count.index\n",
    "# user_play_count.reset_index(drop = True , inplace = True)\n",
    "# user_play_count.columns = ['play_count' , 'user']\n",
    "# user_play_count.sort_values(by = 'play_count', ascending = False , inplace = True)\n",
    "# user_play_count.to_csv(path_or_buf = 'user_playcount_df.csv' ,  index = False)"
   ]
  },
  {
   "cell_type": "markdown",
   "metadata": {},
   "source": [
    "## 分別統計每一首歌的播放總量"
   ]
  },
  {
   "cell_type": "code",
   "execution_count": null,
   "metadata": {},
   "outputs": [],
   "source": [
    "# 計算每一首歌的總播放量\n",
    "song_play_count = {}\n",
    "f = open('./train_triplets.txt')\n",
    "while True:\n",
    "    line = f.readline()\n",
    "    if len(line) == 0 : break\n",
    "    # 找到目前的歌曲\n",
    "    song = line.split('\\t')[1]\n",
    "    # 得到其播放量\n",
    "    play_count = int(line.split('\\t')[2])\n",
    "    if song in song_play_count.keys():\n",
    "        song_play_count[song] += play_count\n",
    "    else:\n",
    "        song_play_count[song] = play_count\n",
    "\n",
    "# 轉換成dataframe格式\n",
    "song_play_count = pd.DataFrame(song_play_count , index = [0]).T\n",
    "song_play_count[0] = song_play_count.index\n",
    "song_play_count.reset_index(drop = True , inplace = True)\n",
    "song_play_count.columns = ['play_count' , 'song']\n",
    "song_play_count.sort_values(by = 'play_count' , ascending = False , inplace = True) # 將播放量由大排到小\n",
    "song_play_count.to_csv(path_or_buf = 'song_playcount_df.csv' ,  index = False) # 存檔\n",
    "\n",
    "\n",
    "# # Another Way 但可能會讓記憶體爆掉\n",
    "# # 計算每一首歌曲的總播放量\n",
    "# song_play_count_ = triplet_dataset[['song' , 'play_count']]\n",
    "# song_play_count = {}\n",
    "# for song , dataframe in song_play_count_.groupby('song'):\n",
    "#     song_play_count[song] = dataframe['play_count'].sum()\n",
    "\n",
    "# # 轉換成dataframe格式\n",
    "# song_play_count = pd.DataFrame(song_play_count , index = [0]).T\n",
    "# song_play_count[0] = song_play_count.index\n",
    "# song_play_count.reset_index(drop = True , inplace = True)\n",
    "# song_play_count.columns = ['play_count' , 'song']\n",
    "# song_play_count.sort_values(by = 'play_count' , ascending = False , inplace = True)\n",
    "# song_play_count.to_csv(path_or_buf = 'song_playcount_df.csv' ,  index = False)"
   ]
  },
  {
   "cell_type": "markdown",
   "metadata": {},
   "source": [
    "構造一個字典結構來統計不同用戶分別播放的總數<br>\n",
    "當數據集比較龐大的時候，每一步操作都可能花費較長時間，後續操作中如果稍有不慎可能還得重頭再來一遍<br>\n",
    "最好還是把中間結果保存下來，既然已經把結果轉換成df格式，直接使用to_csv()函數就可以完成保存的操作"
   ]
  },
  {
   "cell_type": "markdown",
   "metadata": {},
   "source": [
    "## 看看目前的排行情况"
   ]
  },
  {
   "cell_type": "code",
   "execution_count": 2,
   "metadata": {
    "ExecuteTime": {
     "end_time": "2017-09-24T10:08:54.987662Z",
     "start_time": "2017-09-24T10:08:53.518248Z"
    }
   },
   "outputs": [
    {
     "data": {
      "text/html": [
       "<div>\n",
       "<style scoped>\n",
       "    .dataframe tbody tr th:only-of-type {\n",
       "        vertical-align: middle;\n",
       "    }\n",
       "\n",
       "    .dataframe tbody tr th {\n",
       "        vertical-align: top;\n",
       "    }\n",
       "\n",
       "    .dataframe thead th {\n",
       "        text-align: right;\n",
       "    }\n",
       "</style>\n",
       "<table border=\"1\" class=\"dataframe\">\n",
       "  <thead>\n",
       "    <tr style=\"text-align: right;\">\n",
       "      <th></th>\n",
       "      <th>play_count</th>\n",
       "      <th>user</th>\n",
       "    </tr>\n",
       "  </thead>\n",
       "  <tbody>\n",
       "    <tr>\n",
       "      <th>0</th>\n",
       "      <td>13132</td>\n",
       "      <td>093cb74eb3c517c5179ae24caf0ebec51b24d2a2</td>\n",
       "    </tr>\n",
       "    <tr>\n",
       "      <th>1</th>\n",
       "      <td>9884</td>\n",
       "      <td>119b7c88d58d0c6eb051365c103da5caf817bea6</td>\n",
       "    </tr>\n",
       "    <tr>\n",
       "      <th>2</th>\n",
       "      <td>8210</td>\n",
       "      <td>3fa44653315697f42410a30cb766a4eb102080bb</td>\n",
       "    </tr>\n",
       "    <tr>\n",
       "      <th>3</th>\n",
       "      <td>7015</td>\n",
       "      <td>a2679496cd0af9779a92a13ff7c6af5c81ea8c7b</td>\n",
       "    </tr>\n",
       "    <tr>\n",
       "      <th>4</th>\n",
       "      <td>6494</td>\n",
       "      <td>d7d2d888ae04d16e994d6964214a1de81392ee04</td>\n",
       "    </tr>\n",
       "    <tr>\n",
       "      <th>5</th>\n",
       "      <td>6472</td>\n",
       "      <td>4ae01afa8f2430ea0704d502bc7b57fb52164882</td>\n",
       "    </tr>\n",
       "    <tr>\n",
       "      <th>6</th>\n",
       "      <td>6150</td>\n",
       "      <td>b7c24f770be6b802805ac0e2106624a517643c17</td>\n",
       "    </tr>\n",
       "    <tr>\n",
       "      <th>7</th>\n",
       "      <td>5656</td>\n",
       "      <td>113255a012b2affeab62607563d03fbdf31b08e7</td>\n",
       "    </tr>\n",
       "    <tr>\n",
       "      <th>8</th>\n",
       "      <td>5620</td>\n",
       "      <td>6d625c6557df84b60d90426c0116138b617b9449</td>\n",
       "    </tr>\n",
       "    <tr>\n",
       "      <th>9</th>\n",
       "      <td>5602</td>\n",
       "      <td>99ac3d883681e21ea68071019dba828ce76fe94d</td>\n",
       "    </tr>\n",
       "  </tbody>\n",
       "</table>\n",
       "</div>"
      ],
      "text/plain": [
       "   play_count                                      user\n",
       "0       13132  093cb74eb3c517c5179ae24caf0ebec51b24d2a2\n",
       "1        9884  119b7c88d58d0c6eb051365c103da5caf817bea6\n",
       "2        8210  3fa44653315697f42410a30cb766a4eb102080bb\n",
       "3        7015  a2679496cd0af9779a92a13ff7c6af5c81ea8c7b\n",
       "4        6494  d7d2d888ae04d16e994d6964214a1de81392ee04\n",
       "5        6472  4ae01afa8f2430ea0704d502bc7b57fb52164882\n",
       "6        6150  b7c24f770be6b802805ac0e2106624a517643c17\n",
       "7        5656  113255a012b2affeab62607563d03fbdf31b08e7\n",
       "8        5620  6d625c6557df84b60d90426c0116138b617b9449\n",
       "9        5602  99ac3d883681e21ea68071019dba828ce76fe94d"
      ]
     },
     "execution_count": 2,
     "metadata": {},
     "output_type": "execute_result"
    }
   ],
   "source": [
    "play_count_df = pd.read_csv(filepath_or_buffer = 'user_playcount_df.csv')\n",
    "play_count_df.head(10)"
   ]
  },
  {
   "cell_type": "code",
   "execution_count": 3,
   "metadata": {
    "ExecuteTime": {
     "end_time": "2017-09-24T10:09:06.800300Z",
     "start_time": "2017-09-24T10:09:06.427869Z"
    }
   },
   "outputs": [
    {
     "data": {
      "text/html": [
       "<div>\n",
       "<style scoped>\n",
       "    .dataframe tbody tr th:only-of-type {\n",
       "        vertical-align: middle;\n",
       "    }\n",
       "\n",
       "    .dataframe tbody tr th {\n",
       "        vertical-align: top;\n",
       "    }\n",
       "\n",
       "    .dataframe thead th {\n",
       "        text-align: right;\n",
       "    }\n",
       "</style>\n",
       "<table border=\"1\" class=\"dataframe\">\n",
       "  <thead>\n",
       "    <tr style=\"text-align: right;\">\n",
       "      <th></th>\n",
       "      <th>play_count</th>\n",
       "      <th>song</th>\n",
       "    </tr>\n",
       "  </thead>\n",
       "  <tbody>\n",
       "    <tr>\n",
       "      <th>0</th>\n",
       "      <td>726885</td>\n",
       "      <td>SOBONKR12A58A7A7E0</td>\n",
       "    </tr>\n",
       "    <tr>\n",
       "      <th>1</th>\n",
       "      <td>648239</td>\n",
       "      <td>SOAUWYT12A81C206F1</td>\n",
       "    </tr>\n",
       "    <tr>\n",
       "      <th>2</th>\n",
       "      <td>527893</td>\n",
       "      <td>SOSXLTC12AF72A7F54</td>\n",
       "    </tr>\n",
       "    <tr>\n",
       "      <th>3</th>\n",
       "      <td>425463</td>\n",
       "      <td>SOFRQTD12A81C233C0</td>\n",
       "    </tr>\n",
       "    <tr>\n",
       "      <th>4</th>\n",
       "      <td>389880</td>\n",
       "      <td>SOEGIYH12A6D4FC0E3</td>\n",
       "    </tr>\n",
       "    <tr>\n",
       "      <th>5</th>\n",
       "      <td>356533</td>\n",
       "      <td>SOAXGDH12A8C13F8A1</td>\n",
       "    </tr>\n",
       "    <tr>\n",
       "      <th>6</th>\n",
       "      <td>292642</td>\n",
       "      <td>SONYKOW12AB01849C9</td>\n",
       "    </tr>\n",
       "    <tr>\n",
       "      <th>7</th>\n",
       "      <td>274627</td>\n",
       "      <td>SOPUCYA12A8C13A694</td>\n",
       "    </tr>\n",
       "    <tr>\n",
       "      <th>8</th>\n",
       "      <td>268353</td>\n",
       "      <td>SOUFTBI12AB0183F65</td>\n",
       "    </tr>\n",
       "    <tr>\n",
       "      <th>9</th>\n",
       "      <td>244730</td>\n",
       "      <td>SOVDSJC12A58A7A271</td>\n",
       "    </tr>\n",
       "  </tbody>\n",
       "</table>\n",
       "</div>"
      ],
      "text/plain": [
       "   play_count                song\n",
       "0      726885  SOBONKR12A58A7A7E0\n",
       "1      648239  SOAUWYT12A81C206F1\n",
       "2      527893  SOSXLTC12AF72A7F54\n",
       "3      425463  SOFRQTD12A81C233C0\n",
       "4      389880  SOEGIYH12A6D4FC0E3\n",
       "5      356533  SOAXGDH12A8C13F8A1\n",
       "6      292642  SONYKOW12AB01849C9\n",
       "7      274627  SOPUCYA12A8C13A694\n",
       "8      268353  SOUFTBI12AB0183F65\n",
       "9      244730  SOVDSJC12A58A7A271"
      ]
     },
     "execution_count": 3,
     "metadata": {},
     "output_type": "execute_result"
    }
   ],
   "source": [
    "song_count_df = pd.read_csv(filepath_or_buffer = 'song_playcount_df.csv')\n",
    "song_count_df.head(10)"
   ]
  },
  {
   "cell_type": "markdown",
   "metadata": {},
   "source": [
    "這個音樂數據量集十分龐大，考慮到執行過程的時間消耗以及矩陣稀疏性問題，因此依據播放量指標對數據集進行了截取<br>\n",
    "因為有些註冊用戶可能只是關注了一下之後就不再登錄平台，這些用戶對分析不會有幫助，反而增大了矩陣的稀疏性，對於歌曲也是有同樣現象，可能有些歌曲根本沒人聽<br>\n",
    "由於之前已經對用戶與歌曲播放情況進行了排序，所以只選擇了其中的100000名用戶和30000首歌，關於截取的合適比例也可以通過觀察選擇數據的播放量占總體的比例來設置"
   ]
  },
  {
   "cell_type": "markdown",
   "metadata": {},
   "source": [
    "## 取其中一部分數據（按大小排好序，這些應該是比較重要的數據），作為實驗數據"
   ]
  },
  {
   "cell_type": "code",
   "execution_count": 4,
   "metadata": {
    "ExecuteTime": {
     "end_time": "2017-09-24T10:26:37.537061Z",
     "start_time": "2017-09-24T10:26:37.528055Z"
    }
   },
   "outputs": [
    {
     "name": "stdout",
     "output_type": "stream",
     "text": [
      "40.8807280500655\n",
      "78.39315366645269\n"
     ]
    }
   ],
   "source": [
    "total_play_count = song_count_df['play_count'].sum()\n",
    "\n",
    "# 100000名用戶的播放量占全部播放量的比例\n",
    "print((float(play_count_df.head(100000).play_count.sum()) / total_play_count) * 100)\n",
    "\n",
    "# 30000首歌的播放量占全部播放量的比例\n",
    "print((float(song_count_df.head(30000).play_count.sum()) / total_play_count) * 100)"
   ]
  },
  {
   "cell_type": "code",
   "execution_count": 5,
   "metadata": {
    "ExecuteTime": {
     "end_time": "2017-09-24T10:26:38.311410Z",
     "start_time": "2017-09-24T10:26:38.306426Z"
    }
   },
   "outputs": [],
   "source": [
    "play_count_subset = play_count_df.head(100000)\n",
    "song_count_subset = song_count_df.head(30000)"
   ]
  },
  {
   "cell_type": "markdown",
   "metadata": {},
   "source": [
    "前30000首歌的播放量占到了總體的78.39%<br>\n",
    "現在已經有了這100000名用戶和30000首歌曲，接下來就要對原始數據集進行過濾清洗"
   ]
  },
  {
   "cell_type": "code",
   "execution_count": 6,
   "metadata": {
    "ExecuteTime": {
     "end_time": "2017-09-24T10:26:39.337554Z",
     "start_time": "2017-09-24T10:26:39.326529Z"
    }
   },
   "outputs": [],
   "source": [
    "user_subset = list(play_count_subset['user'])\n",
    "song_subset = list(song_count_subset['song'])"
   ]
  },
  {
   "cell_type": "code",
   "execution_count": 7,
   "metadata": {
    "ExecuteTime": {
     "end_time": "2017-09-24T10:30:23.563673Z",
     "start_time": "2017-09-24T10:27:22.711377Z"
    }
   },
   "outputs": [],
   "source": [
    "# 讀取原始數據集\n",
    "triplet_dataset = pd.read_csv(filepath_or_buffer = './train_triplets.txt', \n",
    "                              sep = '\\t', \n",
    "                              header = None , \n",
    "                              names = ['user' , 'song' , 'play_count'])\n",
    "\n",
    "\n",
    "# 只保留有這100000名用戶的數據，其餘過濾掉\n",
    "triplet_dataset_sub = triplet_dataset[triplet_dataset.user.isin(user_subset)]\n",
    "del(triplet_dataset)\n",
    "\n",
    "# 只保留有這30000首歌曲的數據，其餘也過濾掉\n",
    "triplet_dataset_sub_song = triplet_dataset_sub[triplet_dataset_sub.song.isin(song_subset)]\n",
    "del(triplet_dataset_sub)\n",
    "\n",
    "# 先把過濾後的數據存起來\n",
    "triplet_dataset_sub_song.to_csv(path_or_buf = './triplet_dataset_sub_song.csv' , index = False)"
   ]
  },
  {
   "cell_type": "code",
   "execution_count": 8,
   "metadata": {
    "ExecuteTime": {
     "end_time": "2017-09-24T10:32:35.248710Z",
     "start_time": "2017-09-24T10:32:35.241709Z"
    }
   },
   "outputs": [
    {
     "data": {
      "text/plain": [
       "(10774558, 3)"
      ]
     },
     "execution_count": 8,
     "metadata": {},
     "output_type": "execute_result"
    }
   ],
   "source": [
    "triplet_dataset_sub_song.shape"
   ]
  },
  {
   "cell_type": "markdown",
   "metadata": {},
   "source": [
    "數據樣本個數此時只有原來的1/4不到，但是過濾掉的樣本都是稀疏數據不利於分析，所以當拿到了數據之後還是有必要對數據進行清洗和預處理工作，不單單提升計算的速度，還會影響最終的結果"
   ]
  },
  {
   "cell_type": "markdown",
   "metadata": {},
   "source": [
    "## 加入音樂詳細訊息"
   ]
  },
  {
   "cell_type": "markdown",
   "metadata": {},
   "source": [
    "目前拿到的數據只有播放次數，可利用的訊息太少了，對每首歌來說正常情況都應該有一份詳細訊息，例如歌手，發布時間，主題等，這些訊息都存在一份數據庫格式文件中，接下來使用sqlite來讀取這些數據："
   ]
  },
  {
   "cell_type": "code",
   "execution_count": 9,
   "metadata": {
    "ExecuteTime": {
     "end_time": "2017-09-24T13:48:12.545636Z",
     "start_time": "2017-09-24T13:48:12.536631Z"
    }
   },
   "outputs": [],
   "source": [
    "conn = sqlite3.connect('./track_metadata.db')\n",
    "cur = conn.cursor()\n",
    "track_metadata_df = pd.read_sql(con = conn , sql = 'select * from songs')"
   ]
  },
  {
   "cell_type": "code",
   "execution_count": 10,
   "metadata": {},
   "outputs": [],
   "source": [
    "# 將track_metadata_df中包含在song_subset的歌曲挑出來\n",
    "track_metadata_df_sub = track_metadata_df[track_metadata_df['song_id'].isin(song_subset)]\n",
    "\n",
    "# 先把過濾後的數據存起來\n",
    "track_metadata_df_sub.to_csv(path_or_buf = './track_metadata_df_sub.csv', index=False)"
   ]
  },
  {
   "cell_type": "markdown",
   "metadata": {},
   "source": [
    "## 現有的數據"
   ]
  },
  {
   "cell_type": "code",
   "execution_count": 2,
   "metadata": {
    "ExecuteTime": {
     "end_time": "2017-09-26T05:35:13.855787Z",
     "start_time": "2017-09-26T05:35:00.267829Z"
    }
   },
   "outputs": [],
   "source": [
    "triplet_dataset_sub_song = pd.read_csv(filepath_or_buffer = './triplet_dataset_sub_song.csv' , encoding = 'ISO-8859-1')\n",
    "track_metadata_df_sub = pd.read_csv(filepath_or_buffer = './track_metadata_df_sub.csv' , encoding = 'ISO-8859-1')"
   ]
  },
  {
   "cell_type": "markdown",
   "metadata": {},
   "source": [
    "## 清洗數據集"
   ]
  },
  {
   "cell_type": "markdown",
   "metadata": {},
   "source": [
    "去除掉無用的和重覆的，數據清洗是很重要的一步"
   ]
  },
  {
   "cell_type": "code",
   "execution_count": 3,
   "metadata": {
    "ExecuteTime": {
     "end_time": "2017-09-26T05:35:26.643464Z",
     "start_time": "2017-09-26T05:35:14.956760Z"
    }
   },
   "outputs": [],
   "source": [
    "# 去掉重複的歌曲資訊\n",
    "track_metadata_df_sub = track_metadata_df_sub.drop_duplicates(['song_id'])\n",
    "\n",
    "# 將這份音樂訊息數據和之前的歌曲播放數據整合到一起\n",
    "triplet_dataset_sub_song_merged = pd.merge(triplet_dataset_sub_song ,\n",
    "                                           track_metadata_df_sub , \n",
    "                                           how = 'left', \n",
    "                                           left_on = 'song', \n",
    "                                           right_on = 'song_id')\n",
    "\n",
    "# 改一下columns的名字\n",
    "triplet_dataset_sub_song_merged.rename(columns = {'play_count' : 'listen_count'} , inplace = True)\n",
    "\n",
    "# 去掉不需要的column\n",
    "triplet_dataset_sub_song_merged.drop(['track_id' , 'artist_mbid' , \n",
    "                                      'song_id' , 'artist_id' , \n",
    "                                      'duration' , 'artist_familiarity' , \n",
    "                                      'artist_hotttnesss' , 'track_7digitalid' , \n",
    "                                      'shs_perf' , 'shs_work'] , axis = 1 , inplace = True)"
   ]
  },
  {
   "cell_type": "code",
   "execution_count": 4,
   "metadata": {},
   "outputs": [
    {
     "data": {
      "text/html": [
       "<div>\n",
       "<style scoped>\n",
       "    .dataframe tbody tr th:only-of-type {\n",
       "        vertical-align: middle;\n",
       "    }\n",
       "\n",
       "    .dataframe tbody tr th {\n",
       "        vertical-align: top;\n",
       "    }\n",
       "\n",
       "    .dataframe thead th {\n",
       "        text-align: right;\n",
       "    }\n",
       "</style>\n",
       "<table border=\"1\" class=\"dataframe\">\n",
       "  <thead>\n",
       "    <tr style=\"text-align: right;\">\n",
       "      <th></th>\n",
       "      <th>user</th>\n",
       "      <th>song</th>\n",
       "      <th>listen_count</th>\n",
       "      <th>title</th>\n",
       "      <th>release</th>\n",
       "      <th>artist_name</th>\n",
       "      <th>year</th>\n",
       "    </tr>\n",
       "  </thead>\n",
       "  <tbody>\n",
       "    <tr>\n",
       "      <th>0</th>\n",
       "      <td>d6589314c0a9bcbca4fee0c93b14bc402363afea</td>\n",
       "      <td>SOADQPP12A67020C82</td>\n",
       "      <td>12</td>\n",
       "      <td>You And Me Jesus</td>\n",
       "      <td>Tribute To Jake Hess</td>\n",
       "      <td>Jake Hess</td>\n",
       "      <td>2004</td>\n",
       "    </tr>\n",
       "    <tr>\n",
       "      <th>1</th>\n",
       "      <td>d6589314c0a9bcbca4fee0c93b14bc402363afea</td>\n",
       "      <td>SOAFTRR12AF72A8D4D</td>\n",
       "      <td>1</td>\n",
       "      <td>Harder Better Faster Stronger</td>\n",
       "      <td>Discovery</td>\n",
       "      <td>Daft Punk</td>\n",
       "      <td>2007</td>\n",
       "    </tr>\n",
       "    <tr>\n",
       "      <th>2</th>\n",
       "      <td>d6589314c0a9bcbca4fee0c93b14bc402363afea</td>\n",
       "      <td>SOANQFY12AB0183239</td>\n",
       "      <td>1</td>\n",
       "      <td>Uprising</td>\n",
       "      <td>Uprising</td>\n",
       "      <td>Muse</td>\n",
       "      <td>0</td>\n",
       "    </tr>\n",
       "    <tr>\n",
       "      <th>3</th>\n",
       "      <td>d6589314c0a9bcbca4fee0c93b14bc402363afea</td>\n",
       "      <td>SOAYATB12A6701FD50</td>\n",
       "      <td>1</td>\n",
       "      <td>Breakfast At Tiffany's</td>\n",
       "      <td>Home</td>\n",
       "      <td>Deep Blue Something</td>\n",
       "      <td>1993</td>\n",
       "    </tr>\n",
       "    <tr>\n",
       "      <th>4</th>\n",
       "      <td>d6589314c0a9bcbca4fee0c93b14bc402363afea</td>\n",
       "      <td>SOBOAFP12A8C131F36</td>\n",
       "      <td>7</td>\n",
       "      <td>Lucky (Album Version)</td>\n",
       "      <td>We Sing.  We Dance.  We Steal Things.</td>\n",
       "      <td>Jason Mraz &amp; Colbie Caillat</td>\n",
       "      <td>0</td>\n",
       "    </tr>\n",
       "    <tr>\n",
       "      <th>5</th>\n",
       "      <td>d6589314c0a9bcbca4fee0c93b14bc402363afea</td>\n",
       "      <td>SOBONKR12A58A7A7E0</td>\n",
       "      <td>26</td>\n",
       "      <td>You're The One</td>\n",
       "      <td>If There Was A Way</td>\n",
       "      <td>Dwight Yoakam</td>\n",
       "      <td>1990</td>\n",
       "    </tr>\n",
       "    <tr>\n",
       "      <th>6</th>\n",
       "      <td>d6589314c0a9bcbca4fee0c93b14bc402363afea</td>\n",
       "      <td>SOBZZDU12A6310D8A3</td>\n",
       "      <td>7</td>\n",
       "      <td>Don't Dream It's Over</td>\n",
       "      <td>Recurring Dream_ Best Of Crowded House (Domest...</td>\n",
       "      <td>Crowded House</td>\n",
       "      <td>1986</td>\n",
       "    </tr>\n",
       "    <tr>\n",
       "      <th>7</th>\n",
       "      <td>d6589314c0a9bcbca4fee0c93b14bc402363afea</td>\n",
       "      <td>SOCAHRT12A8C13A1A4</td>\n",
       "      <td>5</td>\n",
       "      <td>S.O.S.</td>\n",
       "      <td>SOS</td>\n",
       "      <td>Jonas Brothers</td>\n",
       "      <td>2007</td>\n",
       "    </tr>\n",
       "    <tr>\n",
       "      <th>8</th>\n",
       "      <td>d6589314c0a9bcbca4fee0c93b14bc402363afea</td>\n",
       "      <td>SODASIJ12A6D4F5D89</td>\n",
       "      <td>1</td>\n",
       "      <td>The Invisible Man</td>\n",
       "      <td>The Invisible Man</td>\n",
       "      <td>Michael Cretu</td>\n",
       "      <td>1985</td>\n",
       "    </tr>\n",
       "    <tr>\n",
       "      <th>9</th>\n",
       "      <td>d6589314c0a9bcbca4fee0c93b14bc402363afea</td>\n",
       "      <td>SODEAWL12AB0187032</td>\n",
       "      <td>8</td>\n",
       "      <td>American Idiot [feat. Green Day &amp; The Cast Of ...</td>\n",
       "      <td>The Original Broadway Cast Recording 'American...</td>\n",
       "      <td>Green Day</td>\n",
       "      <td>0</td>\n",
       "    </tr>\n",
       "  </tbody>\n",
       "</table>\n",
       "</div>"
      ],
      "text/plain": [
       "                                       user                song  listen_count  \\\n",
       "0  d6589314c0a9bcbca4fee0c93b14bc402363afea  SOADQPP12A67020C82            12   \n",
       "1  d6589314c0a9bcbca4fee0c93b14bc402363afea  SOAFTRR12AF72A8D4D             1   \n",
       "2  d6589314c0a9bcbca4fee0c93b14bc402363afea  SOANQFY12AB0183239             1   \n",
       "3  d6589314c0a9bcbca4fee0c93b14bc402363afea  SOAYATB12A6701FD50             1   \n",
       "4  d6589314c0a9bcbca4fee0c93b14bc402363afea  SOBOAFP12A8C131F36             7   \n",
       "5  d6589314c0a9bcbca4fee0c93b14bc402363afea  SOBONKR12A58A7A7E0            26   \n",
       "6  d6589314c0a9bcbca4fee0c93b14bc402363afea  SOBZZDU12A6310D8A3             7   \n",
       "7  d6589314c0a9bcbca4fee0c93b14bc402363afea  SOCAHRT12A8C13A1A4             5   \n",
       "8  d6589314c0a9bcbca4fee0c93b14bc402363afea  SODASIJ12A6D4F5D89             1   \n",
       "9  d6589314c0a9bcbca4fee0c93b14bc402363afea  SODEAWL12AB0187032             8   \n",
       "\n",
       "                                               title  \\\n",
       "0                                   You And Me Jesus   \n",
       "1                      Harder Better Faster Stronger   \n",
       "2                                           Uprising   \n",
       "3                             Breakfast At Tiffany's   \n",
       "4                              Lucky (Album Version)   \n",
       "5                                     You're The One   \n",
       "6                              Don't Dream It's Over   \n",
       "7                                             S.O.S.   \n",
       "8                                  The Invisible Man   \n",
       "9  American Idiot [feat. Green Day & The Cast Of ...   \n",
       "\n",
       "                                             release  \\\n",
       "0                               Tribute To Jake Hess   \n",
       "1                                          Discovery   \n",
       "2                                           Uprising   \n",
       "3                                               Home   \n",
       "4              We Sing.  We Dance.  We Steal Things.   \n",
       "5                                 If There Was A Way   \n",
       "6  Recurring Dream_ Best Of Crowded House (Domest...   \n",
       "7                                                SOS   \n",
       "8                                  The Invisible Man   \n",
       "9  The Original Broadway Cast Recording 'American...   \n",
       "\n",
       "                   artist_name  year  \n",
       "0                    Jake Hess  2004  \n",
       "1                    Daft Punk  2007  \n",
       "2                         Muse     0  \n",
       "3          Deep Blue Something  1993  \n",
       "4  Jason Mraz & Colbie Caillat     0  \n",
       "5                Dwight Yoakam  1990  \n",
       "6                Crowded House  1986  \n",
       "7               Jonas Brothers  2007  \n",
       "8                Michael Cretu  1985  \n",
       "9                    Green Day     0  "
      ]
     },
     "execution_count": 4,
     "metadata": {},
     "output_type": "execute_result"
    }
   ],
   "source": [
    "triplet_dataset_sub_song_merged.head(10)"
   ]
  },
  {
   "cell_type": "markdown",
   "metadata": {},
   "source": [
    "現在的數據看起來比較工整，有用戶對某個音樂作品的播放量，還有該音樂作品的名字和發布專輯，以及作者名字和發布時間<br>\n",
    "此時一個新用戶來了不知道給他推薦什麽，這時候就可以利用排行榜單了<br>\n",
    "可以統計最受歡迎的歌曲和歌手是哪些"
   ]
  },
  {
   "cell_type": "markdown",
   "metadata": {},
   "source": [
    "## 開始建造推薦系統"
   ]
  },
  {
   "cell_type": "markdown",
   "metadata": {},
   "source": [
    "## 簡單暴力，排行榜推薦\n",
    "\n",
    "1. 以 Bar Plot 呈現排行榜，分別計算每首歌曲、每個專輯、每個歌手的總播放量，當作推薦依據\n",
    "\n",
    "2. 以 Sheet 呈現排行榜，分別計算每首歌曲、每個專輯、每個歌手的用戶聽過的次數，當作推薦依據"
   ]
  },
  {
   "cell_type": "code",
   "execution_count": 5,
   "metadata": {},
   "outputs": [],
   "source": [
    "def plot_popularity_recommendation_listen_count(data , item , name , color):\n",
    "    # item : title         => 歌曲的總播放量\n",
    "    # item : release       => 專輯的總播放量\n",
    "    # item : artist_name   => 歌手的總播放量\n",
    "    \n",
    "    # item 為 title(歌曲) 的狀況下\n",
    "    # 計算每首歌曲的總播放量\n",
    "    # 若這首歌曲的總播放量越高，代表這首歌曲排名越高\n",
    "    \n",
    "    # 計算每首歌曲各自的播放量\n",
    "    def func(series):\n",
    "        return series.sum()\n",
    "    popular = data[[item , 'listen_count']].groupby(item).apply(lambda x : func(x['listen_count']))\n",
    "    popular = popular.reset_index()\n",
    "    popular.rename(columns = {0 : 'listen_count'} , inplace = True)\n",
    "\n",
    "    # 排序\n",
    "    popular_top = popular.sort_values('listen_count' , ascending = False)\n",
    "\n",
    "    # 計算每首歌的播放量佔總播放量的比例\n",
    "    popular_top['weight'] =  popular_top['listen_count'] / popular_top['listen_count'].sum() * 100\n",
    "\n",
    "    # 取出前20名\n",
    "    top_20 = popular_top[item].iloc[:20].values\n",
    "    top_20_weight = popular_top['weight'].iloc[:20].values\n",
    "\n",
    "    fig , ax = plt.subplots(1 , 1 , figsize = (20 , 10))\n",
    "    ax.bar(top_20 , top_20_weight , alpha = 0.9 , width = 0.5 , facecolor = color , edgecolor = 'black')\n",
    "    ax.set_xlabel(name , fontsize = 30)\n",
    "    ax.set_ylabel('Weight(%)' , fontsize = 30)\n",
    "    plt.xticks(fontsize = 20 , rotation = 90)\n",
    "    plt.yticks(fontsize = 20)\n",
    "\n",
    "    for a , b in zip(top_20 , top_20_weight):  \n",
    "        plt.text(a , b + 0.005 , '{:.2f} %'.format(b), ha = 'center' , va = 'bottom' , fontsize = 20 , rotation = 60)        "
   ]
  },
  {
   "cell_type": "markdown",
   "metadata": {},
   "source": [
    "### 基於總播放量_最受歡迎的歌曲(前20名)"
   ]
  },
  {
   "cell_type": "code",
   "execution_count": 6,
   "metadata": {},
   "outputs": [
    {
     "data": {
      "image/png": "[encoded data removed]",
      "text/plain": [
       "<Figure size 1440x720 with 1 Axes>"
      ]
     },
     "metadata": {
      "needs_background": "light"
     },
     "output_type": "display_data"
    }
   ],
   "source": [
    "plot_popularity_recommendation_listen_count(triplet_dataset_sub_song_merged , 'title' , 'Song' , 'lightskyblue') "
   ]
  },
  {
   "cell_type": "markdown",
   "metadata": {},
   "source": [
    "### 基於總播放量_最受歡迎的專輯(前20名)"
   ]
  },
  {
   "cell_type": "code",
   "execution_count": 7,
   "metadata": {},
   "outputs": [
    {
     "data": {
      "image/png": "[encoded data removed]",
      "text/plain": [
       "<Figure size 1440x720 with 1 Axes>"
      ]
     },
     "metadata": {
      "needs_background": "light"
     },
     "output_type": "display_data"
    }
   ],
   "source": [
    "plot_popularity_recommendation_listen_count(triplet_dataset_sub_song_merged , 'release' , 'Album' , 'pink') "
   ]
  },
  {
   "cell_type": "markdown",
   "metadata": {},
   "source": [
    "### 基於總播放量_最受歡迎的歌手(前20名)"
   ]
  },
  {
   "cell_type": "code",
   "execution_count": 8,
   "metadata": {},
   "outputs": [
    {
     "data": {
      "image/png": "[encoded data removed]",
      "text/plain": [
       "<Figure size 1440x720 with 1 Axes>"
      ]
     },
     "metadata": {
      "needs_background": "light"
     },
     "output_type": "display_data"
    }
   ],
   "source": [
    "plot_popularity_recommendation_listen_count(triplet_dataset_sub_song_merged , 'artist_name' , 'Singer' , 'yellow') "
   ]
  },
  {
   "cell_type": "code",
   "execution_count": 9,
   "metadata": {},
   "outputs": [],
   "source": [
    "def create_popularity_recommendation_user_number(data , item):\n",
    "    # item : title         => 計算每首歌曲有多少用戶聽過\n",
    "    # item : release       => 計算每個專輯有多少用戶聽過\n",
    "    # item : artist_name   => 計算每個歌手有多少用戶聽過\n",
    "    \n",
    "    # item 為 title(歌曲) 的狀況下\n",
    "    # 計算有多少用戶播放過這首歌曲 \n",
    "    # 若這首歌曲有越多用戶播放，代表這首歌曲排名越高\n",
    "    def func(series):\n",
    "        return series.count()\n",
    "    popular = data[['user' , item]].groupby(item).apply(lambda x : func(x['user']))\n",
    "    popular = popular.reset_index()\n",
    "    \n",
    "    # 將column的名字換掉\n",
    "    popular.rename(columns = {0 : 'score'} , inplace = True)\n",
    "    \n",
    "    # 由大到小排序\n",
    "    popular_top = popular.sort_values('score' , ascending = False)\n",
    "    popular_top.reset_index(inplace = True)\n",
    "    \n",
    "    # 增加排名結果\n",
    "    popular_top['rank'] = np.arange(1 , len(popular_top) + 1)\n",
    "    \n",
    "    # 取前20名的結果\n",
    "    return popular_top.head(20)"
   ]
  },
  {
   "cell_type": "markdown",
   "metadata": {},
   "source": [
    "### 基於有多少用戶聽過最受歡迎的歌曲(前20名)"
   ]
  },
  {
   "cell_type": "code",
   "execution_count": 10,
   "metadata": {},
   "outputs": [
    {
     "data": {
      "text/html": [
       "<div>\n",
       "<style scoped>\n",
       "    .dataframe tbody tr th:only-of-type {\n",
       "        vertical-align: middle;\n",
       "    }\n",
       "\n",
       "    .dataframe tbody tr th {\n",
       "        vertical-align: top;\n",
       "    }\n",
       "\n",
       "    .dataframe thead th {\n",
       "        text-align: right;\n",
       "    }\n",
       "</style>\n",
       "<table border=\"1\" class=\"dataframe\">\n",
       "  <thead>\n",
       "    <tr style=\"text-align: right;\">\n",
       "      <th></th>\n",
       "      <th>index</th>\n",
       "      <th>title</th>\n",
       "      <th>score</th>\n",
       "      <th>rank</th>\n",
       "    </tr>\n",
       "  </thead>\n",
       "  <tbody>\n",
       "    <tr>\n",
       "      <th>0</th>\n",
       "      <td>19580</td>\n",
       "      <td>Sehr kosmisch</td>\n",
       "      <td>18626</td>\n",
       "      <td>1</td>\n",
       "    </tr>\n",
       "    <tr>\n",
       "      <th>1</th>\n",
       "      <td>5780</td>\n",
       "      <td>Dog Days Are Over (Radio Edit)</td>\n",
       "      <td>17635</td>\n",
       "      <td>2</td>\n",
       "    </tr>\n",
       "    <tr>\n",
       "      <th>2</th>\n",
       "      <td>27314</td>\n",
       "      <td>You're The One</td>\n",
       "      <td>16085</td>\n",
       "      <td>3</td>\n",
       "    </tr>\n",
       "    <tr>\n",
       "      <th>3</th>\n",
       "      <td>19542</td>\n",
       "      <td>Secrets</td>\n",
       "      <td>15138</td>\n",
       "      <td>4</td>\n",
       "    </tr>\n",
       "    <tr>\n",
       "      <th>4</th>\n",
       "      <td>18636</td>\n",
       "      <td>Revelry</td>\n",
       "      <td>14945</td>\n",
       "      <td>5</td>\n",
       "    </tr>\n",
       "    <tr>\n",
       "      <th>5</th>\n",
       "      <td>25070</td>\n",
       "      <td>Undo</td>\n",
       "      <td>14687</td>\n",
       "      <td>6</td>\n",
       "    </tr>\n",
       "    <tr>\n",
       "      <th>6</th>\n",
       "      <td>7530</td>\n",
       "      <td>Fireflies</td>\n",
       "      <td>13085</td>\n",
       "      <td>7</td>\n",
       "    </tr>\n",
       "    <tr>\n",
       "      <th>7</th>\n",
       "      <td>9640</td>\n",
       "      <td>Hey_ Soul Sister</td>\n",
       "      <td>12993</td>\n",
       "      <td>8</td>\n",
       "    </tr>\n",
       "    <tr>\n",
       "      <th>8</th>\n",
       "      <td>25216</td>\n",
       "      <td>Use Somebody</td>\n",
       "      <td>12793</td>\n",
       "      <td>9</td>\n",
       "    </tr>\n",
       "    <tr>\n",
       "      <th>9</th>\n",
       "      <td>9921</td>\n",
       "      <td>Horn Concerto No. 4 in E flat K495: II. Romanc...</td>\n",
       "      <td>12346</td>\n",
       "      <td>10</td>\n",
       "    </tr>\n",
       "    <tr>\n",
       "      <th>10</th>\n",
       "      <td>24291</td>\n",
       "      <td>Tive Sim</td>\n",
       "      <td>11831</td>\n",
       "      <td>11</td>\n",
       "    </tr>\n",
       "    <tr>\n",
       "      <th>11</th>\n",
       "      <td>3629</td>\n",
       "      <td>Canada</td>\n",
       "      <td>11598</td>\n",
       "      <td>12</td>\n",
       "    </tr>\n",
       "    <tr>\n",
       "      <th>12</th>\n",
       "      <td>23468</td>\n",
       "      <td>The Scientist</td>\n",
       "      <td>11529</td>\n",
       "      <td>13</td>\n",
       "    </tr>\n",
       "    <tr>\n",
       "      <th>13</th>\n",
       "      <td>4194</td>\n",
       "      <td>Clocks</td>\n",
       "      <td>11357</td>\n",
       "      <td>14</td>\n",
       "    </tr>\n",
       "    <tr>\n",
       "      <th>14</th>\n",
       "      <td>12135</td>\n",
       "      <td>Just Dance</td>\n",
       "      <td>11058</td>\n",
       "      <td>15</td>\n",
       "    </tr>\n",
       "    <tr>\n",
       "      <th>15</th>\n",
       "      <td>26974</td>\n",
       "      <td>Yellow</td>\n",
       "      <td>10919</td>\n",
       "      <td>16</td>\n",
       "    </tr>\n",
       "    <tr>\n",
       "      <th>16</th>\n",
       "      <td>16438</td>\n",
       "      <td>OMG</td>\n",
       "      <td>10818</td>\n",
       "      <td>17</td>\n",
       "    </tr>\n",
       "    <tr>\n",
       "      <th>17</th>\n",
       "      <td>9844</td>\n",
       "      <td>Home</td>\n",
       "      <td>10512</td>\n",
       "      <td>18</td>\n",
       "    </tr>\n",
       "    <tr>\n",
       "      <th>18</th>\n",
       "      <td>3295</td>\n",
       "      <td>Bulletproof</td>\n",
       "      <td>10383</td>\n",
       "      <td>19</td>\n",
       "    </tr>\n",
       "    <tr>\n",
       "      <th>19</th>\n",
       "      <td>4760</td>\n",
       "      <td>Creep (Explicit)</td>\n",
       "      <td>10246</td>\n",
       "      <td>20</td>\n",
       "    </tr>\n",
       "  </tbody>\n",
       "</table>\n",
       "</div>"
      ],
      "text/plain": [
       "    index                                              title  score  rank\n",
       "0   19580                                      Sehr kosmisch  18626     1\n",
       "1    5780                     Dog Days Are Over (Radio Edit)  17635     2\n",
       "2   27314                                     You're The One  16085     3\n",
       "3   19542                                            Secrets  15138     4\n",
       "4   18636                                            Revelry  14945     5\n",
       "5   25070                                               Undo  14687     6\n",
       "6    7530                                          Fireflies  13085     7\n",
       "7    9640                                   Hey_ Soul Sister  12993     8\n",
       "8   25216                                       Use Somebody  12793     9\n",
       "9    9921  Horn Concerto No. 4 in E flat K495: II. Romanc...  12346    10\n",
       "10  24291                                           Tive Sim  11831    11\n",
       "11   3629                                             Canada  11598    12\n",
       "12  23468                                      The Scientist  11529    13\n",
       "13   4194                                             Clocks  11357    14\n",
       "14  12135                                         Just Dance  11058    15\n",
       "15  26974                                             Yellow  10919    16\n",
       "16  16438                                                OMG  10818    17\n",
       "17   9844                                               Home  10512    18\n",
       "18   3295                                        Bulletproof  10383    19\n",
       "19   4760                                   Creep (Explicit)  10246    20"
      ]
     },
     "execution_count": 10,
     "metadata": {},
     "output_type": "execute_result"
    }
   ],
   "source": [
    "recommendation = create_popularity_recommendation_user_number(triplet_dataset_sub_song_merged , 'title')\n",
    "recommendation"
   ]
  },
  {
   "cell_type": "markdown",
   "metadata": {},
   "source": [
    "### 基於有多少用戶聽過最受歡迎的專輯(前20名)"
   ]
  },
  {
   "cell_type": "code",
   "execution_count": 11,
   "metadata": {},
   "outputs": [
    {
     "data": {
      "text/html": [
       "<div>\n",
       "<style scoped>\n",
       "    .dataframe tbody tr th:only-of-type {\n",
       "        vertical-align: middle;\n",
       "    }\n",
       "\n",
       "    .dataframe tbody tr th {\n",
       "        vertical-align: top;\n",
       "    }\n",
       "\n",
       "    .dataframe thead th {\n",
       "        text-align: right;\n",
       "    }\n",
       "</style>\n",
       "<table border=\"1\" class=\"dataframe\">\n",
       "  <thead>\n",
       "    <tr style=\"text-align: right;\">\n",
       "      <th></th>\n",
       "      <th>index</th>\n",
       "      <th>release</th>\n",
       "      <th>score</th>\n",
       "      <th>rank</th>\n",
       "    </tr>\n",
       "  </thead>\n",
       "  <tbody>\n",
       "    <tr>\n",
       "      <th>0</th>\n",
       "      <td>4786</td>\n",
       "      <td>Greatest Hits</td>\n",
       "      <td>74197</td>\n",
       "      <td>1</td>\n",
       "    </tr>\n",
       "    <tr>\n",
       "      <th>1</th>\n",
       "      <td>7925</td>\n",
       "      <td>My Worlds</td>\n",
       "      <td>37006</td>\n",
       "      <td>2</td>\n",
       "    </tr>\n",
       "    <tr>\n",
       "      <th>2</th>\n",
       "      <td>7144</td>\n",
       "      <td>Lungs</td>\n",
       "      <td>30967</td>\n",
       "      <td>3</td>\n",
       "    </tr>\n",
       "    <tr>\n",
       "      <th>3</th>\n",
       "      <td>13737</td>\n",
       "      <td>Waking Up</td>\n",
       "      <td>27839</td>\n",
       "      <td>4</td>\n",
       "    </tr>\n",
       "    <tr>\n",
       "      <th>4</th>\n",
       "      <td>467</td>\n",
       "      <td>A Rush Of Blood To The Head</td>\n",
       "      <td>27008</td>\n",
       "      <td>5</td>\n",
       "    </tr>\n",
       "    <tr>\n",
       "      <th>5</th>\n",
       "      <td>9911</td>\n",
       "      <td>Save Me_ San Francisco</td>\n",
       "      <td>26407</td>\n",
       "      <td>6</td>\n",
       "    </tr>\n",
       "    <tr>\n",
       "      <th>6</th>\n",
       "      <td>8512</td>\n",
       "      <td>Only By The Night</td>\n",
       "      <td>25755</td>\n",
       "      <td>7</td>\n",
       "    </tr>\n",
       "    <tr>\n",
       "      <th>7</th>\n",
       "      <td>13566</td>\n",
       "      <td>Vampire Weekend</td>\n",
       "      <td>25603</td>\n",
       "      <td>8</td>\n",
       "    </tr>\n",
       "    <tr>\n",
       "      <th>8</th>\n",
       "      <td>11907</td>\n",
       "      <td>The Fame Monster</td>\n",
       "      <td>25040</td>\n",
       "      <td>9</td>\n",
       "    </tr>\n",
       "    <tr>\n",
       "      <th>9</th>\n",
       "      <td>8266</td>\n",
       "      <td>Now That's What I Call Music! 75</td>\n",
       "      <td>23291</td>\n",
       "      <td>10</td>\n",
       "    </tr>\n",
       "    <tr>\n",
       "      <th>10</th>\n",
       "      <td>1956</td>\n",
       "      <td>Brothers</td>\n",
       "      <td>22826</td>\n",
       "      <td>11</td>\n",
       "    </tr>\n",
       "    <tr>\n",
       "      <th>11</th>\n",
       "      <td>1400</td>\n",
       "      <td>Battle Studies</td>\n",
       "      <td>22213</td>\n",
       "      <td>12</td>\n",
       "    </tr>\n",
       "    <tr>\n",
       "      <th>12</th>\n",
       "      <td>5697</td>\n",
       "      <td>In Between Dreams</td>\n",
       "      <td>22107</td>\n",
       "      <td>13</td>\n",
       "    </tr>\n",
       "    <tr>\n",
       "      <th>13</th>\n",
       "      <td>4602</td>\n",
       "      <td>Give Up</td>\n",
       "      <td>20919</td>\n",
       "      <td>14</td>\n",
       "    </tr>\n",
       "    <tr>\n",
       "      <th>14</th>\n",
       "      <td>4260</td>\n",
       "      <td>For Emma_ Forever Ago</td>\n",
       "      <td>19125</td>\n",
       "      <td>15</td>\n",
       "    </tr>\n",
       "    <tr>\n",
       "      <th>15</th>\n",
       "      <td>7846</td>\n",
       "      <td>Musik von Harmonia</td>\n",
       "      <td>18626</td>\n",
       "      <td>16</td>\n",
       "    </tr>\n",
       "    <tr>\n",
       "      <th>16</th>\n",
       "      <td>3214</td>\n",
       "      <td>Discovery</td>\n",
       "      <td>18098</td>\n",
       "      <td>17</td>\n",
       "    </tr>\n",
       "    <tr>\n",
       "      <th>17</th>\n",
       "      <td>2054</td>\n",
       "      <td>Cage The Elephant</td>\n",
       "      <td>18053</td>\n",
       "      <td>18</td>\n",
       "    </tr>\n",
       "    <tr>\n",
       "      <th>18</th>\n",
       "      <td>5403</td>\n",
       "      <td>Hybrid Theory</td>\n",
       "      <td>17561</td>\n",
       "      <td>19</td>\n",
       "    </tr>\n",
       "    <tr>\n",
       "      <th>19</th>\n",
       "      <td>12454</td>\n",
       "      <td>The Singles Collection</td>\n",
       "      <td>17485</td>\n",
       "      <td>20</td>\n",
       "    </tr>\n",
       "  </tbody>\n",
       "</table>\n",
       "</div>"
      ],
      "text/plain": [
       "    index                           release  score  rank\n",
       "0    4786                     Greatest Hits  74197     1\n",
       "1    7925                         My Worlds  37006     2\n",
       "2    7144                             Lungs  30967     3\n",
       "3   13737                         Waking Up  27839     4\n",
       "4     467       A Rush Of Blood To The Head  27008     5\n",
       "5    9911            Save Me_ San Francisco  26407     6\n",
       "6    8512                 Only By The Night  25755     7\n",
       "7   13566                   Vampire Weekend  25603     8\n",
       "8   11907                  The Fame Monster  25040     9\n",
       "9    8266  Now That's What I Call Music! 75  23291    10\n",
       "10   1956                          Brothers  22826    11\n",
       "11   1400                    Battle Studies  22213    12\n",
       "12   5697                 In Between Dreams  22107    13\n",
       "13   4602                           Give Up  20919    14\n",
       "14   4260             For Emma_ Forever Ago  19125    15\n",
       "15   7846                Musik von Harmonia  18626    16\n",
       "16   3214                         Discovery  18098    17\n",
       "17   2054                 Cage The Elephant  18053    18\n",
       "18   5403                     Hybrid Theory  17561    19\n",
       "19  12454            The Singles Collection  17485    20"
      ]
     },
     "execution_count": 11,
     "metadata": {},
     "output_type": "execute_result"
    }
   ],
   "source": [
    "recommendation = create_popularity_recommendation_user_number(triplet_dataset_sub_song_merged , 'release')\n",
    "recommendation"
   ]
  },
  {
   "cell_type": "markdown",
   "metadata": {},
   "source": [
    "### 基於有多少用戶聽過最受歡迎的歌手(前20名)"
   ]
  },
  {
   "cell_type": "code",
   "execution_count": 12,
   "metadata": {},
   "outputs": [
    {
     "data": {
      "text/html": [
       "<div>\n",
       "<style scoped>\n",
       "    .dataframe tbody tr th:only-of-type {\n",
       "        vertical-align: middle;\n",
       "    }\n",
       "\n",
       "    .dataframe tbody tr th {\n",
       "        vertical-align: top;\n",
       "    }\n",
       "\n",
       "    .dataframe thead th {\n",
       "        text-align: right;\n",
       "    }\n",
       "</style>\n",
       "<table border=\"1\" class=\"dataframe\">\n",
       "  <thead>\n",
       "    <tr style=\"text-align: right;\">\n",
       "      <th></th>\n",
       "      <th>index</th>\n",
       "      <th>artist_name</th>\n",
       "      <th>score</th>\n",
       "      <th>rank</th>\n",
       "    </tr>\n",
       "  </thead>\n",
       "  <tbody>\n",
       "    <tr>\n",
       "      <th>0</th>\n",
       "      <td>1686</td>\n",
       "      <td>Coldplay</td>\n",
       "      <td>125818</td>\n",
       "      <td>1</td>\n",
       "    </tr>\n",
       "    <tr>\n",
       "      <th>1</th>\n",
       "      <td>7505</td>\n",
       "      <td>The Black Keys</td>\n",
       "      <td>95067</td>\n",
       "      <td>2</td>\n",
       "    </tr>\n",
       "    <tr>\n",
       "      <th>2</th>\n",
       "      <td>7795</td>\n",
       "      <td>The Killers</td>\n",
       "      <td>74316</td>\n",
       "      <td>3</td>\n",
       "    </tr>\n",
       "    <tr>\n",
       "      <th>3</th>\n",
       "      <td>3594</td>\n",
       "      <td>Jack Johnson</td>\n",
       "      <td>72891</td>\n",
       "      <td>4</td>\n",
       "    </tr>\n",
       "    <tr>\n",
       "      <th>4</th>\n",
       "      <td>4298</td>\n",
       "      <td>Kings Of Leon</td>\n",
       "      <td>69684</td>\n",
       "      <td>5</td>\n",
       "    </tr>\n",
       "    <tr>\n",
       "      <th>5</th>\n",
       "      <td>6245</td>\n",
       "      <td>Radiohead</td>\n",
       "      <td>69342</td>\n",
       "      <td>6</td>\n",
       "    </tr>\n",
       "    <tr>\n",
       "      <th>6</th>\n",
       "      <td>1908</td>\n",
       "      <td>Daft Punk</td>\n",
       "      <td>64997</td>\n",
       "      <td>7</td>\n",
       "    </tr>\n",
       "    <tr>\n",
       "      <th>7</th>\n",
       "      <td>5467</td>\n",
       "      <td>Muse</td>\n",
       "      <td>64687</td>\n",
       "      <td>8</td>\n",
       "    </tr>\n",
       "    <tr>\n",
       "      <th>8</th>\n",
       "      <td>2850</td>\n",
       "      <td>Florence + The Machine</td>\n",
       "      <td>61106</td>\n",
       "      <td>9</td>\n",
       "    </tr>\n",
       "    <tr>\n",
       "      <th>9</th>\n",
       "      <td>5202</td>\n",
       "      <td>Metallica</td>\n",
       "      <td>46141</td>\n",
       "      <td>10</td>\n",
       "    </tr>\n",
       "    <tr>\n",
       "      <th>10</th>\n",
       "      <td>4628</td>\n",
       "      <td>Linkin Park</td>\n",
       "      <td>45188</td>\n",
       "      <td>11</td>\n",
       "    </tr>\n",
       "    <tr>\n",
       "      <th>11</th>\n",
       "      <td>3900</td>\n",
       "      <td>John Mayer</td>\n",
       "      <td>42887</td>\n",
       "      <td>12</td>\n",
       "    </tr>\n",
       "    <tr>\n",
       "      <th>12</th>\n",
       "      <td>2536</td>\n",
       "      <td>Eminem</td>\n",
       "      <td>41601</td>\n",
       "      <td>13</td>\n",
       "    </tr>\n",
       "    <tr>\n",
       "      <th>13</th>\n",
       "      <td>4081</td>\n",
       "      <td>Justin Bieber</td>\n",
       "      <td>40815</td>\n",
       "      <td>14</td>\n",
       "    </tr>\n",
       "    <tr>\n",
       "      <th>14</th>\n",
       "      <td>3221</td>\n",
       "      <td>Guns N' Roses</td>\n",
       "      <td>40518</td>\n",
       "      <td>15</td>\n",
       "    </tr>\n",
       "    <tr>\n",
       "      <th>15</th>\n",
       "      <td>6449</td>\n",
       "      <td>Rise Against</td>\n",
       "      <td>39391</td>\n",
       "      <td>16</td>\n",
       "    </tr>\n",
       "    <tr>\n",
       "      <th>16</th>\n",
       "      <td>359</td>\n",
       "      <td>Amy Winehouse</td>\n",
       "      <td>39070</td>\n",
       "      <td>17</td>\n",
       "    </tr>\n",
       "    <tr>\n",
       "      <th>17</th>\n",
       "      <td>8345</td>\n",
       "      <td>Train</td>\n",
       "      <td>38796</td>\n",
       "      <td>18</td>\n",
       "    </tr>\n",
       "    <tr>\n",
       "      <th>18</th>\n",
       "      <td>3159</td>\n",
       "      <td>Gorillaz</td>\n",
       "      <td>38704</td>\n",
       "      <td>19</td>\n",
       "    </tr>\n",
       "    <tr>\n",
       "      <th>19</th>\n",
       "      <td>761</td>\n",
       "      <td>Beirut</td>\n",
       "      <td>37803</td>\n",
       "      <td>20</td>\n",
       "    </tr>\n",
       "  </tbody>\n",
       "</table>\n",
       "</div>"
      ],
      "text/plain": [
       "    index             artist_name   score  rank\n",
       "0    1686                Coldplay  125818     1\n",
       "1    7505          The Black Keys   95067     2\n",
       "2    7795             The Killers   74316     3\n",
       "3    3594            Jack Johnson   72891     4\n",
       "4    4298           Kings Of Leon   69684     5\n",
       "5    6245               Radiohead   69342     6\n",
       "6    1908               Daft Punk   64997     7\n",
       "7    5467                    Muse   64687     8\n",
       "8    2850  Florence + The Machine   61106     9\n",
       "9    5202               Metallica   46141    10\n",
       "10   4628             Linkin Park   45188    11\n",
       "11   3900              John Mayer   42887    12\n",
       "12   2536                  Eminem   41601    13\n",
       "13   4081           Justin Bieber   40815    14\n",
       "14   3221           Guns N' Roses   40518    15\n",
       "15   6449            Rise Against   39391    16\n",
       "16    359           Amy Winehouse   39070    17\n",
       "17   8345                   Train   38796    18\n",
       "18   3159                Gorillaz   38704    19\n",
       "19    761                  Beirut   37803    20"
      ]
     },
     "execution_count": 12,
     "metadata": {},
     "output_type": "execute_result"
    }
   ],
   "source": [
    "recommendation = create_popularity_recommendation_user_number(triplet_dataset_sub_song_merged , 'artist_name')\n",
    "recommendation"
   ]
  },
  {
   "cell_type": "markdown",
   "metadata": {},
   "source": [
    "## 基于歌曲相似度的推薦(以item為base的協同過濾)"
   ]
  },
  {
   "cell_type": "markdown",
   "metadata": {},
   "source": [
    "要針對某一個用戶進行推薦，那一定要先得到他聽過的歌曲，通過這些已被聽過的歌曲跟整個數據集中的歌曲進行對比，看哪些歌曲跟用戶已聽過的比較類似，推薦的就是這些類似的<br><br>\n",
    "如何計算呢？例如當前用戶聽過了100首歌曲，整個數據集中有1000個歌曲，要做的就是創造一個[100 , 1000]的矩陣，其中每一個值表示用戶聽過的每一個歌曲和數據集中每一個歌曲的相似度<br><br>\n",
    "這裡使用Jaccard相似系數，Jaccard矩陣中[i , j]的含義就是用戶聽過的第i首歌曲這些歌曲被哪些人聽過，數據集中的j歌曲被哪些人聽過\n",
    "\n",
    "<img src=\"jaccard.png\" style=\"width:450px;height:80px;float\">\n",
    "\n",
    "如果兩個歌曲很相似，那結果應該是一致的，交集/並集的比例應該比較大，如果兩個歌曲沒有什麼相關性，其值應當就比較小了<br><br>\n",
    "一開始要對數據集中每一個待推薦的歌曲都需要跟該用戶所有聽過的歌曲計算其Jaccard值，例如歌曲j需要跟欲推薦用戶聽過的100個歌曲計算其值，最終是否推薦的得分值還要進行處理，需要把這100個值加在一起求平均，來代表該歌曲的推薦得分"
   ]
  },
  {
   "cell_type": "markdown",
   "metadata": {},
   "source": [
    "為了不要等程式跑太久，只用了比較少量的數據來分析，不過用以下這個程式來跑，不知道要跑到猴年馬月，迴圈惡夢!!!!!!"
   ]
  },
  {
   "cell_type": "code",
   "execution_count": null,
   "metadata": {},
   "outputs": [],
   "source": [
    "sub_set = pd.read_csv(filepath_or_buffer = './sub_set.csv' , encoding = 'ISO-8859-1')\n",
    "user = 'a974fc428825ed071281302d6976f59bfa95fe7e' # 針對某一個用戶進行推薦\n",
    "total_song = list(set(sub_set['title'])) # 取得sub_set中所有的歌曲\n",
    "user_song = list(set(sub_set.loc[sub_set['user'] == user]['title'])) # 取得欲推薦用戶聽過的所有歌曲\n",
    "\n",
    "# 計算Jaccardr矩陣\n",
    "jaccard = np.zeros((len(user_song) , len(total_song)))\n",
    "for i , song_i in enumerate(user_song):\n",
    "    for j , song_j in enumerate(total_song):\n",
    "\n",
    "        # 把聽過i這首歌的人取出來\n",
    "        user_set_i = set(sub_set.loc[sub_set['title'] == song_i]['user'])\n",
    "\n",
    "        # 把聽過j這首歌的人取出來\n",
    "        user_set_j = set(sub_set.loc[sub_set['title'] == song_j]['user'])\n",
    "\n",
    "        # user_set_i、user_set_j 取交集\n",
    "        intersection = list(user_set_j.intersection(user_set_i))\n",
    "\n",
    "        if len(intersection) != 0:\n",
    "            # user_set_i、user_set_j 取聯集\n",
    "            union = list(user_set_i.union(user_set_j))\n",
    "    \n",
    "            # 交集 / 聯集\n",
    "            jaccard[i , j] = len(intersection) / len(union)\n",
    "\n",
    "        # 假如沒有交集，也就不需要計算聯集了\n",
    "        elif len(intersection) == 0:\n",
    "            jaccard[i , j] = 0  \n",
    "            \n",
    "score = jaccard.mean(axis = 0)\n",
    "rank_index = score.argsort()[::-1] # score由大排到小的index全部取出來\n",
    "for i in range(0 , 20):\n",
    "    print(total_song[rank_index[i]])            "
   ]
  },
  {
   "cell_type": "markdown",
   "metadata": {},
   "source": [
    "以下提供multiprocessing版本，以8核心的cpu運算，但光推薦一個用戶還是要8~9小時<br>\n",
    "記得要在cmd下執行!!"
   ]
  },
  {
   "cell_type": "code",
   "execution_count": null,
   "metadata": {},
   "outputs": [],
   "source": [
    "global sub_set , total_song , user_song\n",
    "sub_set = pd.read_csv(filepath_or_buffer = './sub_set.csv' , encoding = 'ISO-8859-1')\n",
    "user = 'a974fc428825ed071281302d6976f59bfa95fe7e' # 針對某一個用戶進行推薦\n",
    "total_song = list(set(sub_set['title'])) # 取得sub_set中所有的歌曲\n",
    "user_song = list(set(sub_set.loc[sub_set['user'] == user]['title'])) # 取得欲推薦用戶聽過的所有歌曲(此用戶共聽過66首歌曲)\n",
    "total_song = sorted(total_song) # 排序以固定順序\n",
    "user_song = sorted(user_song) # 排序以固定順序\n",
    "\n",
    "def job(q , core , index):\n",
    "    global sub_set , total_song , user_song\n",
    "    target_song = user_song[index[0] : index[1]]\n",
    "    jaccard = np.zeros((len(target_song) , len(total_song)))\n",
    "\n",
    "    for i , song_i in enumerate(target_song):\n",
    "        for j , song_j in enumerate(total_song):\n",
    "    \n",
    "            print('進度 => core : {} , 欲推薦用戶聽過的歌曲 : {} , 所有用戶聽過的歌曲 : {}'.format(core , i , j))\n",
    "    \n",
    "            # 把聽過i這首歌的人取出來\n",
    "            user_set_i = set(sub_set.loc[sub_set['title'] == song_i]['user'])\n",
    "    \n",
    "            # 把聽過j這首歌的人取出來\n",
    "            user_set_j = set(sub_set.loc[sub_set['title'] == song_j]['user'])\n",
    "    \n",
    "            # user_set_i、user_set_j 取交集\n",
    "            intersection = list(user_set_j.intersection(user_set_i))\n",
    "\n",
    "            if len(intersection) != 0:\n",
    "                # user_set_i、user_set_j 取聯集\n",
    "                union = list(user_set_i.union(user_set_j))\n",
    "        \n",
    "                # 交集 / 聯集\n",
    "                jaccard[i , j] = len(intersection) / len(union)\n",
    "    \n",
    "            # 假如沒有交集，也就不需要計算聯集了，可以加快計算速度\n",
    "            elif len(intersection) == 0:\n",
    "                jaccard[i , j] = 0\n",
    "\n",
    "    q.put([core , jaccard])\n",
    "\n",
    "\n",
    "if __name__ == '__main__':\n",
    "    # Jaccard matrix總共有66個row\n",
    "    # 將Jaccard matrix的row分為8組(因為有8個core)處理，每1組core要處理8個row，而最後2組core要處理10個row\n",
    "\n",
    "    # 決定好每個core要負責的row\n",
    "    # 例如[8 , 16] => row : 8 ~ 15\n",
    "    index_list = [[0 , 8] , [8 , 16] , [16 , 24] , [24 , 32] , [32 , 40] , [40 , 48] , [48 , 56] , [56 , 66]]\n",
    "    processes = []\n",
    "    manager = mp.Manager()\n",
    "    q = manager.Queue()\n",
    "    for core , index in enumerate(index_list):\n",
    "        p = mp.Process(target = job , args = [q , core , index])\n",
    "        p.start()\n",
    "        processes.append(p)\n",
    "\n",
    "    for process in processes:\n",
    "        process.join()\n",
    "    \n",
    "    print('q.full()  : ' , q.full())\n",
    "    outcome = []\n",
    "    for _ in range(0 , len(processes)):\n",
    "        outcome.append(q.get())\n",
    "        print('q.qsize() : ' , q.qsize())\n",
    "\n",
    "    # 將outcome按照core的順序排列\n",
    "    # 可以讓Jaccard matrix的row的順序與user_song的順序相同\n",
    "    outcome = sorted(outcome , key = lambda x : x[0])\n",
    "\n",
    "    Jaccard = outcome[0][1]\n",
    "    for i , jaccard in enumerate(outcome):\n",
    "        if i > 0:\n",
    "            Jaccard = np.vstack([Jaccard , jaccard[1]])\n",
    "\n",
    "    # 將Jaccard matrix存檔\n",
    "    np.save('Jaccard_matrix' , Jaccard)"
   ]
  },
  {
   "cell_type": "code",
   "execution_count": null,
   "metadata": {},
   "outputs": [],
   "source": [
    "# 讀取Jaccard_matrix.npy\n",
    "Jaccard_matrix = np.load('Jaccard_matrix.npy')\n",
    "score = Jaccard_matrix.mean(axis = 0)\n",
    "rank = score.argsort()[::-1] # score由大排到小的index全部取出來\n",
    "\n",
    "for i in range(0 , 20):\n",
    "    print(total_song[rank[i]])"
   ]
  },
  {
   "cell_type": "markdown",
   "metadata": {},
   "source": [
    "## 基於矩陣分解（SVD）的推薦\n",
    "\n",
    "相似度計算的方法概念相當簡單，但是計算的時間與資源實在太多了<br>\n",
    "\n",
    "對每一個用戶都需要多次使用整個數據集來進行計算，矩陣分解的方法是當下更常使用的方法\n",
    "奇異值分解(Singular Value Decomposition，SVD)是矩陣分解中一個經典方法，接下來的推薦就可以SVD來進行計算，奇異值分解的基本出發點跟之前講的隱語義模型有些類似都是將大矩陣轉換成小矩陣的組合,基本形式如下圖所示："
   ]
  },
  {
   "cell_type": "markdown",
   "metadata": {},
   "source": [
    "<img src=\"svd_1.png\" style=\"width:550px;height:280px;float:left\">\n",
    "<img src=\"svd_5.png\" style=\"width:350px;height:280px;float:left\">"
   ]
  },
  {
   "cell_type": "markdown",
   "metadata": {},
   "source": [
    "對矩陣進行SVD分解，將得到USV"
   ]
  },
  {
   "cell_type": "markdown",
   "metadata": {},
   "source": [
    "<img src=\"svd_2.png\" style=\"width:500px;height:380px;float:left\"><img src=\"svd_3.png\" style=\"width:400px;height:200px;float:left\">"
   ]
  },
  {
   "cell_type": "markdown",
   "metadata": {},
   "source": [
    "可以看一下S的對角線的值，若是前幾項加起來已經達到夠大的比例(例如95%)就取幾項，例如例子中是取2項\n",
    "重新計算U*S*V的結果得到A2 來比較下A2和A的差異，看起來差異是有的，但是並不大，所以可以近似來代替"
   ]
  },
  {
   "cell_type": "markdown",
   "metadata": {},
   "source": [
    "<img src=\"svd_4.png\" style=\"width:330px;height:220px;float:left\">\n",
    "<img src=\"svd_5.png\" style=\"width:330px;height:220px;float:left\">"
   ]
  },
  {
   "cell_type": "markdown",
   "metadata": {},
   "source": [
    "<img src=\"svd_6.png\" style=\"width:650px;height:480px;float:left\">"
   ]
  },
  {
   "cell_type": "markdown",
   "metadata": {},
   "source": [
    "<img src=\"svd_7.png\" style=\"width:650px;height:480px;float:left\">\n",
    "<img src=\"svd_8.png\" style=\"width:650px;height:480px;float:left\">"
   ]
  },
  {
   "cell_type": "markdown",
   "metadata": {},
   "source": [
    "### 製作user與item矩陣範例"
   ]
  },
  {
   "cell_type": "code",
   "execution_count": 13,
   "metadata": {},
   "outputs": [],
   "source": [
    "ex = pd.DataFrame({'user':['Kevin' , 'Tom' , 'Mary' , 'Kevin' , 'Jane' , 'Chris' , 'Joy' , 'Tom' , 'Bird'] , \n",
    "                   'item':['出口' , '馬戲團運動' , '馬戲團運動' , '麋途' , '天黑' , '黃昏市長' , '麋途' , '沒名字的人類' , '出口'] ,\n",
    "                   'score':[10 , 9 , 7 , 6 , 8 , 6 , 4 , 3 , 5]})\n",
    "\n",
    "# 決定user的index\n",
    "user = ex['user'].drop_duplicates().reset_index()\n",
    "user['user_index'] = user.index\n",
    "\n",
    "# 決定item的index\n",
    "item = ex['item'].drop_duplicates().reset_index()\n",
    "item['item_index'] = item.index\n",
    "\n",
    "# 製作row為user、column為song的矩陣\n",
    "ex_ = pd.merge(left = ex , right = user , on = 'user'  , how = 'left')\n",
    "ex_ = pd.merge(left = ex_ , right = item , on = 'item' , how = 'left')\n",
    "ex_ = ex_.sort_values(by = 'user_index').reset_index(drop = True)\n",
    "score = np.array(ex_.score)\n",
    "user_index = np.array(ex_.user_index)\n",
    "item_index = np.array(ex_.item_index)\n",
    "sparse_matrix = coo_matrix((score , (user_index , item_index))).toarray()"
   ]
  },
  {
   "cell_type": "code",
   "execution_count": 14,
   "metadata": {},
   "outputs": [
    {
     "data": {
      "text/html": [
       "<div>\n",
       "<style scoped>\n",
       "    .dataframe tbody tr th:only-of-type {\n",
       "        vertical-align: middle;\n",
       "    }\n",
       "\n",
       "    .dataframe tbody tr th {\n",
       "        vertical-align: top;\n",
       "    }\n",
       "\n",
       "    .dataframe thead th {\n",
       "        text-align: right;\n",
       "    }\n",
       "</style>\n",
       "<table border=\"1\" class=\"dataframe\">\n",
       "  <thead>\n",
       "    <tr style=\"text-align: right;\">\n",
       "      <th></th>\n",
       "      <th>user</th>\n",
       "      <th>item</th>\n",
       "      <th>score</th>\n",
       "      <th>user_index</th>\n",
       "      <th>item_index</th>\n",
       "    </tr>\n",
       "  </thead>\n",
       "  <tbody>\n",
       "    <tr>\n",
       "      <th>0</th>\n",
       "      <td>Kevin</td>\n",
       "      <td>出口</td>\n",
       "      <td>10</td>\n",
       "      <td>0</td>\n",
       "      <td>0</td>\n",
       "    </tr>\n",
       "    <tr>\n",
       "      <th>1</th>\n",
       "      <td>Kevin</td>\n",
       "      <td>麋途</td>\n",
       "      <td>6</td>\n",
       "      <td>0</td>\n",
       "      <td>2</td>\n",
       "    </tr>\n",
       "    <tr>\n",
       "      <th>2</th>\n",
       "      <td>Tom</td>\n",
       "      <td>馬戲團運動</td>\n",
       "      <td>9</td>\n",
       "      <td>1</td>\n",
       "      <td>1</td>\n",
       "    </tr>\n",
       "    <tr>\n",
       "      <th>3</th>\n",
       "      <td>Tom</td>\n",
       "      <td>沒名字的人類</td>\n",
       "      <td>3</td>\n",
       "      <td>1</td>\n",
       "      <td>5</td>\n",
       "    </tr>\n",
       "    <tr>\n",
       "      <th>4</th>\n",
       "      <td>Mary</td>\n",
       "      <td>馬戲團運動</td>\n",
       "      <td>7</td>\n",
       "      <td>2</td>\n",
       "      <td>1</td>\n",
       "    </tr>\n",
       "    <tr>\n",
       "      <th>5</th>\n",
       "      <td>Jane</td>\n",
       "      <td>天黑</td>\n",
       "      <td>8</td>\n",
       "      <td>3</td>\n",
       "      <td>3</td>\n",
       "    </tr>\n",
       "    <tr>\n",
       "      <th>6</th>\n",
       "      <td>Chris</td>\n",
       "      <td>黃昏市長</td>\n",
       "      <td>6</td>\n",
       "      <td>4</td>\n",
       "      <td>4</td>\n",
       "    </tr>\n",
       "    <tr>\n",
       "      <th>7</th>\n",
       "      <td>Joy</td>\n",
       "      <td>麋途</td>\n",
       "      <td>4</td>\n",
       "      <td>5</td>\n",
       "      <td>2</td>\n",
       "    </tr>\n",
       "    <tr>\n",
       "      <th>8</th>\n",
       "      <td>Bird</td>\n",
       "      <td>出口</td>\n",
       "      <td>5</td>\n",
       "      <td>6</td>\n",
       "      <td>0</td>\n",
       "    </tr>\n",
       "  </tbody>\n",
       "</table>\n",
       "</div>"
      ],
      "text/plain": [
       "    user    item  score  user_index  item_index\n",
       "0  Kevin      出口     10           0           0\n",
       "1  Kevin      麋途      6           0           2\n",
       "2    Tom   馬戲團運動      9           1           1\n",
       "3    Tom  沒名字的人類      3           1           5\n",
       "4   Mary   馬戲團運動      7           2           1\n",
       "5   Jane      天黑      8           3           3\n",
       "6  Chris    黃昏市長      6           4           4\n",
       "7    Joy      麋途      4           5           2\n",
       "8   Bird      出口      5           6           0"
      ]
     },
     "execution_count": 14,
     "metadata": {},
     "output_type": "execute_result"
    }
   ],
   "source": [
    "ex_.drop(['index_x' , 'index_y'] , axis = 1 , inplace = True)\n",
    "ex_"
   ]
  },
  {
   "cell_type": "code",
   "execution_count": 15,
   "metadata": {},
   "outputs": [
    {
     "data": {
      "text/plain": [
       "array([[10,  0,  6,  0,  0,  0],\n",
       "       [ 0,  9,  0,  0,  0,  3],\n",
       "       [ 0,  7,  0,  0,  0,  0],\n",
       "       [ 0,  0,  0,  8,  0,  0],\n",
       "       [ 0,  0,  0,  0,  6,  0],\n",
       "       [ 0,  0,  4,  0,  0,  0],\n",
       "       [ 5,  0,  0,  0,  0,  0]], dtype=int64)"
      ]
     },
     "execution_count": 15,
     "metadata": {},
     "output_type": "execute_result"
    }
   ],
   "source": [
    "sparse_matrix"
   ]
  },
  {
   "cell_type": "markdown",
   "metadata": {},
   "source": [
    "在SVD中所需的數據是用戶對商品的打分，但是現在的數據集中只有用戶播放歌曲的情況並沒有實際的分數，所以得自己來定義一下用戶對每個歌曲的評分值<br>\n",
    "如果一個用戶喜歡某個歌曲，那應該經常播放這個歌曲，相反如果不喜歡某個歌曲，那播放次數肯定就比較少<br>\n",
    "用戶對歌曲的分數 = 用戶播放該歌曲數量 / 該用戶播放總量"
   ]
  },
  {
   "cell_type": "code",
   "execution_count": 16,
   "metadata": {
    "ExecuteTime": {
     "end_time": "2017-09-26T05:35:54.570454Z",
     "start_time": "2017-09-26T05:35:47.751153Z"
    }
   },
   "outputs": [],
   "source": [
    "# 先根據用戶進行分組，在計算個別用戶分別的總播放量\n",
    "def func(series):\n",
    "    return series.sum()\n",
    "triplet_dataset_sub_song_merged_sum_df = triplet_dataset_sub_song_merged[['user' , 'listen_count']].groupby('user').apply(lambda x : func(x['listen_count']))\n",
    "triplet_dataset_sub_song_merged_sum_df = triplet_dataset_sub_song_merged_sum_df.reset_index()\n",
    "triplet_dataset_sub_song_merged_sum_df.rename(columns = {0 : 'total_listen_count'} , inplace = True)\n",
    "\n",
    "triplet_dataset_sub_song_merged = pd.merge(triplet_dataset_sub_song_merged , \n",
    "                                           triplet_dataset_sub_song_merged_sum_df , \n",
    "                                           how = 'left' , \n",
    "                                           left_on = 'user' ,\n",
    "                                           right_on = 'user')\n",
    "\n",
    "# 計算用戶對自己聽過的歌曲的分數\n",
    "triplet_dataset_sub_song_merged['score'] = triplet_dataset_sub_song_merged['listen_count'] / triplet_dataset_sub_song_merged['total_listen_count']"
   ]
  },
  {
   "cell_type": "code",
   "execution_count": 17,
   "metadata": {},
   "outputs": [
    {
     "data": {
      "text/plain": [
       "<99996x30000 sparse matrix of type '<class 'numpy.float64'>'\n",
       "\twith 10774558 stored elements in COOrdinate format>"
      ]
     },
     "execution_count": 17,
     "metadata": {},
     "output_type": "execute_result"
    }
   ],
   "source": [
    "# 決定user的index\n",
    "user = triplet_dataset_sub_song_merged['user'].drop_duplicates().reset_index()\n",
    "user['user_index'] = user.index\n",
    "\n",
    "# 決定song的index\n",
    "song = triplet_dataset_sub_song_merged['song'].drop_duplicates().reset_index()\n",
    "song['song_index'] = song.index\n",
    "\n",
    "# 製作row為user、column為song的矩陣\n",
    "triplet_dataset_sub_song_merged_ = pd.merge(left = triplet_dataset_sub_song_merged , right = user , on = 'user'  , how = 'left')\n",
    "triplet_dataset_sub_song_merged_ = pd.merge(left = triplet_dataset_sub_song_merged_ , right = song, on = 'song' , how = 'left')\n",
    "score = np.array(triplet_dataset_sub_song_merged_['score'])\n",
    "user_index = np.array(triplet_dataset_sub_song_merged_['user_index'])\n",
    "song_index = np.array(triplet_dataset_sub_song_merged_['song_index'])\n",
    "sparse_matrix = coo_matrix((score , (user_index , song_index)) , dtype = float)\n",
    "sparse_matrix"
   ]
  },
  {
   "cell_type": "markdown",
   "metadata": {},
   "source": [
    "### 使用SVD方法進行矩陣分解"
   ]
  },
  {
   "cell_type": "code",
   "execution_count": 31,
   "metadata": {},
   "outputs": [],
   "source": [
    "K = 50\n",
    "user_dim = sparse_matrix.shape[0]\n",
    "song_dim = sparse_matrix.shape[1]\n",
    "\n",
    "U , s , Vt = svds(sparse_matrix , K)\n",
    "\n",
    "dim = (len(s) , len(s))\n",
    "S = np.zeros(dim , dtype = np.float32)\n",
    "for i in range(0 , len(s)):\n",
    "    S[i , i] = mt.sqrt(s[i])\n",
    "\n",
    "U = csc_matrix(U , dtype = np.float32)\n",
    "S = csc_matrix(S , dtype = np.float32)\n",
    "Vt = csc_matrix(Vt , dtype = np.float32)"
   ]
  },
  {
   "cell_type": "markdown",
   "metadata": {},
   "source": [
    "在執行SVD的時候需要額外指定一個指標K值，其含義就是選擇前多少個特徵值來做近似代表，也就是S矩陣中的數量<br>\n",
    "如果K值較大整體的計算效率會慢一些但是會更接近真實結果，這個值還需要自己來衡量一下<br>\n",
    "\n",
    "這裡選擇K值等於50，，user_dim表示用戶的數目，其中song_dim表示歌曲的數目\n",
    "\n",
    "接下來需要選擇待測試用戶了 => user_list = [4 , 5 , 6 , 7 , 8]\n",
    "\n",
    "隨便選擇一些用戶就好，這裡表示用戶的索引編號，接下來需要對每一個用戶計算其對候選集中30000首歌曲的喜好程度，也就是估計他對這30000首歌的評分值應該等於多少，前面通過SVD矩陣分解已經計算所需各個小矩陣了，接下來把其還原回去即可"
   ]
  },
  {
   "cell_type": "code",
   "execution_count": 32,
   "metadata": {},
   "outputs": [],
   "source": [
    "recommend_num = 10 # 向用戶推薦的歌曲數目\n",
    "estimate_rate = np.zeros((user_dim , song_dim) , dtype = np.float16)\n",
    "recommend_index = np.zeros((user_dim , recommend_num) , dtype = np.float16)\n",
    "\n",
    "user_list = [4 , 5 , 6 , 7 , 8] # 待測試用戶\n",
    "for user in user_list:\n",
    "    score = U[user , :] * S * Vt\n",
    "    score = score.toarray()\n",
    "    estimate_rate[user , :] = score\n",
    "    # argsort() 返回的向量，第一個值是分數最低的index，最後一個值是分數最高的index\n",
    "    # 所以最後加上[::-1]做一個反轉的功能，使第一個值是分數最高的index，最後一個值是分數最低的index\n",
    "    recommend_index[user , :] = estimate_rate[user , :].argsort()[::-1][:recommend_num]"
   ]
  },
  {
   "cell_type": "code",
   "execution_count": 33,
   "metadata": {},
   "outputs": [
    {
     "name": "stdout",
     "output_type": "stream",
     "text": [
      "\n",
      "用戶 : 3f152d355d53865a2ca27ac5ceeffb7ebaea0a26\n",
      "==================================================\n",
      "1 . 推薦歌曲 : Fireflies  , 歌手 : Charttraxx Karaoke\n",
      "2 . 推薦歌曲 : Hey_ Soul Sister  , 歌手 : Train\n",
      "3 . 推薦歌曲 : OMG  , 歌手 : Usher featuring will.i.am\n",
      "4 . 推薦歌曲 : Lucky (Album Version)  , 歌手 : Jason Mraz & Colbie Caillat\n",
      "5 . 推薦歌曲 : Vanilla Twilight  , 歌手 : Owl City\n",
      "6 . 推薦歌曲 : Crumpshit  , 歌手 : Philippe Rochard\n",
      "7 . 推薦歌曲 : Billionaire [feat. Bruno Mars]  (Explicit Album Version)  , 歌手 : Travie McCoy\n",
      "8 . 推薦歌曲 : Love Story  , 歌手 : Taylor Swift\n",
      "9 . 推薦歌曲 : TULENLIEKKI  , 歌手 : M.A. Numminen\n",
      "10 . 推薦歌曲 : Use Somebody  , 歌手 : Kings Of Leon\n",
      "\n",
      "用戶 : 732f88be38fae217f8ab7e24c20dd072436e3e40\n",
      "==================================================\n",
      "1 . 推薦歌曲 : Sehr kosmisch  , 歌手 : Harmonia\n",
      "2 . 推薦歌曲 : Ain't Misbehavin  , 歌手 : Sam Cooke\n",
      "3 . 推薦歌曲 : Dog Days Are Over (Radio Edit)  , 歌手 : Florence + The Machine\n",
      "4 . 推薦歌曲 : Revelry  , 歌手 : Kings Of Leon\n",
      "5 . 推薦歌曲 : Undo  , 歌手 : BjÃ¶rk\n",
      "6 . 推薦歌曲 : Cosmic Love  , 歌手 : Florence + The Machine\n",
      "7 . 推薦歌曲 : Home  , 歌手 : Edward Sharpe & The Magnetic Zeros\n",
      "8 . 推薦歌曲 : You've Got The Love  , 歌手 : Florence + The Machine\n",
      "9 . 推薦歌曲 : Bring Me To Life  , 歌手 : Evanescence\n",
      "10 . 推薦歌曲 : Tighten Up  , 歌手 : The Black Keys\n",
      "\n",
      "用戶 : 1a849df9dabb15845eb932d46d81e2fd77176786\n",
      "==================================================\n",
      "1 . 推薦歌曲 : Crumpshit  , 歌手 : Philippe Rochard\n",
      "2 . 推薦歌曲 : Marry Me  , 歌手 : Train\n",
      "3 . 推薦歌曲 : Hey_ Soul Sister  , 歌手 : Train\n",
      "4 . 推薦歌曲 : Lucky (Album Version)  , 歌手 : Jason Mraz & Colbie Caillat\n",
      "5 . 推薦歌曲 : One On One  , 歌手 : the bird and the bee\n",
      "6 . 推薦歌曲 : I Never Told You  , 歌手 : Colbie Caillat\n",
      "7 . 推薦歌曲 : Canada  , 歌手 : Five Iron Frenzy\n",
      "8 . 推薦歌曲 : Fireflies  , 歌手 : Charttraxx Karaoke\n",
      "9 . 推薦歌曲 : TULENLIEKKI  , 歌手 : M.A. Numminen\n",
      "10 . 推薦歌曲 : Bring Me To Life  , 歌手 : Evanescence\n",
      "\n",
      "用戶 : b61afb42335287239bd40e1dea50d849cbf8a9a9\n",
      "==================================================\n",
      "1 . 推薦歌曲 : Behind The Sea [Live In Chicago]  , 歌手 : Panic At The Disco\n",
      "2 . 推薦歌曲 : The City Is At War (Album Version)  , 歌手 : Cobra Starship\n",
      "3 . 推薦歌曲 : Dead Souls  , 歌手 : Nine Inch Nails\n",
      "4 . 推薦歌曲 : Una Confusion  , 歌手 : LU\n",
      "5 . 推薦歌曲 : Home  , 歌手 : Edward Sharpe & The Magnetic Zeros\n",
      "6 . 推薦歌曲 : Climbing Up The Walls  , 歌手 : Radiohead\n",
      "7 . 推薦歌曲 : Tighten Up  , 歌手 : The Black Keys\n",
      "8 . 推薦歌曲 : Tive Sim  , 歌手 : Cartola\n",
      "9 . 推薦歌曲 : West One (Shine On Me)  , 歌手 : The Ruts\n",
      "10 . 推薦歌曲 : Cosmic Love  , 歌手 : Florence + The Machine\n",
      "\n",
      "用戶 : 3ff7a31452eeabd7a4e07f0d243c674e3d0adf46\n",
      "==================================================\n",
      "1 . 推薦歌曲 : Undo  , 歌手 : BjÃ¶rk\n",
      "2 . 推薦歌曲 : Canada  , 歌手 : Five Iron Frenzy\n",
      "3 . 推薦歌曲 : Better To Reign In Hell  , 歌手 : Cradle Of Filth\n",
      "4 . 推薦歌曲 : Unite (2009 Digital Remaster)  , 歌手 : Beastie Boys\n",
      "5 . 推薦歌曲 : Behind The Sea [Live In Chicago]  , 歌手 : Panic At The Disco\n",
      "6 . 推薦歌曲 : Rockin' Around The Christmas Tree  , 歌手 : Brenda Lee\n",
      "7 . 推薦歌曲 : Devil's Slide  , 歌手 : Joe Satriani\n",
      "8 . 推薦歌曲 : Revelry  , 歌手 : Kings Of Leon\n",
      "9 . 推薦歌曲 : 16 Candles  , 歌手 : The Crests\n",
      "10 . 推薦歌曲 : Catch You Baby (Steve Pitron & Max Sanna Radio Edit)  , 歌手 : Lonnie Gordon\n"
     ]
    }
   ],
   "source": [
    "for user in user_list:\n",
    "    user_id = triplet_dataset_sub_song_merged_[triplet_dataset_sub_song_merged_['user_index'] == user]['user'].iloc[0]\n",
    "    print('\\n用戶 : {}'. format(user_id))\n",
    "    print('=' * 50)\n",
    "    for i , index in enumerate(recommend_index[user , 0 : 10]):\n",
    "        song_info = triplet_dataset_sub_song_merged_[triplet_dataset_sub_song_merged_['song_index'] == index].drop_duplicates('song_index')\n",
    "        song_info = song_info[['title' , 'artist_name']]\n",
    "        print('{} . 推薦歌曲 : {}  , 歌手 : {}'.format(i + 1 , song_info['title'].iloc[0] , song_info['artist_name'].iloc[0]))"
   ]
  }
 ],
 "metadata": {
  "anaconda-cloud": {},
  "kernelspec": {
   "display_name": "Python 3",
   "language": "python",
   "name": "python3"
  },
  "language_info": {
   "codemirror_mode": {
    "name": "ipython",
    "version": 3
   },
   "file_extension": ".py",
   "mimetype": "text/x-python",
   "name": "python",
   "nbconvert_exporter": "python",
   "pygments_lexer": "ipython3",
   "version": "3.6.5"
  },
  "toc": {
   "nav_menu": {
    "height": "153px",
    "width": "160px"
   },
   "number_sections": true,
   "sideBar": true,
   "skip_h1_title": false,
   "toc_cell": true,
   "toc_position": {
    "height": "691px",
    "left": "0px",
    "right": "1405px",
    "top": "106px",
    "width": "303px"
   },
   "toc_section_display": "block",
   "toc_window_display": false
  }
 },
 "nbformat": 4,
 "nbformat_minor": 1
}
