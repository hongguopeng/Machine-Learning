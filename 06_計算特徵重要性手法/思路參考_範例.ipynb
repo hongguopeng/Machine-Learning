{
 "cells": [
  {
   "cell_type": "code",
   "execution_count": 1,
   "metadata": {},
   "outputs": [],
   "source": [
    "import pandas as pd\n",
    "import numpy as np\n",
    "from tqdm import tqdm "
   ]
  },
  {
   "cell_type": "markdown",
   "metadata": {},
   "source": [
    "### 資料讀檔&前處理"
   ]
  },
  {
   "cell_type": "code",
   "execution_count": 2,
   "metadata": {},
   "outputs": [
    {
     "data": {
      "text/html": [
       "<div>\n",
       "<style scoped>\n",
       "    .dataframe tbody tr th:only-of-type {\n",
       "        vertical-align: middle;\n",
       "    }\n",
       "\n",
       "    .dataframe tbody tr th {\n",
       "        vertical-align: top;\n",
       "    }\n",
       "\n",
       "    .dataframe thead th {\n",
       "        text-align: right;\n",
       "    }\n",
       "</style>\n",
       "<table border=\"1\" class=\"dataframe\">\n",
       "  <thead>\n",
       "    <tr style=\"text-align: right;\">\n",
       "      <th></th>\n",
       "      <th>Date</th>\n",
       "      <th>Time</th>\n",
       "      <th>CO(GT)</th>\n",
       "      <th>PT08.S1(CO)</th>\n",
       "      <th>NMHC(GT)</th>\n",
       "      <th>C6H6(GT)</th>\n",
       "      <th>PT08.S2(NMHC)</th>\n",
       "      <th>NOx(GT)</th>\n",
       "      <th>PT08.S3(NOx)</th>\n",
       "      <th>NO2(GT)</th>\n",
       "      <th>PT08.S4(NO2)</th>\n",
       "      <th>PT08.S5(O3)</th>\n",
       "      <th>T</th>\n",
       "      <th>RH</th>\n",
       "      <th>AH</th>\n",
       "    </tr>\n",
       "  </thead>\n",
       "  <tbody>\n",
       "    <tr>\n",
       "      <th>0</th>\n",
       "      <td>23587200.0</td>\n",
       "      <td>18</td>\n",
       "      <td>2</td>\n",
       "      <td>6</td>\n",
       "      <td>1360</td>\n",
       "      <td>150</td>\n",
       "      <td>11</td>\n",
       "      <td>9</td>\n",
       "      <td>1046</td>\n",
       "      <td>166</td>\n",
       "      <td>1056</td>\n",
       "      <td>113</td>\n",
       "      <td>1692</td>\n",
       "      <td>1268</td>\n",
       "      <td>13</td>\n",
       "    </tr>\n",
       "    <tr>\n",
       "      <th>1</th>\n",
       "      <td>23587200.0</td>\n",
       "      <td>19</td>\n",
       "      <td>2</td>\n",
       "      <td>1292</td>\n",
       "      <td>112</td>\n",
       "      <td>9</td>\n",
       "      <td>4</td>\n",
       "      <td>955</td>\n",
       "      <td>103</td>\n",
       "      <td>1174</td>\n",
       "      <td>92</td>\n",
       "      <td>1559</td>\n",
       "      <td>972</td>\n",
       "      <td>13</td>\n",
       "      <td>3</td>\n",
       "    </tr>\n",
       "    <tr>\n",
       "      <th>2</th>\n",
       "      <td>23587200.0</td>\n",
       "      <td>20</td>\n",
       "      <td>2</td>\n",
       "      <td>2</td>\n",
       "      <td>1402</td>\n",
       "      <td>88</td>\n",
       "      <td>9</td>\n",
       "      <td>0</td>\n",
       "      <td>939</td>\n",
       "      <td>131</td>\n",
       "      <td>1140</td>\n",
       "      <td>114</td>\n",
       "      <td>1555</td>\n",
       "      <td>1074</td>\n",
       "      <td>11</td>\n",
       "    </tr>\n",
       "    <tr>\n",
       "      <th>3</th>\n",
       "      <td>23587200.0</td>\n",
       "      <td>21</td>\n",
       "      <td>2</td>\n",
       "      <td>2</td>\n",
       "      <td>1376</td>\n",
       "      <td>80</td>\n",
       "      <td>9</td>\n",
       "      <td>2</td>\n",
       "      <td>948</td>\n",
       "      <td>172</td>\n",
       "      <td>1092</td>\n",
       "      <td>122</td>\n",
       "      <td>1584</td>\n",
       "      <td>1203</td>\n",
       "      <td>11</td>\n",
       "    </tr>\n",
       "    <tr>\n",
       "      <th>4</th>\n",
       "      <td>23587200.0</td>\n",
       "      <td>22</td>\n",
       "      <td>1</td>\n",
       "      <td>6</td>\n",
       "      <td>1272</td>\n",
       "      <td>51</td>\n",
       "      <td>6</td>\n",
       "      <td>5</td>\n",
       "      <td>836</td>\n",
       "      <td>131</td>\n",
       "      <td>1205</td>\n",
       "      <td>116</td>\n",
       "      <td>1490</td>\n",
       "      <td>1110</td>\n",
       "      <td>11</td>\n",
       "    </tr>\n",
       "  </tbody>\n",
       "</table>\n",
       "</div>"
      ],
      "text/plain": [
       "         Date  Time  CO(GT)  PT08.S1(CO)  NMHC(GT)  C6H6(GT)  PT08.S2(NMHC)  \\\n",
       "0  23587200.0    18       2            6      1360       150             11   \n",
       "1  23587200.0    19       2         1292       112         9              4   \n",
       "2  23587200.0    20       2            2      1402        88              9   \n",
       "3  23587200.0    21       2            2      1376        80              9   \n",
       "4  23587200.0    22       1            6      1272        51              6   \n",
       "\n",
       "   NOx(GT)  PT08.S3(NOx)  NO2(GT)  PT08.S4(NO2)  PT08.S5(O3)     T    RH  AH  \n",
       "0        9          1046      166          1056          113  1692  1268  13  \n",
       "1      955           103     1174            92         1559   972    13   3  \n",
       "2        0           939      131          1140          114  1555  1074  11  \n",
       "3        2           948      172          1092          122  1584  1203  11  \n",
       "4        5           836      131          1205          116  1490  1110  11  "
      ]
     },
     "execution_count": 2,
     "metadata": {},
     "output_type": "execute_result"
    }
   ],
   "source": [
    "air_quality = pd.read_csv('./AirQualityUCI.csv')\n",
    "air_quality['Date'] = pd.to_datetime(air_quality['Date'])\n",
    "air_quality['Date'] = (air_quality['Date'] - air_quality['Date'].min()).dt.total_seconds()\n",
    "air_quality['Time'] = [int(x[:2]) for x in air_quality['Time']]\n",
    "air_quality.head()"
   ]
  },
  {
   "cell_type": "code",
   "execution_count": 3,
   "metadata": {},
   "outputs": [],
   "source": [
    "labels = air_quality['PT08.S5(O3)'] # 若有做\"特徵重要性\"(step 4)再拿出來即可\n",
    "air_quality = air_quality.drop(columns = 'PT08.S5(O3)')"
   ]
  },
  {
   "cell_type": "code",
   "execution_count": 4,
   "metadata": {},
   "outputs": [],
   "source": [
    "# 決定是否把哪些feature刪掉的步驟->思路參考\n",
    "# 把每個步驟要刪掉的feature記錄在to_drop中\n",
    "data = air_quality\n",
    "to_drop = [] "
   ]
  },
  {
   "cell_type": "markdown",
   "metadata": {},
   "source": [
    "### step 1(feature的nan比例太高的刪掉)"
   ]
  },
  {
   "cell_type": "code",
   "execution_count": 5,
   "metadata": {},
   "outputs": [],
   "source": [
    "feature_nan = data.isnull().sum() / data.shape[0]\n",
    "feature_nan_drop = feature_nan[feature_nan > 0.5] # missing_threshold : 0.5\n",
    "to_drop.extend(list(feature_nan_drop.index))"
   ]
  },
  {
   "cell_type": "markdown",
   "metadata": {},
   "source": [
    "### step 2(feature只有1種的刪掉)"
   ]
  },
  {
   "cell_type": "code",
   "execution_count": 6,
   "metadata": {},
   "outputs": [],
   "source": [
    "feature_nunique = data.nunique()\n",
    "feature_nunique_drop = feature_nunique[feature_nunique == 1]\n",
    "to_drop.extend(list(feature_nunique_drop.index))"
   ]
  },
  {
   "cell_type": "markdown",
   "metadata": {},
   "source": [
    "### step 3(feature的相關係數太高的刪掉)"
   ]
  },
  {
   "cell_type": "code",
   "execution_count": 7,
   "metadata": {},
   "outputs": [],
   "source": [
    "corr_matrix = data.corr()\n",
    "feature_corr = pd.DataFrame(columns = [0 , 1 , 2])\n",
    "for i in range(0 , corr_matrix.shape[0]):\n",
    "    for j in range(i , corr_matrix.shape[1]):\n",
    "        if i != j:\n",
    "            if abs(corr_matrix.iloc[i , j]) > 0.7: # 將兩兩特徵相關係數大於0.7的特徵記錄起來\n",
    "                temp = [corr_matrix.index[i] , corr_matrix.columns[j] , corr_matrix.iloc[i , j]]\n",
    "                temp = pd.DataFrame(temp).T\n",
    "                feature_corr = pd.concat([feature_corr , temp] , axis = 0)\n",
    "\n",
    "# 感覺這個方法比較合理，總不能把feature刪太多\n",
    "if len(set(feature_corr.iloc[: , 0])) >= len(set(feature_corr.iloc[: , 1])):\n",
    "    to_drop.extend(list(set(feature_corr.iloc[: , 1]))) \n",
    "else:\n",
    "    to_drop.extend(list(set(feature_corr.iloc[: , 0]))) "
   ]
  },
  {
   "cell_type": "markdown",
   "metadata": {},
   "source": [
    "### step 4(用一個方法建模計算feature的重要性，feature重要性太低的刪掉)"
   ]
  },
  {
   "cell_type": "code",
   "execution_count": 8,
   "metadata": {},
   "outputs": [],
   "source": [
    "early_stopping = True\n",
    "task = 'regression'\n",
    "eval_metric = '12'\n",
    "n_iterations = 10\n",
    "\n",
    "if early_stopping and eval_metric is None:\n",
    "    raise ValueError('Eval metric must be provided with early stopping. Examples include auc for classification or l2 for regression.')   \n",
    "if labels is None:\n",
    "    raise ValueError('No training labels provided.')\n",
    "\n",
    "# One hot encoding\n",
    "features = pd.get_dummies(data)\n",
    "one_hot_features = []\n",
    "for column in features.columns:\n",
    "    if column not in list(data.columns):\n",
    "        one_hot_features.append(column) \n",
    "\n",
    "# 將One hot encoding的數據加入原本的數據中\n",
    "data_all = pd.concat([features[one_hot_features] , data] , axis = 1)\n",
    "\n",
    "# 拿到所有特徵的名字\n",
    "feature_names = list(features.columns)\n",
    "\n",
    "# 將數據轉換成array的形式\n",
    "features = np.array(features)\n",
    "labels = np.array(labels).reshape((-1, ))\n",
    "\n",
    "# 創造一個陣列來存feature_importance\n",
    "feature_importance_values = np.zeros(len(feature_names))"
   ]
  },
  {
   "cell_type": "code",
   "execution_count": 9,
   "metadata": {},
   "outputs": [
    {
     "name": "stderr",
     "output_type": "stream",
     "text": [
      "100%|██████████████████████████████████████████████████████████████████████████████████| 10/10 [00:25<00:00,  2.61s/it]\n"
     ]
    }
   ],
   "source": [
    "import lightgbm as lgb\n",
    "from sklearn.model_selection import train_test_split\n",
    "\n",
    "# 跑個n_iterations次，計算每一次數據的特徵重要性，再將這些特徵重要性做平均，決定那些特徵比較重要\n",
    "for i in tqdm(range(0 , n_iterations)):     \n",
    "\n",
    "    if task == 'classification':\n",
    "        model = lgb.LGBMClassifier(n_estimators = 1000 , learning_rate = 0.05 , verbose = 0)\n",
    "\n",
    "    elif task == 'regression':\n",
    "        model = lgb.LGBMRegressor(n_estimators = 1000 , learning_rate = 0.05 , verbose = 0)\n",
    "\n",
    "    else:\n",
    "        raise ValueError('Task must be either classification or regression')\n",
    "        \n",
    "    if early_stopping:       \n",
    "        train_features , valid_features , train_labels , valid_labels = train_test_split(features , labels , test_size = 0.15)\n",
    "\n",
    "        model.fit(train_features, \n",
    "                  train_labels, \n",
    "                  eval_metric = eval_metric ,\n",
    "                  eval_set = [(valid_features , valid_labels)],\n",
    "                  early_stopping_rounds = 100 , \n",
    "                  verbose = 0)\n",
    "        \n",
    "        # 刪除以下資料以免記憶體爆掉\n",
    "        del train_features, train_labels, valid_features, valid_labels\n",
    "        \n",
    "    else:\n",
    "        model.fit(features, labels)\n",
    "\n",
    "    # 將每一次的特徵重要性的數值加總再平均\n",
    "    feature_importance_values += model.feature_importances_ / n_iterations"
   ]
  },
  {
   "cell_type": "code",
   "execution_count": 10,
   "metadata": {},
   "outputs": [],
   "source": [
    "feature_importances = pd.DataFrame({'feature': feature_names , 'importance': feature_importance_values})\n",
    "\n",
    "# 依據特徵重要性形排列\n",
    "feature_importances = feature_importances.sort_values(by = 'importance', ascending = False).reset_index(drop = True)\n",
    "\n",
    "# 對特徵重要性的數值做Normalization\n",
    "feature_importances['normalized_importance'] = feature_importances['importance'] / feature_importances['importance'].sum()\n",
    "\n",
    "# 對特徵重要性做累加\n",
    "feature_importances['cumulative_importance'] = np.cumsum(feature_importances['normalized_importance'])\n",
    "\n",
    "# 將累計特徵重要性大於9成以上的刪除\n",
    "record_low_importance = feature_importances[feature_importances['cumulative_importance'] > 0.9]\n",
    "\n",
    "to_drop.extend(list(record_low_importance['feature']))\n",
    "\n",
    "# 最後to_drop就是刪掉的特徵\n",
    "to_drop = list(set(to_drop))"
   ]
  },
  {
   "cell_type": "markdown",
   "metadata": {},
   "source": [
    "### 展示要刪除的特徵"
   ]
  },
  {
   "cell_type": "code",
   "execution_count": 11,
   "metadata": {},
   "outputs": [
    {
     "data": {
      "text/plain": [
       "['C6H6(GT)',\n",
       " 'PT08.S1(CO)',\n",
       " 'NMHC(GT)',\n",
       " 'PT08.S3(NOx)',\n",
       " 'PT08.S2(NMHC)',\n",
       " 'NO2(GT)',\n",
       " 'PT08.S4(NO2)',\n",
       " 'CO(GT)',\n",
       " 'NOx(GT)']"
      ]
     },
     "execution_count": 11,
     "metadata": {},
     "output_type": "execute_result"
    }
   ],
   "source": [
    "to_drop"
   ]
  }
 ],
 "metadata": {
  "kernelspec": {
   "display_name": "Python 3",
   "language": "python",
   "name": "python3"
  },
  "language_info": {
   "codemirror_mode": {
    "name": "ipython",
    "version": 3
   },
   "file_extension": ".py",
   "mimetype": "text/x-python",
   "name": "python",
   "nbconvert_exporter": "python",
   "pygments_lexer": "ipython3",
   "version": "3.6.5"
  }
 },
 "nbformat": 4,
 "nbformat_minor": 2
}
