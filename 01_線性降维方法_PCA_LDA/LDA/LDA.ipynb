{
 "cells": [
  {
   "cell_type": "code",
   "execution_count": 1,
   "metadata": {},
   "outputs": [
    {
     "data": {
      "text/html": [
       "<div>\n",
       "<style scoped>\n",
       "    .dataframe tbody tr th:only-of-type {\n",
       "        vertical-align: middle;\n",
       "    }\n",
       "\n",
       "    .dataframe tbody tr th {\n",
       "        vertical-align: top;\n",
       "    }\n",
       "\n",
       "    .dataframe thead th {\n",
       "        text-align: right;\n",
       "    }\n",
       "</style>\n",
       "<table border=\"1\" class=\"dataframe\">\n",
       "  <thead>\n",
       "    <tr style=\"text-align: right;\">\n",
       "      <th></th>\n",
       "      <th>sepal_len</th>\n",
       "      <th>sepal_wid</th>\n",
       "      <th>petal_len</th>\n",
       "      <th>petal_wid</th>\n",
       "      <th>label</th>\n",
       "    </tr>\n",
       "  </thead>\n",
       "  <tbody>\n",
       "    <tr>\n",
       "      <th>0</th>\n",
       "      <td>4.9</td>\n",
       "      <td>3.0</td>\n",
       "      <td>1.4</td>\n",
       "      <td>0.2</td>\n",
       "      <td>Iris-setosa</td>\n",
       "    </tr>\n",
       "    <tr>\n",
       "      <th>1</th>\n",
       "      <td>4.7</td>\n",
       "      <td>3.2</td>\n",
       "      <td>1.3</td>\n",
       "      <td>0.2</td>\n",
       "      <td>Iris-setosa</td>\n",
       "    </tr>\n",
       "    <tr>\n",
       "      <th>2</th>\n",
       "      <td>4.6</td>\n",
       "      <td>3.1</td>\n",
       "      <td>1.5</td>\n",
       "      <td>0.2</td>\n",
       "      <td>Iris-setosa</td>\n",
       "    </tr>\n",
       "    <tr>\n",
       "      <th>3</th>\n",
       "      <td>5.0</td>\n",
       "      <td>3.6</td>\n",
       "      <td>1.4</td>\n",
       "      <td>0.2</td>\n",
       "      <td>Iris-setosa</td>\n",
       "    </tr>\n",
       "    <tr>\n",
       "      <th>4</th>\n",
       "      <td>5.4</td>\n",
       "      <td>3.9</td>\n",
       "      <td>1.7</td>\n",
       "      <td>0.4</td>\n",
       "      <td>Iris-setosa</td>\n",
       "    </tr>\n",
       "  </tbody>\n",
       "</table>\n",
       "</div>"
      ],
      "text/plain": [
       "   sepal_len  sepal_wid  petal_len  petal_wid        label\n",
       "0        4.9        3.0        1.4        0.2  Iris-setosa\n",
       "1        4.7        3.2        1.3        0.2  Iris-setosa\n",
       "2        4.6        3.1        1.5        0.2  Iris-setosa\n",
       "3        5.0        3.6        1.4        0.2  Iris-setosa\n",
       "4        5.4        3.9        1.7        0.4  Iris-setosa"
      ]
     },
     "execution_count": 1,
     "metadata": {},
     "output_type": "execute_result"
    }
   ],
   "source": [
    "import numpy as np\n",
    "import pandas as pd\n",
    "df = pd.read_csv('iris.data')\n",
    "df.columns = ['sepal_len' , 'sepal_wid' , 'petal_len' , 'petal_wid' , 'label']\n",
    "df.head()"
   ]
  },
  {
   "cell_type": "markdown",
   "metadata": {},
   "source": [
    "<img src=\"1.png\" alt=\"FAO\" width=\"690\" align=\"left\">"
   ]
  },
  {
   "cell_type": "code",
   "execution_count": 2,
   "metadata": {},
   "outputs": [],
   "source": [
    "from sklearn.preprocessing import LabelEncoder\n",
    "\n",
    "X = df.iloc[: , 0 : 4].values\n",
    "y = df.iloc[: , 4].values\n",
    "\n",
    "enc = LabelEncoder()\n",
    "label_encoder = enc.fit(y)\n",
    "y = label_encoder.transform(y) + 1\n",
    "\n",
    "label_dict = {1: 'Setosa' , 2: 'Versicolor' , 3:'Virginica'}"
   ]
  },
  {
   "cell_type": "markdown",
   "metadata": {},
   "source": [
    "<img src=\"2.png\" alt=\"FAO\" width=\"290\" align=\"left\">"
   ]
  },
  {
   "cell_type": "markdown",
   "metadata": {},
   "source": [
    "### 分別求三種鳶尾花數據在不同特征維度上的平均值向量 mi\n",
    "<img src=\"3.png\" alt=\"FAO\" width=\"390\">"
   ]
  },
  {
   "cell_type": "code",
   "execution_count": 3,
   "metadata": {},
   "outputs": [
    {
     "name": "stdout",
     "output_type": "stream",
     "text": [
      "Mean Vector label 1: [5.00408163 3.41632653 1.46530612 0.24489796]\n",
      "\n",
      "Mean Vector label 2: [5.936 2.77  4.26  1.326]\n",
      "\n",
      "Mean Vector label 3: [6.588 2.974 5.552 2.026]\n",
      "\n"
     ]
    }
   ],
   "source": [
    "mean_vectors = []\n",
    "for label in range(1 , 4):\n",
    "    mean_vectors.append(np.mean(X[y == label] , axis = 0))\n",
    "    print('Mean Vector label {}: {}\\n'.format(label , np.mean(X[y == label] , axis = 0)))"
   ]
  },
  {
   "cell_type": "markdown",
   "metadata": {},
   "source": [
    "### 計算兩個 4×4 維矩陣：類內散布矩陣和類間散布矩陣"
   ]
  },
  {
   "cell_type": "markdown",
   "metadata": {},
   "source": [
    "<img src=\"5.png\" alt=\"FAO\" width=\"330\" >"
   ]
  },
  {
   "cell_type": "code",
   "execution_count": 4,
   "metadata": {},
   "outputs": [
    {
     "name": "stdout",
     "output_type": "stream",
     "text": [
      "within-class Scatter Matrix : \n",
      "[[38.94718367 13.67513469 24.62013878  5.65982041]\n",
      " [13.67513469 17.02813878  8.1253551   4.91688163]\n",
      " [24.62013878  8.1253551  27.21582041  6.25072653]\n",
      " [ 5.65982041  4.91688163  6.25072653  6.17362449]]\n"
     ]
    }
   ],
   "source": [
    "S_W = np.zeros((4 , 4))\n",
    "for label , mean_vector in zip(range(1 , 4), mean_vectors):\n",
    "    mean_vector = mean_vector.reshape(4 , 1)\n",
    "    for data in X[y == label]:\n",
    "        data = data.reshape(4 , 1)\n",
    "        S_W += np.dot(data - mean_vector , (data - mean_vector).T)\n",
    "print('within-class Scatter Matrix : \\n{}'.format(S_W))"
   ]
  },
  {
   "cell_type": "markdown",
   "metadata": {},
   "source": [
    "圖片顯示計算類間散佈矩陣的作法為近似做法，而本程式作法為則是依據理論的算法"
   ]
  },
  {
   "cell_type": "markdown",
   "metadata": {},
   "source": [
    "<img src=\"6.png\" alt=\"FAO\" width=\"430\" >"
   ]
  },
  {
   "cell_type": "code",
   "execution_count": 5,
   "metadata": {},
   "outputs": [
    {
     "name": "stdout",
     "output_type": "stream",
     "text": [
      "between-class Scatter Matrix : \n",
      "[[ 3.80237324 -1.16992468  9.91980005  4.28501909]\n",
      " [-1.16992468  0.65500674 -3.35036992 -1.34377362]\n",
      " [ 9.91980005 -3.35036992 26.18064472 11.20456806]\n",
      " [ 4.28501909 -1.34377362 11.20456806  4.8311061 ]]\n"
     ]
    }
   ],
   "source": [
    "S_B = np.zeros((4 , 4)) \n",
    "for i in range(0 , 2):\n",
    "    for j in range(i + 1 , 3):\n",
    "        A = (mean_vectors[i] - mean_vectors[j]).reshape(4 , 1)\n",
    "        B = (mean_vectors[i] - mean_vectors[j]).reshape(1 , 4)\n",
    "        S_B += np.dot(A , B)\n",
    "print('between-class Scatter Matrix : \\n{}'.format(S_B))       "
   ]
  },
  {
   "cell_type": "markdown",
   "metadata": {},
   "source": [
    "-  <img src=\"7.png\" alt=\"FAO\" width=\"230\" >"
   ]
  },
  {
   "cell_type": "code",
   "execution_count": 6,
   "metadata": {},
   "outputs": [
    {
     "name": "stdout",
     "output_type": "stream",
     "text": [
      "matmul result :\n",
      "[[-0.18209868  0.06280083 -0.48191225 -0.20579477]\n",
      " [-0.33806644  0.12882217 -0.90703481 -0.38310916]\n",
      " [ 0.48283365 -0.17147056  1.28279557  0.54608937]\n",
      " [ 0.64141193 -0.20422408  1.68029062  0.72341858]]\n",
      " \n",
      "Eigenvectors :\n",
      "[[ 0.20512661 -0.00827236  0.41042957  0.41042957]\n",
      " [ 0.38714022 -0.58892737 -0.42106405 -0.42106405]\n",
      " [-0.54645287  0.25424869 -0.46792105 -0.46792105]\n",
      " [-0.71374701 -0.76710738  0.60407283  0.60407283]]\n",
      "\n",
      "\n",
      "Eigenvalues : [1.93630258e+00 1.66350618e-02 1.26995756e-16 1.26995756e-16]\n"
     ]
    }
   ],
   "source": [
    "S_W_inv = np.linalg.inv(S_W)\n",
    "eig_values , eig_vectors = np.linalg.eig(np.dot(S_W_inv , S_B))\n",
    "\n",
    "result = np.dot(S_W_inv , S_B)\n",
    "print('matmul result :\\n{}\\n '.format(result)) # 相乘結果不是實對稱矩陣，可能不會有實數特徵值與特徵向量\n",
    "print('Eigenvectors :\\n{}\\n'.format(eig_vectors.real))\n",
    "print('\\nEigenvalues : {}'.format(eig_values.real))"
   ]
  },
  {
   "cell_type": "markdown",
   "metadata": {},
   "source": [
    "### 特徵值與特徵向量：\n",
    "- 特徵向量：表示映射方向\n",
    "- 特徵值：特徵向量的重要程度"
   ]
  },
  {
   "cell_type": "code",
   "execution_count": 7,
   "metadata": {},
   "outputs": [],
   "source": [
    "eig_pairs = {}\n",
    "for i in range(0 , len(eig_values)):\n",
    "    eig_pairs[eig_values[i]] = eig_vectors[: , i]\n",
    "    \n",
    "# 按照eig_value由大排到小\n",
    "eig_pairs = sorted(eig_pairs.items() , key = lambda x: x[0] , reverse = True)\n",
    "\n",
    "# 計算各個eig_value所佔的權重\n",
    "total = sum(eig_values.real)\n",
    "\n",
    "eig_weight = []\n",
    "for i in range(0 , len(eig_values)):\n",
    "    eig_weight.append(eig_values.real[i] / total)\n",
    "\n",
    "# 對權重進行累加    \n",
    "cum_eig_weight = np.cumsum(eig_weight)"
   ]
  },
  {
   "cell_type": "code",
   "execution_count": 9,
   "metadata": {},
   "outputs": [
    {
     "data": {
      "image/png": "[encoded data removed]",
      "text/plain": [
       "<Figure size 720x576 with 1 Axes>"
      ]
     },
     "metadata": {
      "needs_background": "light"
     },
     "output_type": "display_data"
    }
   ],
   "source": [
    "from matplotlib import pyplot as plt\n",
    "\n",
    "plt.figure(figsize = (10 , 8))\n",
    "\n",
    "plt.bar(range(4) , \n",
    "        np.array(eig_weight) * 100 , \n",
    "        alpha = 0.5 , \n",
    "        align = 'center',\n",
    "        label = 'individual explained variance')\n",
    "\n",
    "for a , b in zip(range(4) , np.array(eig_weight) * 100):  \n",
    "    plt.text(a , b + 0.005 , '{:.2f} %'.format(b), ha = 'center' , va = 'bottom' , fontsize = 10) \n",
    "\n",
    "plt.step(range(4) ,\n",
    "         np.array(cum_eig_weight) * 100 ,\n",
    "         where = 'mid' ,\n",
    "         label = 'cumulative explained variance')\n",
    "\n",
    "plt.ylabel('Explained variance ratio')\n",
    "plt.xlabel('Principal components')\n",
    "plt.legend(loc = 'best')\n",
    "plt.tight_layout()\n",
    "plt.show()"
   ]
  },
  {
   "cell_type": "code",
   "execution_count": 10,
   "metadata": {},
   "outputs": [
    {
     "name": "stdout",
     "output_type": "stream",
     "text": [
      "Matrix W : \n",
      "[[ 0.20512661 -0.00827236]\n",
      " [ 0.38714022 -0.58892737]\n",
      " [-0.54645287  0.25424869]\n",
      " [-0.71374701 -0.76710738]]\n",
      "\n",
      "Transform X : \n",
      "[[ 1.25875762 -1.60478997]\n",
      " [ 1.34980563 -1.74634585]\n",
      " [ 1.18128838 -1.63577614]\n",
      " [ 1.51155442 -1.95897363]\n",
      " [ 1.40306187 -2.21610766]\n",
      " [ 1.28070103 -1.91458995]\n",
      " [ 1.37948109 -1.81576329]\n",
      " [ 1.1174803  -1.54176106]\n",
      " [ 1.31420106 -1.56154711]\n",
      " [ 1.5776738  -1.99575044]\n",
      " [ 1.28381048 -1.78868395]\n",
      " [ 1.30961966 -1.527252  ]\n",
      " [ 1.37099222 -1.59939043]\n",
      " [ 1.93980237 -2.2520122 ]\n",
      " [ 1.76746053 -2.56390279]\n",
      " [ 1.62164301 -2.31780713]\n",
      " [ 1.42197836 -1.97761887]\n",
      " [ 1.49726053 -2.08298589]\n",
      " [ 1.48347514 -2.12887221]\n",
      " [ 1.35224116 -1.7682225 ]\n",
      " [ 1.37338641 -2.14669021]\n",
      " [ 1.64808492 -2.05736416]\n",
      " [ 1.03786505 -1.93698026]\n",
      " [ 1.11987462 -1.71240934]\n",
      " [ 1.16997971 -1.55476747]\n",
      " [ 1.1820864  -1.9437599 ]\n",
      " [ 1.45922043 -1.8763105 ]\n",
      " [ 1.4751517  -1.84284263]\n",
      " [ 1.18586977 -1.67007124]\n",
      " [ 1.16766841 -1.61200574]\n",
      " [ 1.31878233 -1.97249371]\n",
      " [ 1.76287926 -2.15295618]\n",
      " [ 1.84640185 -2.31646623]\n",
      " [ 1.31420106 -1.56154711]\n",
      " [ 1.4659889  -1.77425242]\n",
      " [ 1.63004899 -1.92964194]\n",
      " [ 1.31420106 -1.56154711]\n",
      " [ 1.21083961 -1.62607866]\n",
      " [ 1.39999375 -1.81659053]\n",
      " [ 1.45611098 -2.0022165 ]\n",
      " [ 0.88897941 -1.29136748]\n",
      " [ 1.28826765 -1.74386414]\n",
      " [ 1.07805102 -2.15607411]\n",
      " [ 1.19351929 -2.10388347]\n",
      " [ 1.16687026 -1.68067348]\n",
      " [ 1.50020455 -2.02673661]\n",
      " [ 1.27464769 -1.72009374]\n",
      " [ 1.55716114 -1.99492321]\n",
      " [ 1.39541235 -1.78229542]\n",
      " [-0.89283932 -1.82145558]\n",
      " [-0.97799941 -1.94405264]\n",
      " [-1.13273128 -1.78759661]\n",
      " [-1.09506372 -1.38027576]\n",
      " [-1.16698813 -1.68388406]\n",
      " [-1.13369473 -1.54926957]\n",
      " [-1.14046333 -2.02797915]\n",
      " [-0.58278456 -1.38204695]\n",
      " [-0.96501204 -1.59018256]\n",
      " [-1.01847503 -1.71550061]\n",
      " [-0.82641856 -1.0964535 ]\n",
      " [-0.9940549  -1.8984056 ]\n",
      " [-0.81709034 -1.09538699]\n",
      " [-1.19359533 -1.63733225]\n",
      " [-0.62368578 -1.83615889]\n",
      " [-0.82915547 -1.83635575]\n",
      " [-1.21952874 -1.81964928]\n",
      " [-0.71919084 -1.36277133]\n",
      " [-1.40616496 -1.3534708 ]\n",
      " [-0.79972833 -1.37089186]\n",
      " [-1.45862268 -2.09377407]\n",
      " [-0.77841765 -1.67970286]\n",
      " [-1.48809138 -1.42927677]\n",
      " [-1.08955996 -1.42501804]\n",
      " [-0.84210151 -1.6648027 ]\n",
      " [-0.88838215 -1.77663577]\n",
      " [-1.14336602 -1.5588053 ]\n",
      " [-1.40986531 -1.85504601]\n",
      " [-1.17619212 -1.76406549]\n",
      " [-0.4505458  -1.45560057]\n",
      " [-0.80430973 -1.33659676]\n",
      " [-0.67828974 -1.28531089]\n",
      " [-0.75264967 -1.56704254]\n",
      " [-1.65286659 -1.57044154]\n",
      " [-1.26055407 -1.81799481]\n",
      " [-1.05399671 -2.13523991]\n",
      " [-1.06446603 -1.83679188]\n",
      " [-1.14954359 -1.28519417]\n",
      " [-0.8581982  -1.76792728]\n",
      " [-1.01763568 -1.49806123]\n",
      " [-1.1261281  -1.37854376]\n",
      " [-1.10023603 -1.72164986]\n",
      " [-0.84600898 -1.48272494]\n",
      " [-0.60098592 -1.32398145]\n",
      " [-1.02898555 -1.5658242 ]\n",
      " [-0.82095612 -1.66661891]\n",
      " [-0.93104484 -1.68443691]\n",
      " [-0.88312683 -1.66314822]\n",
      " [-0.41048406 -1.5955795 ]\n",
      " [-0.91511358 -1.65096905]\n",
      " [-2.49322436 -2.38785249]\n",
      " [-1.90801601 -1.79891928]\n",
      " [-2.10512105 -1.93637408]\n",
      " [-1.9298764  -1.71700586]\n",
      " [-2.24492643 -2.03354628]\n",
      " [-2.38507475 -1.76253618]\n",
      " [-1.69943688 -1.67281642]\n",
      " [-2.10726679 -1.54730413]\n",
      " [-2.11197241 -1.43389411]\n",
      " [-2.24711363 -2.54655096]\n",
      " [-1.64223198 -2.17588436]\n",
      " [-1.89423062 -1.75303296]\n",
      " [-1.94807789 -2.03559185]\n",
      " [-2.02268613 -1.78244218]\n",
      " [-2.22617549 -2.24136571]\n",
      " [-1.98615931 -2.3543396 ]\n",
      " [-1.79549177 -1.80297793]\n",
      " [-2.1808699  -2.28579118]\n",
      " [-2.82610344 -1.60493934]\n",
      " [-1.72041671 -1.22469199]\n",
      " [-2.10217715 -2.2567763 ]\n",
      " [-1.87241144 -1.98371802]\n",
      " [-2.42526072 -1.54344234]\n",
      " [-1.62478743 -1.77719446]\n",
      " [-1.96173905 -2.16059309]\n",
      " [-1.84770153 -1.79942971]\n",
      " [-1.55194079 -1.86068483]\n",
      " [-1.54967069 -1.9522182 ]\n",
      " [-2.16220186 -1.88907257]\n",
      " [-1.6730896  -1.5790725 ]\n",
      " [-2.08755228 -1.61679911]\n",
      " [-1.83315932 -2.21029879]\n",
      " [-2.23357656 -1.9657833 ]\n",
      " [-1.48123988 -1.55510525]\n",
      " [-1.80154498 -1.23183022]\n",
      " [-2.23408506 -2.04390924]\n",
      " [-2.16455449 -2.47173397]\n",
      " [-1.7772904  -1.86104343]\n",
      " [-1.51553806 -1.97681583]\n",
      " [-1.83420592 -2.12073669]\n",
      " [-2.19864591 -2.2983647 ]\n",
      " [-1.81301946 -2.35043277]\n",
      " [-1.90801601 -1.79891928]\n",
      " [-2.23198039 -2.20509933]\n",
      " [-2.24723786 -2.46743604]\n",
      " [-1.94740409 -2.2644607 ]\n",
      " [-1.82823546 -1.71069486]\n",
      " [-1.77430531 -2.03267401]\n",
      " [-2.00440188 -2.44504573]\n",
      " [-1.69998658 -1.89971399]]\n"
     ]
    }
   ],
   "source": [
    "# 取最大與次大的eig_value所對應的eig_vecctor，對X作線性變換\n",
    "\n",
    "matrix_w = np.hstack((eig_pairs[0][1].real.reshape(4 , 1),\n",
    "                      eig_pairs[1][1].real.reshape(4 , 1)))\n",
    "print('Matrix W : \\n{}\\n'.format(matrix_w))\n",
    "\n",
    "transform_X = X.dot(matrix_w)\n",
    "print('Transform X : \\n{}'.format(transform_X))"
   ]
  },
  {
   "cell_type": "code",
   "execution_count": 11,
   "metadata": {},
   "outputs": [
    {
     "data": {
      "text/plain": [
       "<matplotlib.legend.Legend at 0x21fe459a278>"
      ]
     },
     "execution_count": 11,
     "metadata": {},
     "output_type": "execute_result"
    },
    {
     "data": {
      "image/png": "[encoded data removed]",
      "text/plain": [
       "<Figure size 720x432 with 1 Axes>"
      ]
     },
     "metadata": {
      "needs_background": "light"
     },
     "output_type": "display_data"
    }
   ],
   "source": [
    "fig , ax = plt.subplots(1 , 1 , figsize = (10 , 6))\n",
    "\n",
    "for lab , col in zip([1, 2 , 3] , ['blue', 'red', 'green']):\n",
    "     ax.scatter(transform_X[y == lab , 0] ,\n",
    "                transform_X[y == lab , 1] ,\n",
    "                label = label_dict[lab] ,\n",
    "                c = col ,\n",
    "                edgecolor = 'black')\n",
    "ax.set_xlabel('LD1')\n",
    "ax.set_ylabel('LD2')\n",
    "ax.set_title('LDA : Iris projection onto the first 2 linear discriminants')\n",
    "ax.legend(loc = 'best')"
   ]
  },
  {
   "cell_type": "markdown",
   "metadata": {},
   "source": [
    "對比理論算出來的LDA降維結果與sklearn的LDA結果"
   ]
  },
  {
   "cell_type": "code",
   "execution_count": 12,
   "metadata": {},
   "outputs": [],
   "source": [
    "from sklearn.discriminant_analysis import LinearDiscriminantAnalysis as LDA\n",
    "\n",
    "# sklearn的LDA\n",
    "sklearn_lda = LDA(n_components = 2)\n",
    "transform_X_sklearn_lda = sklearn_lda.fit_transform(X , y)"
   ]
  },
  {
   "cell_type": "code",
   "execution_count": 13,
   "metadata": {},
   "outputs": [
    {
     "data": {
      "text/plain": [
       "<matplotlib.legend.Legend at 0x21fe4cfcd68>"
      ]
     },
     "execution_count": 13,
     "metadata": {},
     "output_type": "execute_result"
    },
    {
     "data": {
      "image/png": "[encoded data removed]",
      "text/plain": [
       "<Figure size 1440x432 with 2 Axes>"
      ]
     },
     "metadata": {
      "needs_background": "light"
     },
     "output_type": "display_data"
    }
   ],
   "source": [
    "fig , ax = plt.subplots(1 , 2 , figsize = (20 , 6))\n",
    "\n",
    "# 理論算出來的LDA降維結果\n",
    "for lab , col in zip([1, 2 , 3] , ['blue', 'red', 'green']):\n",
    "     ax[0].scatter(transform_X[y == lab , 0] ,\n",
    "                transform_X[y == lab , 1] ,\n",
    "                label = label_dict[lab] ,\n",
    "                c = col ,\n",
    "               edgecolor = 'black')\n",
    "ax[0].set_xlabel('LD1')\n",
    "ax[0].set_ylabel('LD2')\n",
    "ax[0].set_title('LDA : Iris projection onto the first 2 linear discriminants')\n",
    "ax[0].legend(loc = 'best')\n",
    "\n",
    "# sklearn的LDA結果\n",
    "for lab , col in zip([1, 2 , 3] , ['blue', 'red', 'green']):\n",
    "     ax[1].scatter(transform_X_sklearn_lda[y == lab , 0] ,\n",
    "                transform_X_sklearn_lda[y == lab , 1] ,\n",
    "                label = label_dict[lab] ,\n",
    "                c = col ,\n",
    "                edgecolor = 'black')\n",
    "ax[1].set_xlabel('LD1')\n",
    "ax[1].set_ylabel('LD2')\n",
    "ax[1].set_title('Scikit-Learn LDA : Iris projection onto the first 2 linear discriminants')\n",
    "ax[1].legend(loc = 'best')"
   ]
  }
 ],
 "metadata": {
  "anaconda-cloud": {},
  "kernelspec": {
   "display_name": "Python 3",
   "language": "python",
   "name": "python3"
  },
  "language_info": {
   "codemirror_mode": {
    "name": "ipython",
    "version": 3
   },
   "file_extension": ".py",
   "mimetype": "text/x-python",
   "name": "python",
   "nbconvert_exporter": "python",
   "pygments_lexer": "ipython3",
   "version": "3.6.5"
  }
 },
 "nbformat": 4,
 "nbformat_minor": 1
}
